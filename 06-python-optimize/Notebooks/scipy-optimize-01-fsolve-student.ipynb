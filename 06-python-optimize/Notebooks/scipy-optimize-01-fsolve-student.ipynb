{
 "cells": [
  {
   "cell_type": "markdown",
   "metadata": {},
   "source": [
    "# A very standard optimization problem\n",
    "\n",
    "It feels like ever since I was a economics baby we saw this problem:\n",
    "\n",
    "\\begin{aligned}\n",
    "max \\, u(x_1, x_2) &= x_1^{\\alpha}x_2^{\\beta} \\\\\n",
    "\\text{subject to} \\\\\n",
    "&p_1 x_1 + p_2 x_2 = m\n",
    "\\end{aligned}\n",
    "\n",
    "So let's do this on a computer.\n",
    "\n",
    "We will solve (for now) using the first order conditions:\n",
    "\n",
    "\\begin{aligned}\n",
    "\\alpha x_1^{\\alpha-1} x_2^{\\beta}  - \\lambda p_1 &= 0 \\\\\n",
    "\\beta x_1^{\\alpha} x_2^{\\beta - 1}  - \\lambda p_2 &= 0 \\\\\n",
    "\\end{aligned}\n",
    "\n",
    "where $\\lambda$ is the Lagrange multiplier on the constraint\n",
    "\n",
    "$$\n",
    "p_1 x_1 + p_2 x_2 = m\n",
    "$$\n",
    "\n",
    "Let's load some packages:"
   ]
  },
  {
   "cell_type": "code",
   "execution_count": 13,
   "metadata": {
    "collapsed": true
   },
   "outputs": [],
   "source": [
    "import numpy as np\n",
    "from scipy.optimize import fsolve"
   ]
  },
  {
   "cell_type": "code",
   "execution_count": 14,
   "metadata": {
    "collapsed": true
   },
   "outputs": [],
   "source": [
    "utility_params = { 'alpha': 0.3,\n",
    "                    'beta': 0.7\n",
    "                    }"
   ]
  },
  {
   "cell_type": "code",
   "execution_count": 15,
   "metadata": {
    "collapsed": false
   },
   "outputs": [
    {
     "data": {
      "text/plain": [
       "0.3"
      ]
     },
     "execution_count": 15,
     "metadata": {},
     "output_type": "execute_result"
    }
   ],
   "source": [
    "utility_params['alpha']"
   ]
  },
  {
   "cell_type": "code",
   "execution_count": 16,
   "metadata": {
    "collapsed": true
   },
   "outputs": [],
   "source": [
    "budget_params = { 'price1': 1,\n",
    "                  'price2': 2,\n",
    "                  'income': 30\n",
    "                    }"
   ]
  },
  {
   "cell_type": "code",
   "execution_count": 17,
   "metadata": {
    "collapsed": true
   },
   "outputs": [],
   "source": [
    "def optimal_good1(quantity, utility_dict, budget_dict):\n",
    "    \"\"\"\n",
    "        WRITE SOME DOCS\n",
    "    \"\"\"\n",
    "    \n",
    "    # unpack the parameters\n",
    "    alpha   = utility_dict['alpha']\n",
    "    beta    = utility_dict['beta']\n",
    "    price_1 = budget_dict['price1']\n",
    "    \n",
    "    qty1  = quantity[0]\n",
    "    qty2  = quantity[1]\n",
    "    lmbda = quantity[2]\n",
    "    \n",
    "    marginal_utility = alpha * qty1**(alpha-1) * qty2**beta\n",
    "    \n",
    "    foc = marginal_utility - lmbda * price_1\n",
    "    \n",
    "    return foc"
   ]
  },
  {
   "cell_type": "code",
   "execution_count": 18,
   "metadata": {
    "collapsed": false
   },
   "outputs": [
    {
     "data": {
      "text/plain": [
       "-0.01264856218625876"
      ]
     },
     "execution_count": 18,
     "metadata": {},
     "output_type": "execute_result"
    }
   ],
   "source": [
    "optimal_good1(np.array([2,4,0.5]), utility_params, budget_params)"
   ]
  },
  {
   "cell_type": "code",
   "execution_count": 19,
   "metadata": {
    "collapsed": true
   },
   "outputs": [],
   "source": [
    "def optimal_good2(quantity, utility_dict, budget_dict):\n",
    "    \"\"\"\n",
    "        WRITE SOME DOCS\n",
    "    \"\"\"\n",
    "    \n",
    "    # unpack the parameters\n",
    "    alpha   = utility_dict['alpha']\n",
    "    beta    = utility_dict['beta']\n",
    "    price_2 = budget_dict['price2']\n",
    "    \n",
    "    qty1  = quantity[0]\n",
    "    qty2  = quantity[1]\n",
    "    lmbda = quantity[2]\n",
    "    \n",
    "    marginal_utility = beta * qty1**(alpha) * qty2**(beta - 1)\n",
    "    \n",
    "    foc = marginal_utility - lmbda * price_2\n",
    "    \n",
    "    return foc"
   ]
  },
  {
   "cell_type": "code",
   "execution_count": 20,
   "metadata": {
    "collapsed": true
   },
   "outputs": [],
   "source": [
    "def budget_constraint(quantity, budget_dict):\n",
    "    \"\"\"\n",
    "        WRITE DOCS\n",
    "    \"\"\"\n",
    "    \n",
    "    price_1 = budget_dict['price1']\n",
    "    price_2 = budget_dict['price2']\n",
    "    income  = budget_dict['income']\n",
    "    \n",
    "    qty1  = quantity[0]\n",
    "    qty2  = quantity[1]\n",
    "    \n",
    "    return price_1 * qty1 + price_2 * qty2 - income"
   ]
  },
  {
   "cell_type": "code",
   "execution_count": 21,
   "metadata": {
    "collapsed": true
   },
   "outputs": [],
   "source": [
    "def criterion(quantity, utility_dict, budget_dict):\n",
    "    \"\"\"\n",
    "        WRITE DOCS\n",
    "    \"\"\"\n",
    "    import numpy\n",
    "    \n",
    "    n_focs = quantity.size \n",
    "    foc_vector = numpy.full(n_focs, numpy.nan)\n",
    "    \n",
    "    foc_vector[0] = optimal_good1(quantity, utility_dict, budget_dict)\n",
    "    foc_vector[1] = optimal_good2(quantity, utility_dict, budget_dict)\n",
    "    foc_vector[2] = budget_constraint(quantity, budget_dict)\n",
    "    \n",
    "    return foc_vector"
   ]
  },
  {
   "cell_type": "code",
   "execution_count": 22,
   "metadata": {
    "collapsed": false
   },
   "outputs": [
    {
     "data": {
      "text/plain": [
       "array([-1.26485622e-02, -4.31423323e-01, -2.50000000e+01])"
      ]
     },
     "execution_count": 22,
     "metadata": {},
     "output_type": "execute_result"
    }
   ],
   "source": [
    "criterion(np.array([1,2,0.5]), utility_params, budget_params)"
   ]
  },
  {
   "cell_type": "markdown",
   "metadata": {},
   "source": [
    "# Solve for Optimal Qtys"
   ]
  },
  {
   "cell_type": "code",
   "execution_count": 23,
   "metadata": {
    "collapsed": false
   },
   "outputs": [
    {
     "data": {
      "text/plain": [
       "array([ 9.        , 10.5       ,  0.33418273])"
      ]
     },
     "execution_count": 23,
     "metadata": {},
     "output_type": "execute_result"
    }
   ],
   "source": [
    "params = (utility_params, budget_params)\n",
    "starting_vals = np.array([1.0,1.0,1.0])\n",
    "\n",
    "fsolve(criterion, starting_vals , args = params)"
   ]
  },
  {
   "cell_type": "code",
   "execution_count": null,
   "metadata": {
    "collapsed": true
   },
   "outputs": [],
   "source": []
  },
  {
   "cell_type": "code",
   "execution_count": null,
   "metadata": {
    "collapsed": true
   },
   "outputs": [],
   "source": []
  },
  {
   "cell_type": "code",
   "execution_count": null,
   "metadata": {
    "collapsed": true
   },
   "outputs": [],
   "source": []
  },
  {
   "cell_type": "markdown",
   "metadata": {},
   "source": [
    "## Challenge\n",
    "\n",
    "Another standard problem we throw at undergrads is a cost minimization problem for a firm:\n",
    "\n",
    "\\begin{align}\n",
    "min \\, c(x_1, x_2) &= w_1 x_1 + w_2 x_2 \\\\\n",
    "\\text{subject to} \\\\\n",
    "& x_1^{\\alpha}x_2^{\\beta} = y\n",
    "\\end{align}\n",
    "\n",
    "We will solve the problem using the first order conditions:\n",
    "\n",
    "\\begin{align}\n",
    "w1  - \\lambda \\alpha x_1^{\\alpha-1} x_2^{\\beta} &= 0 \\\\\n",
    "w2  - \\lambda \\beta x_1^{\\alpha} x_2^{\\beta - 1} &= 0 \\\\\n",
    "\\end{align}\n",
    "\n",
    "where $\\lambda$ is the Lagrange multiplier on the constraint\n",
    "\n",
    "$$\n",
    "x_1^{\\alpha}x_2^{\\beta} = y\n",
    "$$\n",
    "\n",
    "Solve this problem using `fsolve` for the parametrization $(\\alpha, \\beta) = (0.4, 0.5)$, $(w_1, w_2) = (3, 1)$ and $y=45$.\n",
    "\n",
    "(Note: I haven;t solved this myself)"
   ]
  },
  {
   "cell_type": "code",
   "execution_count": 24,
   "metadata": {
    "collapsed": true
   },
   "outputs": [],
   "source": [
    "# start coding here"
   ]
  }
 ],
 "metadata": {
  "anaconda-cloud": {},
  "kernelspec": {
   "display_name": "Python 3",
   "language": "python",
   "name": "python3"
  },
  "language_info": {
   "codemirror_mode": {
    "name": "ipython",
    "version": 3
   },
   "file_extension": ".py",
   "mimetype": "text/x-python",
   "name": "python",
   "nbconvert_exporter": "python",
   "pygments_lexer": "ipython3",
   "version": "3.11.1"
  }
 },
 "nbformat": 4,
 "nbformat_minor": 0
}
