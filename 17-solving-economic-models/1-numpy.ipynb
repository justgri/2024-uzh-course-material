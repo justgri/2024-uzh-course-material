{
 "cells": [
  {
   "cell_type": "markdown",
   "metadata": {},
   "source": [
    "# **Numpy Basics**\n",
    "To get started, install `numpy` using `pip` or `conda` package managers, or make sure that you have a recent version of numpy in your active Python environment."
   ]
  },
  {
   "cell_type": "code",
   "execution_count": 2,
   "metadata": {},
   "outputs": [],
   "source": [
    "# as usual, import the module\n",
    "import numpy as np # np is the standard name of numpy"
   ]
  },
  {
   "cell_type": "markdown",
   "metadata": {},
   "source": [
    "## 1. **Arrays**\n",
    "The fundamental object in numpy are numpy arrays, `np.array`s. They are iterable objects which behave much like lists. They can have many dimensions. Create an array as follows. "
   ]
  },
  {
   "cell_type": "code",
   "execution_count": 3,
   "metadata": {},
   "outputs": [
    {
     "name": "stdout",
     "output_type": "stream",
     "text": [
      "a = [1 2 3]\n",
      "A = [[1 2 3]\n",
      " [4 5 6]]\n"
     ]
    }
   ],
   "source": [
    "a = np.array([1, 2, 3]) # create a numpy array from a list\n",
    "A = np.array([[1, 2, 3], [4, 5, 6]]) # create a 2-d array from a list with two lists\n",
    "print(\"a = \", a, '\\n', \"A = \", A, sep=\"\") # extra bit of python: sep argument in print function defines the separating string"
   ]
  },
  {
   "cell_type": "code",
   "execution_count": 19,
   "metadata": {},
   "outputs": [
    {
     "name": "stdout",
     "output_type": "stream",
     "text": [
      "[1 2 3]\n"
     ]
    }
   ],
   "source": [
    "print(A[0, :])"
   ]
  },
  {
   "cell_type": "code",
   "execution_count": 18,
   "metadata": {},
   "outputs": [
    {
     "name": "stdout",
     "output_type": "stream",
     "text": [
      "0    1\n",
      "1    2\n",
      "2    3\n",
      "Name: 0, dtype: int32\n"
     ]
    }
   ],
   "source": [
    "import pandas as pd\n",
    "\n",
    "df = pd.DataFrame(A)\n",
    "# print(df)\n",
    "print(df.iloc[0, :])\n"
   ]
  },
  {
   "cell_type": "markdown",
   "metadata": {},
   "source": [
    "You cannot create numpy arrays from *any* kind of list. If your list contains integers and floats, integers will be 'up-cast' to the float datatype. If your list contains string, all else will be up-cast to string. What if it contains another datatype, like a list? Brace for an error."
   ]
  },
  {
   "cell_type": "code",
   "execution_count": 26,
   "metadata": {},
   "outputs": [
    {
     "name": "stdout",
     "output_type": "stream",
     "text": [
      "an up-cast array to float:  [1.2 1.  3. ]\n",
      "an up-cast array to str:  ['1.2' '1' '3']\n",
      "[0 1 2 list([[1, 2, 3]])]\n",
      "<class 'list'>\n"
     ]
    }
   ],
   "source": [
    "print(\"an up-cast array to float: \", np.array([1.2, 1, 3]))\n",
    "print(\"an up-cast array to str: \", np.array(['1.2', 1, 3]))\n",
    "\n",
    "# print(\"something illegal: \", np.array([1, 2, 3, [1, 2]]) ) # this will throw an error\n",
    "# but it works with dtype=object, although it kind of defeats the purpose of np.array efficiency \n",
    "my_list = [1, 2, 3]\n",
    "array = np.array([0, 1, 2, [my_list]], dtype=object)\n",
    "print(array)\n",
    "print(type(array[3]))\n"
   ]
  },
  {
   "cell_type": "markdown",
   "metadata": {},
   "source": [
    "**Exercise:** Use the 'dtype' argument to save the list `[1.9, 1, 3]` as a numpy array consisting of str/float/int/bool. What do you notice in the `int`-case? In the `bool`-case?"
   ]
  },
  {
   "cell_type": "code",
   "execution_count": 27,
   "metadata": {},
   "outputs": [
    {
     "name": "stdout",
     "output_type": "stream",
     "text": [
      "Begin with list:  [1.9, 1, 3]\n",
      "forced data-type to str:  [1 1 3]\n",
      "forced data-type to int:  ['1.9' '1' '3']\n",
      "forced data-type to int:  [ True  True  True]\n"
     ]
    }
   ],
   "source": [
    "print(\"Begin with list: \", [1.9, 1, 3])\n",
    "print(\"forced data-type to str: \", np.array([1.9, 1, 3], dtype=int))\n",
    "print(\"forced data-type to int: \", np.array([1.9, 1, 3], dtype=str))\n",
    "print(\"forced data-type to int: \", np.array([1.9, 1, 3], dtype=bool))"
   ]
  },
  {
   "cell_type": "markdown",
   "metadata": {},
   "source": [
    "***For Reference: Data Types***\n",
    "\n",
    "| Data type\t    | Description |\n",
    "|---------------|-------------|\n",
    "| ``bool_``     | Boolean (True or False) stored as a byte |\n",
    "| ``int_``      | Default integer type (same as C ``long``; normally either ``int64`` or ``int32``)| \n",
    "| ``intc``      | Identical to C ``int`` (normally ``int32`` or ``int64``)| \n",
    "| ``intp``      | Integer used for indexing (same as C ``ssize_t``; normally either ``int32`` or ``int64``)| \n",
    "| ``int8``      | Byte (-128 to 127)| \n",
    "| ``int16``     | Integer (-32768 to 32767)|\n",
    "| ``int32``     | Integer (-2147483648 to 2147483647)|\n",
    "| ``int64``     | Integer (-9223372036854775808 to 9223372036854775807)| \n",
    "| ``uint8``     | Unsigned integer (0 to 255)| \n",
    "| ``uint16``    | Unsigned integer (0 to 65535)| \n",
    "| ``uint32``    | Unsigned integer (0 to 4294967295)| \n",
    "| ``uint64``    | Unsigned integer (0 to 18446744073709551615)| \n",
    "| ``float_``    | Shorthand for ``float64``.| \n",
    "| ``float16``   | Half precision float: sign bit, 5 bits exponent, 10 bits mantissa| \n",
    "| ``float32``   | Single precision float: sign bit, 8 bits exponent, 23 bits mantissa| \n",
    "| ``float64``   | Double precision float: sign bit, 11 bits exponent, 52 bits mantissa| \n",
    "| ``complex_``  | Shorthand for ``complex128``.| \n",
    "| ``complex64`` | Complex number, represented by two 32-bit floats| \n",
    "| ``complex128``| Complex number, represented by two 64-bit floats| \n",
    "\n",
    "Source: Jake VanderPlas (2016), Python Data Science Handbook Essential Tools for Working with Data, O'Reilly Media."
   ]
  },
  {
   "cell_type": "markdown",
   "metadata": {},
   "source": [
    "**Exercise:** Explore the commands `np.zeros`, `np.ones`, `np.full` as follows:\n",
    "\n",
    "- instantiate a `(2, 3, 4)` array with each of the commands\n",
    "- select element `[0, 0, 2]` for each object and set its value to `100`\n",
    "- print each object.\n"
   ]
  },
  {
   "cell_type": "code",
   "execution_count": 186,
   "metadata": {},
   "outputs": [
    {
     "name": "stdout",
     "output_type": "stream",
     "text": [
      "Starting arrays\n",
      "[[[0. 0. 0. 0.]\n",
      "  [0. 0. 0. 0.]\n",
      "  [0. 0. 0. 0.]]\n",
      "\n",
      " [[0. 0. 0. 0.]\n",
      "  [0. 0. 0. 0.]\n",
      "  [0. 0. 0. 0.]]] \n",
      "  ---------------------------------------------------------------------- \n",
      " [[[1. 1. 1. 1.]\n",
      "  [1. 1. 1. 1.]\n",
      "  [1. 1. 1. 1.]]\n",
      "\n",
      " [[1. 1. 1. 1.]\n",
      "  [1. 1. 1. 1.]\n",
      "  [1. 1. 1. 1.]]] \n",
      "  ---------------------------------------------------------------------- \n",
      " [[[4 4 4 4]\n",
      "  [4 4 4 4]\n",
      "  [4 4 4 4]]\n",
      "\n",
      " [[4 4 4 4]\n",
      "  [4 4 4 4]\n",
      "  [4 4 4 4]]]\n",
      "Updated arrays\n",
      "[[[  0.   0. 100.   0.]\n",
      "  [  0.   0.   0.   0.]\n",
      "  [  0.   0.   0.   0.]]\n",
      "\n",
      " [[  0.   0.   0.   0.]\n",
      "  [  0.   0.   0.   0.]\n",
      "  [  0.   0.   0.   0.]]] \n",
      "  ---------------------------------------------------------------------- \n",
      " [[[  1.   1. 100.   1.]\n",
      "  [  1.   1.   1.   1.]\n",
      "  [  1.   1.   1.   1.]]\n",
      "\n",
      " [[  1.   1.   1.   1.]\n",
      "  [  1.   1.   1.   1.]\n",
      "  [  1.   1.   1.   1.]]] \n",
      "  ---------------------------------------------------------------------- \n",
      " [[[  4   4 100   4]\n",
      "  [  4   4   4   4]\n",
      "  [  4   4   4   4]]\n",
      "\n",
      " [[  4   4   4   4]\n",
      "  [  4   4   4   4]\n",
      "  [  4   4   4   4]]]\n"
     ]
    }
   ],
   "source": [
    "A = np.zeros(shape=(2, 3, 4))\n",
    "B = np.ones(shape=(2, 3, 4))\n",
    "C = np.full((2, 3, 4), 4) # different syntax for full\n",
    "\n",
    "print(\"Starting arrays\")\n",
    "print(A, \"\\n \", \"-\" * 70,  \"\\n\",  B, \"\\n \", \"-\" * 70,  \"\\n\", C) \n",
    "\n",
    "for x in [A, B, C]:\n",
    "    x[0,0,2] = 100\n",
    "\n",
    "print(\"Updated arrays\")\n",
    "# extra bit of python syntax:\n",
    "# \"abc\" * 10 produces a string which repeats \"abc\" 10 times.\n",
    "print(A, \"\\n \", \"-\" * 70,  \"\\n\",  B, \"\\n \", \"-\" * 70,  \"\\n\", C) "
   ]
  },
  {
   "cell_type": "markdown",
   "metadata": {},
   "source": [
    "Arrays have *methods* and *attributes* associated with them. An attribute is `dtype`, another attribute is `shape`. We will cover *methods* below."
   ]
  },
  {
   "cell_type": "code",
   "execution_count": 187,
   "metadata": {},
   "outputs": [
    {
     "name": "stdout",
     "output_type": "stream",
     "text": [
      "float64\n",
      "(2, 3, 4)\n"
     ]
    }
   ],
   "source": [
    "print(A.dtype, \"\\n\", A.shape, sep=\"\")"
   ]
  },
  {
   "cell_type": "markdown",
   "metadata": {},
   "source": [
    "The command `np.empty` instantiates an empty array, the command `np.empty_like` instantiates *some* array which has the same dimension and data type as a given array. Empty arrays are computationally less wasteful to produce than e.g. `np.zeros`, if one replaces the elements in some process anyways. The print function called on an empty array produces mostly garbage, don't worry about this.\n",
    "\n",
    "The following two are equivalent: `np.empty(shape = A.shape)` and `np.empty_like(A)`"
   ]
  },
  {
   "cell_type": "code",
   "execution_count": 185,
   "metadata": {},
   "outputs": [
    {
     "name": "stdout",
     "output_type": "stream",
     "text": [
      "[[[0. 0. 0. 0.]\n",
      "  [0. 0. 0. 0.]\n",
      "  [0. 0. 0. 0.]]\n",
      "\n",
      " [[0. 0. 0. 0.]\n",
      "  [0. 0. 0. 0.]\n",
      "  [0. 0. 0. 0.]]]\n",
      "float64\n",
      "(2, 3, 4)\n",
      "[[[0. 0. 0. 0.]\n",
      "  [0. 0. 0. 0.]\n",
      "  [0. 0. 0. 0.]]\n",
      "\n",
      " [[0. 0. 0. 0.]\n",
      "  [0. 0. 0. 0.]\n",
      "  [0. 0. 0. 0.]]]\n",
      "[[4.24399158e-314 8.48798317e-314 1.27319747e-313]\n",
      " [4.24399158e-313 8.48798317e-313 1.27319747e-312]]\n"
     ]
    }
   ],
   "source": [
    "A = np.zeros(shape=(2, 3, 4))\n",
    "print(A)\n",
    "print(np.empty(shape = A.shape).dtype)\n",
    "print(np.empty_like(A).shape)\n",
    "print(np.empty_like(A))\n",
    "print(np.empty((2, 3)))\n"
   ]
  },
  {
   "cell_type": "code",
   "execution_count": 244,
   "metadata": {},
   "outputs": [
    {
     "name": "stdout",
     "output_type": "stream",
     "text": [
      "[[1 2 3]\n",
      " [4 5 6]\n",
      " [7 8 9]]\n"
     ]
    },
    {
     "data": {
      "text/plain": [
       "array([1, 2, 3])"
      ]
     },
     "execution_count": 244,
     "metadata": {},
     "output_type": "execute_result"
    }
   ],
   "source": [
    "A = np.array([[1, 2, 3], [4, 5, 6], [7, 8 , 9]])\n",
    "# A = np.array([[1, 2, 3], [4, 5, 6]])\n",
    "\n",
    "# print(A)\n",
    "\n",
    "print(A)\n",
    "\n",
    "\n",
    "A[0]\n",
    "\n"
   ]
  },
  {
   "cell_type": "code",
   "execution_count": 221,
   "metadata": {},
   "outputs": [
    {
     "name": "stdout",
     "output_type": "stream",
     "text": [
      "[[[2074207175        477         79         15]\n",
      "  [        15         15         15         15]\n",
      "  [        15         71  859267397 1664497731]]\n",
      "\n",
      " [[ 859398982  912351809 1681088881 1630757492]\n",
      "  [ 825647731 1631151428  959788404 1681471554]\n",
      "  [ 875837248 1681470023  895759429  892548468]]]\n",
      "[[[2074207175        477         79         15]\n",
      "  [        15         15         15         15]\n",
      "  [        15         71  859267397 1664497731]]\n",
      "\n",
      " [[ 859398982  912351809 1681088881 1630757492]\n",
      "  [ 825647731 1631151428  959788404 1681471554]\n",
      "  [ 875837248 1681470023  895759429  892548468]]]\n",
      "[[[2074207176        478         80         16]\n",
      "  [        16         16         16         16]\n",
      "  [        16         72  859267398 1664497732]]\n",
      "\n",
      " [[ 859398983  912351810 1681088882 1630757493]\n",
      "  [ 825647732 1631151429  959788405 1681471555]\n",
      "  [ 875837249 1681470024  895759430  892548469]]]\n",
      "[[[ True  True  True  True]\n",
      "  [ True  True  True  True]\n",
      "  [ True  True  True  True]]\n",
      "\n",
      " [[ True  True  True  True]\n",
      "  [ True  True  True  True]\n",
      "  [ True  True  True  True]]]\n"
     ]
    }
   ],
   "source": [
    "print(np.empty_like(C))\n",
    "D = np.empty_like(C)\n",
    "\n",
    "print(D)\n",
    "\n",
    "E  = D + 1\n",
    "\n",
    "print(E)\n",
    "\n",
    "print(E>1)\n",
    "\n"
   ]
  },
  {
   "cell_type": "markdown",
   "metadata": {},
   "source": [
    "### Array Indexing\n",
    "Indexing arrays is easy and best done by example. We can select elements by regular indexing and Boolean indexing:"
   ]
  },
  {
   "cell_type": "code",
   "execution_count": 120,
   "metadata": {},
   "outputs": [
    {
     "name": "stdout",
     "output_type": "stream",
     "text": [
      "[[1 2 3]\n",
      " [4 5 6]]\n",
      "(2, 3)\n",
      "[[ 1  2  3]\n",
      " [40  5  6]]\n",
      "[[ 0  0  0]\n",
      " [40  5  6]]\n"
     ]
    }
   ],
   "source": [
    "A = np.matrix([[1, 2, 3], [4, 5, 6]]) # a matrix is basically a (n,m)-array\n",
    "print(A)\n",
    "print(A.shape)\n",
    "\n",
    "# indexing\n",
    "A[1,0] = A[1,0]*10 # multiply element [0,1] by 10\n",
    "print(A)\n",
    "\n",
    "# boolean mask\n",
    "A[A < 3.2] = 0 # replace all elements < 3.2 by 0\n",
    "print(A)\n"
   ]
  },
  {
   "cell_type": "markdown",
   "metadata": {},
   "source": [
    "Note that above we created a `np.matrix`, which is in many ways similar to a numpy array. However, it has some methods associated with it which are specific for linear algebra. Additionally, some operators are interpreted differently. The asterisk `*` defines element-wise multiplication for arrays, but always refers to matrix-multiplication for matrices. Furthermore, when making a boolean comparison where only matrices are involved, the returned object will be a _boolean matrix_ and also have matrix operations associated to it."
   ]
  },
  {
   "cell_type": "markdown",
   "metadata": {},
   "source": [
    "Note that the Boolean comparison is done element-wise on the elements of the matrix (here, `A`):"
   ]
  },
  {
   "cell_type": "code",
   "execution_count": 48,
   "metadata": {},
   "outputs": [
    {
     "data": {
      "text/plain": [
       "matrix([[False, False, False],\n",
       "        [ True, False, False]])"
      ]
     },
     "execution_count": 48,
     "metadata": {},
     "output_type": "execute_result"
    }
   ],
   "source": [
    "A > 10"
   ]
  },
  {
   "cell_type": "markdown",
   "metadata": {},
   "source": [
    "Finally, we consider the difference between *views* and *copies*:\n",
    "\n",
    "If we want to obtain a true copy of some array `A`, we need to enclose it in `np.copy`. Otherwise, we will obtain a view, which if called links back to the original object `A`."
   ]
  },
  {
   "cell_type": "code",
   "execution_count": 49,
   "metadata": {},
   "outputs": [
    {
     "name": "stdout",
     "output_type": "stream",
     "text": [
      "[0 0 0]\n",
      "[1 2 3]\n"
     ]
    }
   ],
   "source": [
    "A_copy = np.copy(A) # use the copy function to make A_copy, which DOES NOT change if we change A\n",
    "\n",
    "# however, this LHS variable will 'point' to the elements of A_copy\n",
    "# if we change stuff in A_copy[0,:], then the_first_row_of_A_copy changes\n",
    "the_first_row_of_A_copy = A_copy[0,:] \n",
    "print(the_first_row_of_A_copy)\n",
    "\n",
    "A_copy[0,:] = np.arange(1, 4, 1) # np.arange(start, end, step) creates a sequence from start to (excluding) end, in 'step'-size\n",
    "print(the_first_row_of_A_copy)\n"
   ]
  },
  {
   "cell_type": "markdown",
   "metadata": {},
   "source": [
    "We can slice arrays in any dimensions using the usual `i:j:k` syntax: select every `k`th element from `i` to `j`.\n",
    "\n",
    "**Exercise:** \n",
    "- Write a function `make_shift_mat` which takes a number $n$ and outputs the $n$ by $n$ *shift matrix* \n",
    "  \n",
    "$$\n",
    "\\begin{align*}\n",
    "S_n =  \\begin{pmatrix}\n",
    "0 & 1 & 0 & \\cdots & 0 \\\\\n",
    "0 & 0 & 1 & \\cdots & 0 \\\\\n",
    "\\vdots & \\vdots & \\vdots & \\ddots & \\vdots \\\\\n",
    "0 & 0 & 0 & \\cdots & 1 \\\\\n",
    "0 & 0 & 0 & \\cdots & 0\n",
    "\\end{pmatrix}\n",
    "\\end{align*}\n",
    "$$\n",
    "\n",
    "- Create another function `make_nilpotent_mat` which takes as argument a list of integers `[n_1, n_2, ..., n_m]` and outputs the a matrix which has $S_{n_1}, ..., S_{n_m}$ on the diagonal and is $0$ in all other entries.\n",
    "- Then create a function `get_np_index` which takes in a nilpotent matrix $N$ and calculates the (least) $k$, for which $N^k = \\mathbf{0}$ (the zero matrix)\n",
    "\n",
    "*HINT: To calculate a matrix product of two arrays `A, B` of conforming dimension, use `A@B`.*"
   ]
  },
  {
   "cell_type": "markdown",
   "metadata": {},
   "source": [
    "**Solution:**"
   ]
  },
  {
   "cell_type": "code",
   "execution_count": 184,
   "metadata": {},
   "outputs": [
    {
     "name": "stdout",
     "output_type": "stream",
     "text": [
      "[[ 1  2  3  4]\n",
      " [ 5  6  7  8]\n",
      " [ 9 10 11 12]\n",
      " [13 14 15 16]]\n",
      "[0 1 2]\n",
      "[1 2 3]\n",
      "[ 2  7 12]\n"
     ]
    }
   ],
   "source": [
<<<<<<< HEAD
    "n = 4\n",
    "numbers = np.arange(1, n*n + 1)\n",
    "square_matrix = numbers.reshape(n, n)\n",
    "\n",
    "# print(np.zeros((n, n), dtype=int))\n",
    "\n",
    "matrix = np.zeros((n, n), dtype=int)\n",
    "\n",
    "# print(np.arange(n-1))\n",
    "# print(np.arange(1, n))\n",
    "\n",
    "# print(matrix[np.arange(n-1), np.arange(1, n)])\n",
    "\n",
    "print(square_matrix)\n",
    "\n",
    "print(np.arange(n-1))\n",
    "print(np.arange(1, n))\n",
    "\n",
    "print(square_matrix[np.arange(n-1), np.arange(1, n)])\n",
    "\n"
   ]
  },
  {
   "cell_type": "code",
   "execution_count": 246,
   "metadata": {},
   "outputs": [
    {
     "name": "stdout",
     "output_type": "stream",
     "text": [
      "Shift Matrix S_n:\n",
      "[[0 1 0 0 0]\n",
      " [0 0 1 0 0]\n",
      " [0 0 0 1 0]\n",
      " [0 0 0 0 1]\n",
      " [0 0 0 0 0]]\n"
     ]
    }
   ],
   "source": [
    "# Make n shift matrix\n",
    "def make_shift_mat(n):\n",
    "    # Initialize an n x n matrix of zeros\n",
    "    S_n = np.zeros((n, n), dtype=int)\n",
    "    \n",
    "    # Fill the superdiagonal with 1s\n",
    "    S_n[np.arange(n-1), np.arange(1, n)] = 1\n",
    "    \n",
    "    # Set the last element of the first column to 1\n",
    "    # S_n[n-1, 0] = 1\n",
    "    \n",
    "    return S_n\n",
    "\n",
    "# Example usage\n",
    "n = 5\n",
    "shift_matrix = make_shift_mat(n)\n",
    "print(\"Shift Matrix S_n:\")\n",
    "print(shift_matrix)"
   ]
  },
  {
   "cell_type": "code",
   "execution_count": 262,
   "metadata": {},
   "outputs": [
    {
     "name": "stdout",
     "output_type": "stream",
     "text": [
      "0\n",
      "2\n",
      "5\n",
      "[[0. 1. 0. 0. 0. 0. 0. 0. 0.]\n",
      " [0. 0. 0. 0. 0. 0. 0. 0. 0.]\n",
      " [0. 0. 0. 1. 0. 0. 0. 0. 0.]\n",
      " [0. 0. 0. 0. 1. 0. 0. 0. 0.]\n",
      " [0. 0. 0. 0. 0. 0. 0. 0. 0.]\n",
      " [0. 0. 0. 0. 0. 0. 1. 0. 0.]\n",
      " [0. 0. 0. 0. 0. 0. 0. 1. 0.]\n",
      " [0. 0. 0. 0. 0. 0. 0. 0. 1.]\n",
      " [0. 0. 0. 0. 0. 0. 0. 0. 0.]]\n"
     ]
    }
   ],
   "source": [
    "sizes = [2, 3, 4]\n",
    "n = sum(sizes)\n",
    "\n",
    "\n",
    "blocks = [make_shift_mat(n) for n in sizes]\n",
    "\n",
    "nilpotent = np.zeros((n, n))\n",
    "\n",
    "run_pos = 0\n",
    "for k in range(len(sizes)):\n",
    "    print(run_pos)\n",
    "    shift_mat = make_shift_mat(sizes[k])\n",
    "    \n",
    "    for i in range(sizes[k]):\n",
    "        for j in range(sizes[k]):\n",
    "            # print(shift_mat[i, j])\n",
    "\n",
    "            nilpotent[i+run_pos, j+run_pos] = shift_mat[i, j]\n",
    "\n",
    "    run_pos += sizes[k]\n",
    "\n",
    "print(nilpotent)\n",
    "# np.block(blocks)\n"
   ]
  },
  {
   "cell_type": "code",
   "execution_count": 108,
   "metadata": {},
   "outputs": [
    {
     "name": "stdout",
     "output_type": "stream",
     "text": [
      "Nilpotent Matrix:\n",
      "[[0 1 0 0 0]\n",
      " [0 0 0 0 0]\n",
      " [0 0 0 1 0]\n",
      " [0 0 0 0 1]\n",
      " [0 0 0 0 0]]\n"
     ]
    }
   ],
   "source": [
    "def make_nilpotent_mat(sizes):\n",
    "    # Create an empty list to hold the shift matrices\n",
    "    blocks = [make_shift_mat(n) for n in sizes]\n",
    "    \n",
    "    # Use np.block to create the block diagonal matrix\n",
    "    # np.block needs an extra set of brackets to correctly place the blocks\n",
    "    nilpotent_matrix = np.block([\n",
    "        [blocks[i] if i == j else np.zeros((sizes[i], sizes[j]), dtype=int)\n",
    "         for j in range(len(sizes))]\n",
    "        for i in range(len(sizes))\n",
    "    ])\n",
    "    \n",
    "    return nilpotent_matrix\n",
    "\n",
    "# Example usage\n",
    "sizes = [2, 3]\n",
    "nilpotent_matrix = make_nilpotent_mat(sizes)\n",
    "print(\"Nilpotent Matrix:\")\n",
    "print(nilpotent_matrix)"
   ]
  },
  {
   "cell_type": "code",
   "execution_count": 110,
   "metadata": {},
   "outputs": [
    {
     "name": "stdout",
     "output_type": "stream",
     "text": [
      "Eigenvalues: [0. 0. 0. 0. 0.]\n",
      "Are all eigenvalues zero?: True\n"
     ]
    }
   ],
   "source": [
    "from numpy import linalg as LA\n",
    "\n",
    "# Assuming nilpotent_matrix is already defined\n",
    "eig_vals, eig_vecs = LA.eig(nilpotent_matrix)\n",
    "\n",
    "# Print the eigenvalues\n",
    "print(\"Eigenvalues:\", eig_vals)\n",
    "\n",
    "# Check if all eigenvalues are zero\n",
    "are_all_zeros = np.all(np.isclose(eig_vals, 0))\n",
    "\n",
    "print(\"Are all eigenvalues zero?:\", are_all_zeros)\n"
   ]
  },
  {
   "cell_type": "code",
   "execution_count": 114,
   "metadata": {},
   "outputs": [
    {
     "name": "stdout",
     "output_type": "stream",
     "text": [
      "N matrix\n",
      "[[0 1 0 0 0]\n",
      " [0 0 0 0 0]\n",
      " [0 0 0 1 0]\n",
      " [0 0 0 0 1]\n",
      " [0 0 0 0 0]]\n",
      "current matrix\n",
      "[[0 1 0 0 0]\n",
      " [0 0 0 0 0]\n",
      " [0 0 0 1 0]\n",
      " [0 0 0 0 1]\n",
      " [0 0 0 0 0]]\n",
      "N matrix\n",
      "[[0 1 0 0 0]\n",
      " [0 0 0 0 0]\n",
      " [0 0 0 1 0]\n",
      " [0 0 0 0 1]\n",
      " [0 0 0 0 0]]\n",
      "current matrix\n",
      "[[0 0 0 0 0]\n",
      " [0 0 0 0 0]\n",
      " [0 0 0 0 1]\n",
      " [0 0 0 0 0]\n",
      " [0 0 0 0 0]]\n",
      "N matrix\n",
      "[[0 1 0 0 0]\n",
      " [0 0 0 0 0]\n",
      " [0 0 0 1 0]\n",
      " [0 0 0 0 1]\n",
      " [0 0 0 0 0]]\n",
      "current matrix\n",
      "[[0 0 0 0 0]\n",
      " [0 0 0 0 0]\n",
      " [0 0 0 0 0]\n",
      " [0 0 0 0 0]\n",
      " [0 0 0 0 0]]\n",
      "Nilpotent Index k:\n",
      "3\n"
     ]
    }
   ],
   "source": [
    "def get_np_index(N, max_iter=100):\n",
    "    k = 1\n",
    "\n",
    "    current_matrix = N\n",
    "\n",
    "    while k <= max_iter:\n",
    "            \n",
    "        print(\"N matrix\")\n",
    "        print(N)\n",
    "        print(\"current matrix\")\n",
    "        print(current_matrix)\n",
    "        if np.all(current_matrix == 0):\n",
    "            return k  # Correctly return the current k if the matrix is nilpotent\n",
    "        \n",
    "        current_matrix = current_matrix @ N  # Multiply by N to get the next power\n",
    "        k += 1\n",
    "    \n",
    "    raise ValueError(\"Matrix is not nilpotent within the given number of iterations.\")\n",
    "\n",
    "# Example usage\n",
    "nilpotent_matrix = make_nilpotent_mat([2, 3])\n",
    "k = get_np_index(nilpotent_matrix)\n",
    "print(\"Nilpotent Index k:\")\n",
    "print(k)"
=======
    "# a solution with a loop\n",
    "def make_shift_mat(n):\n",
    "    A = np.zeros([n,n])\n",
    "    for i in range(n-1):\n",
    "        A[i,i+1] = 1\n",
    "    return A\n",
    "\n",
    "# an alternative way with slicing\n",
    "def make_shift_mat(n):\n",
    "    A = np.zeros((n,n))\n",
    "    A[np.arange(n-1), np.arange(1,n)] = 1\n",
    "    \n",
    "    return A\n",
    "\n",
    "make_shift_mat(8)\n",
    "\n",
    "def make_nilpotent_mat(dim_list): \n",
    "    B = np.zeros((sum(dim_list),sum(dim_list)))\n",
    "    start = 0\n",
    "    for n in dim_list:\n",
    "        end = start + n\n",
    "        B[start:end, start:end] = make_shift_mat(n)\n",
    "        start += n\n",
    "    return B\n",
    "\n",
    "\n",
    "def get_np_index(M, max_iter=10_000):\n",
    "    M_copy = M.copy()\n",
    "    counter = 0\n",
    "    while not np.all(M_copy == 0):\n",
    "        counter += 1\n",
    "        M_copy = M_copy @ M\n",
    "\n",
    "        if counter >= max_iter:\n",
    "            print(\"NO NILPINDEX FOUND\")\n",
    "            return None      \n",
    "\n",
    "    print(\"NILPINDEX\", counter+2)\n",
    "    return counter+2\n",
    "\n",
    "\n",
    "def get_np_index(M, max_iter=10_000):\n",
    "    M_copy = M.copy()\n",
    "    \n",
    "    for i in range(max_iter):\n",
    "        \n",
    "        M_copy = M_copy @ M\n",
    "\n",
    "        if np.all(M_copy == 0):    \n",
    "            print(\"NILPINDEX\", i+2)\n",
    "            return i+2\n",
    "\n",
    "    print(\"NO NILPINDEX FOUND\")\n",
    "    return None      \n",
    "\n",
    "\n",
    "M = make_nilpotent_mat([6, 2, 5])\n",
    "\n",
    "get_np_index(M)\n",
    "# check that it works\n",
    "M @ M @ M @ M @ M @ M "
>>>>>>> upstream/master
   ]
  },
  {
   "cell_type": "markdown",
   "metadata": {},
   "source": [
    "### Functions to Make Arrays \n",
    "Numpy has a few handy built-in methods to create arrays of different kinds. `np.ones` and `np.zeros` are such. Now we look at two more: `np.linspace` and `np.logspace`. "
   ]
  },
  {
   "cell_type": "code",
   "execution_count": 115,
   "metadata": {},
   "outputs": [
    {
     "data": {
      "text/plain": [
       "array([  1.        ,   1.27427499,   1.62377674,   2.06913808,\n",
       "         2.6366509 ,   3.35981829,   4.2813324 ,   5.45559478,\n",
       "         6.95192796,   8.8586679 ,  11.28837892,  14.38449888,\n",
       "        18.32980711,  23.35721469,  29.76351442,  37.92690191,\n",
       "        48.32930239,  61.58482111,  78.47599704, 100.        ])"
      ]
     },
     "execution_count": 115,
     "metadata": {},
     "output_type": "execute_result"
    }
   ],
   "source": [
    "np.linspace(start=0., stop=100, num=20) # create a grid from 0 to 100 with 20 grid points\n",
    "np.logspace(start=np.log(1), stop=np.log(100), num=20, base = np.e) # create a grid from 0 to 100 with 20 grid points but in logs\n",
    "\n",
    "# the latter is equivalent to \n",
    "lower = np.log(1) # np.log( . ) is the natural logarithm\n",
    "upper = np.log(100)\n",
    "np.exp(np.linspace(lower, upper, 20)) # use broadcasting here, see next section\n"
   ]
  },
  {
   "cell_type": "markdown",
   "metadata": {},
   "source": [
    "The function `np.arange` is very similar to the native `range()` function:"
   ]
  },
  {
   "cell_type": "code",
   "execution_count": 116,
   "metadata": {},
   "outputs": [
    {
     "data": {
      "text/plain": [
       "array([ 1,  4,  7, 10, 13, 16, 19])"
      ]
     },
     "execution_count": 116,
     "metadata": {},
     "output_type": "execute_result"
    }
   ],
   "source": [
    "np.arange(start=1, stop=20, step=3)"
   ]
  },
  {
   "cell_type": "markdown",
   "metadata": {},
   "source": [
    "## 2. **Computations and Broadcasting**\n",
    "One can do pretty much all basic computations on `np.array`s and these will be applied elementwise. (These computations are also called *vectorized* functions.) \n",
    "\n",
    "Let's also consider some functions coming with numpy: `np.exp, np.log, np.abs`."
   ]
  },
  {
   "cell_type": "code",
   "execution_count": 119,
   "metadata": {},
   "outputs": [
    {
     "name": "stdout",
     "output_type": "stream",
     "text": [
      "[1 3 5 7 9]\n",
      "[10 30 50 70 90]\n",
      "[11 13 15 17 19]\n",
      "[2.71828183e+00 2.00855369e+01 1.48413159e+02 1.09663316e+03\n",
      " 8.10308393e+03]\n",
      "[0.         1.09861229 1.60943791 1.94591015 2.19722458]\n",
      "[1 0 1]\n"
     ]
    }
   ],
   "source": [
    "a = np.arange(1,10,2)\n",
    "print(a)\n",
    "\n",
    "# multiplication / addition with a scalar\n",
    "print(a * 10)\n",
    "print(a + 10)\n",
    "\n",
    "# exponential function, log function\n",
    "print(np.exp(a))\n",
    "print(np.log(a))\n",
    "\n",
    "b = np.array([-1,0,1])\n",
    "print(np.abs(b))"
   ]
  },
  {
   "cell_type": "markdown",
   "metadata": {},
   "source": [
    "We can add two `np.array`s together element-wise in the obvious fashion. This is called 'broadcasting'. My advice: While useful, try to avoid situations in which non-obvious broadcasting things can happen.\n",
    "\n",
    "Instead of addition, we can perform above computations with multiplication `*` or exponentiation `**`, too.\n",
    "\n",
    "An interesting way to leverage broadcasting is to use `np.newaxis`, which creates an additional yet empty dimension to an array. For example, let `a = np.array([1, 2, 3])`. Then `a[:, np.newaxis]` has shape `(3, 1)` and `a[np.newaxis, :]` has shape `(1, 3)`. What does the following broadcasting procedure yield: `B = a[np.newaxis, :] + a[:, np.newaxis] `?\n",
    "\n",
    "Think it through. If you repeat `a[np.newaxis, :]` on the second axis you get a `(3,3)` array. Same if you repeat `a[:, np.newaxis]` thrice on the first axis. Then, you add the two resulting matrices elementwise. That's basically an outer product!"
   ]
  },
  {
   "cell_type": "code",
   "execution_count": 123,
   "metadata": {},
   "outputs": [
    {
     "name": "stdout",
     "output_type": "stream",
     "text": [
      "(3,)\n",
      "[[1]\n",
      " [2]\n",
      " [3]]\n",
      "[1 4 9] \n",
      "\n",
      "(3, 1) \n",
      "\n",
      "[[2 3 4]\n",
      " [3 4 5]\n",
      " [4 5 6]] \n",
      "\n",
      "[[ 1  2  3]\n",
      " [ 1  4  9]\n",
      " [ 1  8 27]]\n"
     ]
    }
   ],
   "source": [
    "a = np.array([1, 2, 3])\n",
    "print(a.shape)\n",
    "print(a[:, np.newaxis])\n",
    "\n",
    "\n",
    "print(a**2, \"\\n\")\n",
    "\n",
    "\n",
    "print(a[:, np.newaxis].shape, \"\\n\")\n",
    "\n",
    "print(a[np.newaxis, :] + a[:, np.newaxis], \"\\n\")\n",
    "\n",
    "print(a[np.newaxis, :] ** a[:, np.newaxis])"
   ]
  },
  {
   "cell_type": "code",
   "execution_count": 134,
   "metadata": {},
   "outputs": [
    {
     "name": "stdout",
     "output_type": "stream",
     "text": [
      "[[1]\n",
      " [2]\n",
      " [3]]\n",
      "[[1 2 3]]\n",
      "[[ 1  2  3]\n",
      " [ 1  4  9]\n",
      " [ 1  8 27]]\n",
      "[[ 1  1  1]\n",
      " [ 2  4  8]\n",
      " [ 3  9 27]]\n"
     ]
    }
   ],
   "source": [
    "a = np.array([1, 2, 3]).reshape((3, 1))\n",
    "print(a)\n",
    "b = np.array([1, 2, 3]).reshape((1, 3))\n",
    "b.shape\n",
    "print(b)\n",
    "\n",
    "print(b**a)\n",
    "print(a**b)"
   ]
  },
  {
   "cell_type": "markdown",
   "metadata": {},
   "source": [
    "**Rules of Broadcasting**\n",
    "\n",
    "Now we have seen Broadcasting in action, let's consider the rules that NumPy us using to determine how it operates on two arrays:\n",
    "\n",
    "* *Rule 1*: If the two arrays differ in their number of dimensions, the shape of the one with fewer dimensions is padded with ones on its leading (left) side.\n",
    "* *Rule 2*: If the shape of the two arrays does not match in any dimension, the array with shape equal to 1 in that dimension is stretched to match the other shape.\n",
    "* *Rule 3*: If in any dimension the sizes disagree and neither is equal to 1, an error is raised.\n",
    "\n",
    "Consider an operation on `matrix` and `array`. The shape of each is:\n",
    "\n",
    "- ``matrix.shape = (2, 3)``\n",
    "- ``array.shape = (3,)``\n",
    "\n",
    "Rule 1 tells us that ``array`` has fewer dimensions, so we pad it on the left with ones:\n",
    "\n",
    "- ``matrix.shape -> (2, 3)``\n",
    "- ``array.shape -> (1, 3)``\n",
    "\n",
    "Rule 2, tells us the first dimension disagrees, so we stretch itnsion to match:\n",
    "\n",
    "- ``matrix.shape -> (2, 3)``\n",
    "- ``array.shape -> (2, 3)``\n",
    "\n",
    "Now the shapes match, and we see the output of a ufunc operation will be ``(2, 3)``:\n",
    "\n",
    "*(Source PP4RS, 2023)*\n",
    "\n",
    "Above, we have seen *rule 2* in action. Now look at *rule 1*:"
   ]
  },
  {
   "cell_type": "code",
   "execution_count": 135,
   "metadata": {},
   "outputs": [
    {
     "name": "stdout",
     "output_type": "stream",
     "text": [
      "(1, 3) (3,)\n"
     ]
    },
    {
     "data": {
      "text/plain": [
       "(1, 3)"
      ]
     },
     "execution_count": 135,
     "metadata": {},
     "output_type": "execute_result"
    }
   ],
   "source": [
    "# Example of padding\n",
    "\n",
    "a = np.matrix([2, 2, 2])\n",
    "b = np.array([1, 2, 3])\n",
    "\n",
    "print(a.shape, b.shape) # look at the shape of array and matrix\n",
    "\n",
    "(a + 0 * b).shape # look at the shape of the broadcasted result"
   ]
  },
  {
   "cell_type": "markdown",
   "metadata": {},
   "source": [
    "### Array Methods\n",
    "We spent a minute on useful methods (=functions) associated with `numpy` objects. First, we create an array. Then we `reshape`the array. Then we consider some `sum`, `max`, `min`, `mean` commands."
   ]
  },
  {
   "cell_type": "code",
   "execution_count": 139,
   "metadata": {},
   "outputs": [
    {
     "name": "stdout",
     "output_type": "stream",
     "text": [
      "(32,)\n",
      "[[ 1.      4.1234  7.2468 10.3702 13.4936 16.617  19.7404 22.8638]\n",
      " [25.9872 29.1106 32.234  35.3574 38.4808 41.6042 44.7276 47.851 ]\n",
      " [50.9744 54.0978 57.2212 60.3446 63.468  66.5914 69.7148 72.8382]\n",
      " [75.9616 79.085  82.2084 85.3318 88.4552 91.5786 94.702  97.8254]]\n",
      "(4, 8)\n",
      "97.8254\n",
      "[75.9616 79.085  82.2084 85.3318 88.4552 91.5786 94.702  97.8254]\n",
      "[ 1.     25.9872 50.9744 75.9616]\n"
     ]
    }
   ],
   "source": [
    "a = np.arange(1, 100, 3.1234) \n",
    "\n",
    "print(a.shape) # well, lets make this a (4, 8) array. \n",
    "# the reshape method will first fill up the columns, for row 1, then for row 2, etc until all rows are filled\n",
    "# an analogous reshaping occurs when looping through multiple dimensions.\n",
    "\n",
    "a = np.reshape(a, (4, 8))\n",
    "print(a)\n",
    "print(a.shape)\n",
    "\n",
    "# global max\n",
    "print(a.max())\n",
    "\n",
    "# row max: take max over the first dimension\n",
    "print(a.max(axis=0))\n",
    "\n",
    "# column min: take min over the second dimension\n",
    "print(a.min(axis=1))\n",
    "\n",
    "# the mean and sum methods work completely analogously."
   ]
  },
  {
   "cell_type": "markdown",
   "metadata": {},
   "source": [
    "Note: instead of using `np.copy(a)`, we can always write `a.copy()` since `copy()` is a method of the numpy object."
   ]
  },
  {
   "cell_type": "markdown",
   "metadata": {},
   "source": [
    "### Matrix Computations\n",
    "Of course we can use matrix algebra with `numpy`."
   ]
  },
  {
   "cell_type": "code",
   "execution_count": 140,
   "metadata": {},
   "outputs": [
    {
     "data": {
      "text/plain": [
       "matrix([[   0,    0],\n",
       "        [   0, 1661]])"
      ]
     },
     "execution_count": 140,
     "metadata": {},
     "output_type": "execute_result"
    }
   ],
   "source": [
    "# transpose of A\n",
    "A.transpose()\n",
    "\n",
    "# multiply A to A'\n",
    "A @ A.transpose()\n",
    "\n",
    "np.dot(A, A.transpose()) # alternatively, use np.dot instead of @\n"
   ]
  },
  {
   "cell_type": "markdown",
   "metadata": {},
   "source": [
    "## 3. **The `np.random` Module**"
   ]
  },
  {
   "cell_type": "markdown",
   "metadata": {},
   "source": [
    "The `np.random` module is a collection of functions able to generate random variables and fill array with those. For instance, `np.random.uniform` generates samples drawn from the uniform distribution. Can you guess what `np.random.randint` will give us?"
   ]
  },
  {
   "cell_type": "code",
   "execution_count": 142,
   "metadata": {},
   "outputs": [],
   "source": [
    "u = np.random.uniform(low=0, high=1, size=100)\n",
    "\n",
    "# random matrix\n",
    "u = u.reshape(10,10)\n",
    "\n",
    "# random matrix with integers\n",
    "u_int = np.random.randint(low=0, high=101, size=100).reshape(10,10)"
   ]
  },
  {
   "cell_type": "markdown",
   "metadata": {},
   "source": [
    "**Exercise:**\n",
    "\n",
    "Write the function `demean` which takes two inputs, a numpy array `A` and `axis` defaulting to `None`. If `axis` is equal to the default, the function calculate the mean across all elements of `A` and subtract this mean from each element. If `axis = i`, then the function calculates the means of `A` along that axis and only demeans in this direction. For example, it calculates $a_{i, j, k, l} - \\bar a_{i, j, \\cdot, l}$ if `axis = 2`. (This means the third dimension is used to calculate means.)"
   ]
  },
  {
   "cell_type": "code",
   "execution_count": 152,
   "metadata": {},
   "outputs": [
    {
     "name": "stdout",
     "output_type": "stream",
     "text": [
      "(2, 2, 3)\n",
      "Original Array:\n",
      "[[[ 1  2  3]\n",
      "  [ 4  5  6]]\n",
      "\n",
      " [[10 20 30]\n",
      "  [40 50 60]]]\n",
      "\n",
      "Demean (global):\n",
      "[[[-18.25 -17.25 -16.25]\n",
      "  [-15.25 -14.25 -13.25]]\n",
      "\n",
      " [[ -9.25   0.75  10.75]\n",
      "  [ 20.75  30.75  40.75]]]\n",
      "\n",
      "Demean along axis=0:\n",
      "[[[ -4.5  -9.  -13.5]\n",
      "  [-18.  -22.5 -27. ]]\n",
      "\n",
      " [[  4.5   9.   13.5]\n",
      "  [ 18.   22.5  27. ]]]\n",
      "\n",
      "Demean along axis=1:\n",
      "[[[ -1.5  -1.5  -1.5]\n",
      "  [  1.5   1.5   1.5]]\n",
      "\n",
      " [[-15.  -15.  -15. ]\n",
      "  [ 15.   15.   15. ]]]\n",
      "\n",
      "Demean along axis=2:\n",
      "[[[ -1.   0.   1.]\n",
      "  [ -1.   0.   1.]]\n",
      "\n",
      " [[-10.   0.  10.]\n",
      "  [-10.   0.  10.]]]\n"
     ]
    }
   ],
   "source": [
    "def demean(A, axis=None):\n",
<<<<<<< HEAD
    "    if axis is None:\n",
    "        # Subtract the global mean from all elements\n",
    "        return A - A.mean()\n",
    "    \n",
    "    # Calculate the mean along the specified axis\n",
    "    means = A.mean(axis=axis, keepdims=True)\n",
    "    \n",
    "    # Subtract the mean along the specified axis\n",
    "    return A - means\n",
    "\n",
    "# Example usage\n",
    "# A = np.array([[1, 2, 3], [4, 5, 6]])\n",
    "A = np.array([[[1, 2, 3], [4, 5, 6]], [[10, 20, 30], [40, 50, 60]]])\n",
    "print(A.shape)\n",
    "\n",
    "print(\"Original Array:\")\n",
    "print(A)\n",
    "\n",
    "print(\"\\nDemean (global):\")\n",
    "print(demean(A))\n",
    "\n",
    "print(\"\\nDemean along axis=0:\")\n",
    "print(demean(A, axis=0))\n",
    "\n",
    "print(\"\\nDemean along axis=1:\")\n",
    "print(demean(A, axis=1))\n",
    "\n",
    "print(\"\\nDemean along axis=2:\")\n",
    "print(demean(A, axis=2))"
=======
    "    A_mean = A.mean(axis=axis, keepdims = True)\n",
    "    return A - A_mean # broadcasting rule 2 is our friend here\n",
    "\n",
    "demean(A, axis=1) "
>>>>>>> upstream/master
   ]
  },
  {
   "cell_type": "markdown",
   "metadata": {},
   "source": [
    "## 4. **Other Exercises**"
   ]
  },
  {
   "cell_type": "markdown",
   "metadata": {},
   "source": [
    "**Exercise: Discretizing the asset space**\n",
    "\n",
    "Consider the situation in which we want to create an asset grid for the households in your favorite macro-model. Households choose assets from $[\\underline a, \\infty)$, need to discretize this grid. Idea: there should be more grid points around $\\underline a$, because policy function is more nonlinear here. But we also want some points for high $a$. Solution: *double exponential transformation of uniformly spaced grid*:\n",
    "\n",
    "$$a_i = \\underline a + e^{e^{u_i} - 1} - 1, u_i \\in [0, \\bar u]$$\n",
    "\n",
    "Write a function `discretize_assets(amin, amax, n_a)` which outputs an asset grid ranging from `a_min` to `a_max` with `n_a` grid points, where $a_i$ is determined by the formula above."
   ]
  },
  {
   "cell_type": "code",
   "execution_count": 155,
   "metadata": {},
   "outputs": [
    {
     "data": {
      "text/plain": [
       "<matplotlib.collections.PathCollection at 0x1ce21a72390>"
      ]
     },
     "execution_count": 155,
     "metadata": {},
     "output_type": "execute_result"
    },
    {
     "data": {
      "image/png": "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",
      "text/plain": [
       "<Figure size 400x300 with 1 Axes>"
      ]
     },
     "metadata": {},
     "output_type": "display_data"
    }
   ],
   "source": [
    "# SOLUTION:\n",
    "\n",
    "# write a function which discretizes the asset space\n",
    "def discretize_assets(amin, amax, n_a):\n",
    "    # find ubar \n",
    "    ubar = np.log(np.log(amax - amin + 1)+1)\n",
    "    # make linar grid for the u's\n",
    "    grid_u = np.linspace(0,ubar, n_a)\n",
    "    # transform back to a\n",
    "    grid_a = amin + np.exp(np.exp(grid_u)-1)-1\n",
    "    return grid_a\n",
    "\n",
    "grid_a = discretize_assets(0, 10_000, 50)\n",
    "\n",
    "# visualize the grid\n",
    "import matplotlib.pyplot as plt\n",
    "# some useful plot defaults\n",
    "plt.rcParams.update({'font.size' : 10, 'lines.linewidth' : 1.5, 'figure.figsize' : (4,3)})\n",
    "# scatter plot of the grid\n",
    "plt.scatter(grid_a, np.repeat(1, len(grid_a)), marker='|')"
   ]
  },
  {
   "cell_type": "code",
   "execution_count": null,
   "metadata": {},
   "outputs": [],
   "source": []
  }
 ],
 "metadata": {
  "kernelspec": {
   "display_name": "pp4rs",
   "language": "python",
   "name": "python3"
  },
  "language_info": {
   "codemirror_mode": {
    "name": "ipython",
    "version": 3
   },
   "file_extension": ".py",
   "mimetype": "text/x-python",
   "name": "python",
   "nbconvert_exporter": "python",
   "pygments_lexer": "ipython3",
   "version": "3.11.1"
  }
 },
 "nbformat": 4,
 "nbformat_minor": 2
}
