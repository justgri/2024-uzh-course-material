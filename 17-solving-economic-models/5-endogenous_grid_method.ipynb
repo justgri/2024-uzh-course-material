{
 "cells": [
  {
   "cell_type": "markdown",
   "metadata": {},
   "source": [
    "# **Endogeneous Grid Method** \n",
    "\n",
    "In this notebook we discuss how to solve the household problem a la Aiyagari--this is the main building block of most HANK models--with fast, optimized methods. The main reference for this notebook is Matt Rognlie's code on which you can find in [his repository](https://github.com/shade-econ/nber-workshop-2023/blob/bc3bbba90ab575f09c4c8a9e77b0b2fe88812cd1/Lectures/Lecture%201%2C%20Standard%20Incomplete%20Markets%20Steady%20State.ipynb) (2024).\n",
    "\n",
    "## 1. **Incomplete Markets Model**\n",
    "The standard incomplete markets model features the following timing:\n",
    "\n",
    "- begin of period with asset returns $(1+r)a$ and stochastic income $y$.\n",
    "- allocate to assets tomorrow $a'$ and consumption today $c$\n",
    "- all subject to a borrowing constraint $a\\geq \\underline a$ and no ability to insure against idiosyncratic shocks: \n",
    "  $$ \n",
    "  \\begin{align*}\n",
    "    V(y, a) = \\max_{c, a'} u( c ) + \\beta \\mathbb E[V(e', a') | y] \n",
    "  \\end{align*}\n",
    "  $$ \n",
    "  $$ \n",
    "  \\begin{align*}\n",
    "    s.t.\\; a' = (1+r)a + y - c \n",
    "  \\end{align*}\n",
    "  $$ \n",
    "  $$ \n",
    "  \\begin{align*}\n",
    "    a' \\geq \\underline a \n",
    "  \\end{align*}\n",
    "  $$\n",
    "\n",
    "  We model the income process as an AR(1), so \n",
    "  $$ y_t = \\rho y_{t-1} + e_t.$$\n",
    "  Since we would like to solve the whole model on a finite grid $\\mathcal{Y} \\times \\mathcal{A}$ with indices $(i_y, i_a)$, we need to discretize the income and the asset space. We already have functions to do this, applying the double-exponential grid space for assets, and the Rouwenhorst AR(1) process. "
   ]
  },
  {
   "cell_type": "code",
   "execution_count": 1,
   "metadata": {},
   "outputs": [],
   "source": [
    "import numpy as np\n",
    "import matplotlib.pyplot as plt\n",
    "\n",
    "# some useful plot defaults$\n",
    "plt.rcParams.update({'font.size' : 10, 'lines.linewidth' : 1.5, 'figure.figsize' : (4,3)})"
   ]
  },
  {
   "cell_type": "markdown",
   "metadata": {},
   "source": [
    "**Exercise:** Write and import a class called `Grids` which if supplied the correct parameters outputs asset and income grids, as well as transition matrix and steady state for income.\n",
    "\n",
    "**Solution:** A script containing this and other classes (to be defined later in this document) can be found [on my github](https://github.com/FredHB/solving_economic_models/blob/main/utils_simm.py). A non-maintained version is at the bottom of this notebook."
   ]
  },
  {
   "cell_type": "code",
   "execution_count": 2,
   "metadata": {},
   "outputs": [],
   "source": [
    "from utils_simm import Grid"
   ]
  },
  {
   "cell_type": "code",
   "execution_count": 3,
   "metadata": {},
   "outputs": [
    {
     "name": "stdout",
     "output_type": "stream",
     "text": [
      "the steady state is unique.\n"
     ]
    }
   ],
   "source": [
    "Grids = Grid(n_y = 10, rho = 0.975,  sd_log_y = 0.7, n_a = 100, min_a = 0, max_a = 10_000)"
   ]
  },
  {
   "cell_type": "markdown",
   "metadata": {},
   "source": [
    "## 2. **Backwards Iteration to Obtain Policy Functions**\n",
    "\n",
    "It is more efficient and accurate to use envelope condition and FOC to iterate on marginal value function $V_a$ instead of finding the value function itself. We do backwards iteration in time. Let $a_t'(y_t, a_t)$ be the policy function for next-period asset holdings. Assume that $u(c) = \\frac{c^{1-\\sigma}}{1-\\sigma}$, where $\\sigma$ is the elasiticity of intertemporal substitution (eis).\n",
    "\n",
    "For backward iteration, we use the **Envelope condition**,\n",
    "$$ V_{a,t}(e, a) = (1+r_t)u'(c_t(e, a))$$\n",
    "\n",
    "and the **First-Order Condition** (inequality binds if borrowing limit binds) \n",
    "\n",
    "$$u'(c_t(y, a)) \\geq \\beta \\mathbb E [V_{a, t+1}(y', a_t'(y, a))]|e]. $$\n",
    "\n",
    "repeatedly:\n",
    "\n",
    "**[Algorithm: Backward iteration in time]** \n",
    "\n",
    "Start at $t = T$, initialize $V_{a, T} = 1$. For $t< T$:\n",
    "1. Use $V_{a, t+1}$ to calculate RHS of FOC\n",
    "2. Solve for today's policies $a_t'(y, a)$, $c_t(y, a)$\n",
    "3. Using envelope condition, obtain marginal value function of today $V_{a, t}$\n",
    "\n",
    "We go through the steps in detail."
   ]
  },
  {
   "cell_type": "markdown",
   "metadata": {},
   "source": [
    "#### **Step 1** - Initialize, Set up Grids and Parameters"
   ]
  },
  {
   "cell_type": "code",
   "execution_count": 4,
   "metadata": {},
   "outputs": [
    {
     "name": "stdout",
     "output_type": "stream",
     "text": [
      "the steady state is unique.\n"
     ]
    }
   ],
   "source": [
    "model_params = {\n",
    "    'beta' : 0.95,\n",
    "    'r' : 0.03,\n",
    "    'eis' : 1.5,\n",
    "    'rho' : 0.975,\n",
    "    'sd_log_y' : 0.7\n",
    "}\n",
    "\n",
    "Grids = Grid(n_y = 15, rho = model_params['rho'],  sd_log_y = model_params['sd_log_y'], n_a = 100, min_a = 0, max_a = 10_000)"
   ]
  },
  {
   "cell_type": "code",
   "execution_count": 5,
   "metadata": {},
   "outputs": [],
   "source": [
    "# initial Va\n",
    "Va = np.ones((Grids.n_y, Grids.n_a))\n",
    "\n",
    "W = model_params['beta'] * Grids.Pi @ Va"
   ]
  },
  {
   "cell_type": "markdown",
   "metadata": {},
   "source": [
    "#### **Step 2** - Obtain $a^\\prime_{t}$, $W_{t}$\n",
    "We now write policy functions, marginal value function and associated objects as functions on the grid indices $i_y$ and $i_a$ whenever useful. We would like to solve for consumption policy using the FOC (assuming the constraint is slack)\n",
    "$$ u'(c_t) = W_{a,t}(y, a') \\Rightarrow c_t = \\left( W_{a,t}(y, a') \\right)^{-1/\\sigma}$$\n",
    "for each possible future asset level $a'$. Then we use the envelope condition and can obtain $V_t(y, a)$, where $a$ solves $a' = (1+r)a + y - c_t(y, a')$.\n",
    "\n",
    "**Problem:** The implied $a$ may not lie on the grid. Generally, we want $V_{t, a}(y, a)$ for fixed values of $a$ on the grid, not $V_{t, a}(y, a(a'))$, where $a(a')$ depends on the values of $a'\\in \\mathcal{A}$.\n",
    "\n",
    "Simple solution: For each fixed level of $y$...\n",
    "\n",
    "- Obtain the points $c_t(y, a)$, store in `c_endog[i_y, :]` (these are also called 'endogeneous grid points')\n",
    "- Compute $(1+r)^{-1} (a' + c_t(y, a') - y) = a$, and save the $a$ vector as `a_endog[i_y,:]`. We now have essentially a function $a(y, a')$\n",
    "- To invert for the policy function, $a'(y, a)$, use linear interpolation evaluated at $\\mathcal{A}$: `np.interpolate(grid_a, a_endog[i_y,:], grid_a)`\n",
    "- Enforce the borrowing constraint by `a_prime = np.maximum(a_prime, Grids.grid_a[0])`\n",
    "\n",
    "There is a slightly more efficient version of this algorithm using cash-on-hand. See Rognlie (2024).\n",
    "\n",
    "<!-- This requires that there is an entry $(y, a)$ on the grid such that $ a' = (1+r)a + y - c_t(y, a)$\n",
    "\n",
    "- if FOC holds with equality, then $$ c_t^{endog}(e, a') \\equiv c_t(e, a_t(e, a')) = u^{\\prime, -1}(W_{a,t}(e, a')) $$\n",
    "- this is time-$t$ consumption at the *endogenous gridpoint* $(e, a_t(e, a'))$; $a_t(e, a')$ is the asset level today which makes the household hold $a_t'$ tomorrow. How is $a_t(e, a')$ found?\n",
    "- Use budget constraint: $$c_t^{endog}(e, a') + a' = (1+r_t)a_t(e, a') + y_t(e) \\equiv coh_t(e, a_t(e, a'))$$\n",
    "- We can solve this equation for $a_t(e, a')$, BUT ultimately we want the inverse of this function, $a_t'(a ; e)$ defined on our grid.\n",
    "- Given mapping $a_t(e, a')$:\n",
    "  - Evaluate $(a_t(e, a'), a')$ on the grid of all $a'$ for a given $e$\n",
    "  - Treat $(a_t(e, a'), a')_{a' \\in grid}$ as sample points of function $a'_t(e, a)$!\n",
    "  - Linearly interpolate to evaluate $a'_t(e, a)$ on our grid of $a$.\n",
    "- Slightly more convenient alternative: use cash-on-hand!\n",
    "  - Get a collection of sample points $(coh_t(e, a_t(e, a')), a')$ evaluated at each gridpoint for $a'$\n",
    "  - Then linearly interpolate to get $a'$ for $coh_t$ for the actual value of $a$ (i.e. on the actual asset grid)\n",
    "- Need to do this separately for each $e$ -->"
   ]
  },
  {
   "cell_type": "code",
   "execution_count": 6,
   "metadata": {},
   "outputs": [],
   "source": [
    "c_endog = W ** (-1/model_params['eis'])\n",
    "a_endog = (1 + model_params['r'])**(-1) * (Grids.grid_a[np.newaxis, :] - Grids.grid_y[:, np.newaxis] + c_endog)\n",
    "a_prime = np.empty((Grids.n_y, Grids.n_a))\n",
    "\n",
    "for i_y in range(Grids.n_y):\n",
    "    a_prime[i_y, :] = np.interp(Grids.grid_a, a_endog[i_y, :], Grids.grid_a)\n",
    "\n",
    "#a_prime = np.maximum(a_prime, Grids.grid_a[0]) # enforce borrowing constraint. actually not needed because interp already does this\n",
    "\n",
    "# obtain the consumption policy\n",
    "c = (1 + model_params['r']) * (Grids.grid_a[np.newaxis, :] + Grids.grid_y[:, np.newaxis]) - a_prime"
   ]
  },
  {
   "cell_type": "markdown",
   "metadata": {},
   "source": [
    "We can look at the policy function after one iteration:"
   ]
  },
  {
   "cell_type": "code",
   "execution_count": 7,
   "metadata": {},
   "outputs": [
    {
     "data": {
<<<<<<< HEAD
      "image/png": "iVBORw0KGgoAAAANSUhEUgAAAXoAAAE8CAYAAADOoXrhAAAAOXRFWHRTb2Z0d2FyZQBNYXRwbG90bGliIHZlcnNpb24zLjYuMywgaHR0cHM6Ly9tYXRwbG90bGliLm9yZy/P9b71AAAACXBIWXMAAA9hAAAPYQGoP6dpAABUo0lEQVR4nO2deXhb1Zn/v5ItyZvkfY/tOLuXxKaBZIA2gTZtoB1aYIDCtIMJnQlDEwJN59eSTlkCpaFlHpoWGAqdGaAQlkIJFAoUCjRpWMPiJLaz2LHjJHYsr9qt/fz+kO7VvbpXsmRbq9/P8/gJvj6SXgnp49fvec85CsYYA0EQBJG2KBMdAEEQBBFbSPQEQRBpDomeIAgizSHREwRBpDkkeoIgiDSHRE8QBJHmkOgJgiDSHBI9QRBEmkOiJwiCSHNI9CnCBRdcgAsuuID//sSJE1AoFHj88cfjGkd3dze+9rWvIT8/HwqFAi+99FJcHz9Sgl+vZESv1+OKK65AcXExFAoFdu7cmeiQpkUqvNbBzJ8/H9ddd12iw4gbJPoY8fjjj0OhUPBfWVlZWLJkCTZv3gy9Xp/o8KZNW1sbDh06hHvuuQdPPvkkzj777ITF0tXVhTvvvBMnTpxIWAwz4Qc/+AH+8pe/YNu2bXjyySdx0UUX4bXXXsOdd94Z1ziOHj2KH/zgBzjvvPOQlZUFhUIxo9d0cHAQd955J9rb22ctxunw/vvv484774TBYEhoHEkBI2LCY489xgCwu+66iz355JPsd7/7HWtra2NKpZLV19czq9Ua1f2tXbuWrV27lv/e6/WyyclJ5na7Zzny0NhsNgaA/ed//mfcHjMczz//PAPA3n33XcnPHA4Hczgc8Q8qCsrLy9l3vvMd0bVNmzaxeH8sH3vsMaZUKllzczNrbW1lAFhfX1/Etw9+rffv388AsMcee2z2g42C++67L+RzsdvtzOl0xj+oBJGZwN8xc4KLL76Yz3r/9V//FcXFxbj//vvx8ssv45prrpn2/XJ/JcSTkZERAEBBQUFcH3c6qNXqRIcwJcPDw3F5LRljsNvtyM7Olv35N7/5TRgMBmi1WvzXf/1X1Jl4vF5rq9WK3NzcWbkvjUYzK/eTMiT6N026wmX0+/fvF11/9dVXGQB2zz33MMYYc7lc7K677mILFixgarWa1dXVsW3btjG73S66XXBG39fXJ5s1HT58mF155ZWspKSEZWVlsSVLlrCf/OQnjDHG3nnnHQaAvfjii5J4d+3axQCw999/X/b53HHHHQyA6Kuuro4xxlhbWxv/33K3EQKAbdq0ie3evZs1NTUxtVrNGhsb2euvvy65/enTp9n111/PKisrmVqtZvPnz2f//u//zhwOB//6Bn9x2X3w68UYY3q9nl1//fWsrKyMaTQatmLFCvb444+LxnCv63333cceeeQR/v/L2WefzT7++GPZ10bI2NgY++EPf8iam5tZbm4u02q17KKLLmLt7e38mFCxt7W1yV7n8Hg87Fe/+hVrbGxkGo2GlZWVsY0bN7Lx8XFRDHV1dewb3/gGe+ONN9jKlSuZRqNhv/rVr6aMnbHwWXAohK/1u+++K/schO/TDz/8kK1fv57pdDqWnZ3N1qxZw/bt2ye6T+6909nZya655hpWUFDAWltbGWOMHThwgLW1tbH6+nqm0WhYeXk527BhAxsdHZXcPviLe151dXWsra1N9JjHjx9nV1xxBSssLGTZ2dls9erV7NVXXxWN4Z7fc889x372s5+x6upqptFo2Je//GXW3d0d8WsWbyijjzPHjx8HABQXFwPwZflPPPEErrjiCvzwhz/ERx99hB07duDw4cPYvXt3VPd98OBBfOlLX4JKpcLGjRsxf/58HD9+HK+88gruueceXHDBBaipqcGuXbtw2WWXiW67a9cuLFy4EOeee67sfV9++eUoKCjAD37wA1xzzTX4+te/jry8vGm8AsC+ffvw4osv4vvf/z60Wi1+85vf4J/+6Z9w8uRJ/nUZHBzEqlWrYDAYsHHjRixbtgwDAwN44YUXYLPZsGbNGmzZsgW/+c1v8JOf/AQNDQ0AwP8bzOTkJC644AL09PRg8+bNqK+vx/PPP4/rrrsOBoMBN998s2j8008/DbPZjBtuuAEKhQK//OUvcfnll6O3txcqlSrkc+vt7cVLL72EK6+8EvX19dDr9XjkkUewdu1adHV1oaqqCmvWrMGTTz6Jf/mXf8FXv/pVXHvttQCAhQsXYnBwEG+99RaefPJJyX3fcMMNePzxx7FhwwZs2bIFfX19ePDBB/H555/jvffeE8V19OhRXHPNNbjhhhvwb//2b1i6dGl0/5OmSUNDA+666y7cfvvt2LhxI770pS8BAM477zwAwDvvvIOLL74YK1euxB133AGlUonHHnsMX/7yl/H3v/8dq1atEt3flVdeicWLF+PnP/85mH9H9bfeegu9vb3YsGEDKioq0NnZiUcffRSdnZ348MMPoVAocPnll+PYsWN45pln8Ktf/QolJSUAgNLSUtm49Xo9zjvvPNhsNmzZsgXFxcV44okn8M1vfhMvvPCC5PNy7733QqlU4j/+4z9gNBrxy1/+Et/5znfw0UcfzerrOWsk+jdNusJlbX/961/ZyMgIO3XqFHv22WdZcXExy87OZqdPn2bt7e0MAPvXf/1X0W3/4z/+gwFg77zzDn8tkox+zZo1TKvVsv7+ftH9eb1e/r+3bdvGNBoNMxgM/LXh4WGWmZnJ7rjjjrDPSZjtCok2o1er1aynp4e/duDAAQaAPfDAA/y1a6+9limVSslfRMLnE65GH/x67dy5kwFgTz31FH/N6XSyc889l+Xl5TGTySR6jsXFxaJM+eWXX2YA2CuvvCLzygSw2+3M4/GIrvX19TGNRsPuuusuyWuxadMm0bVQNfq///3vDADbtWuX6Pobb7whuV5XV8cAsDfeeCNsrHLMNKNnLHSN3uv1ssWLF7P169eL3pM2m43V19ezr371q/w17r1zzTXXSB7PZrNJrj3zzDMMANu7d29EzyU4o7/lllsYAPb3v/+dv2Y2m1l9fT2bP38+//+Uy+gbGhpE8xK//vWvGQB26NAh6QuUBFDXTYxZt24dSktLUVNTg6uvvhp5eXnYvXs3qqur8dprrwEAtm7dKrrND3/4QwDAn//854gfZ2RkBHv37sX111+P2tpa0c8UCgX/39deey0cDgdeeOEF/tpzzz0Ht9uN7373u1E/v+mwbt06LFy4kP9+xYoV0Ol06O3tBQB4vV689NJLuOSSS2S7eoTPJ1Jee+01VFRUiOZFVCoVtmzZAovFgj179ojGf/vb30ZhYSH/PZeZcjGGQqPRQKn0faw8Hg/GxsaQl5eHpUuX4rPPPos6bo7nn38e+fn5+OpXv4rR0VH+a+XKlcjLy8O7774rGl9fX4/169dP+/FiQXt7O7q7u/HP//zPGBsb45+D1WrFV77yFezduxder1d0m3//93+X3I9wrsFut2N0dBT/8A//AADTfo1fe+01rFq1Cl/84hf5a3l5edi4cSNOnDiBrq4u0fgNGzaI5iYifX8kCirdxJiHHnoIS5YsQWZmJsrLy7F06VJeBP39/VAqlVi0aJHoNhUVFSgoKEB/f3/Ej8O9wZqbm8OOW7ZsGc455xzs2rUL3/ve9wD4yjb/8A//IIkjVgT/IgKAwsJCTExMAPD90jKZTFM+l2jo7+/H4sWL+deegyv1BL/WwTFy0udiDIXX68Wvf/1r/Pd//zf6+vrg8Xj4n3FlqenQ3d0No9GIsrIy2Z8PDw+Lvq+vr5/2Y8WK7u5uAL4W3VAYjUbRL1i55zE+Po7t27fj2WeflTxvo9E4rdj6+/uxevVqyXXh+0P4fpzu+yNRkOhjzKpVq6bsNZ9OhjoTrr32Wtx88804ffo0HA4HPvzwQzz44IPTvr9Q8QslJyQjI0P2OkuiUy2nG+PPf/5z3Hbbbbj++utx9913o6ioCEqlErfccoskW40Gr9eLsrIy7Nq1S/bnwbXnUB02iYR7/vfddx9aW1tlxwTP+8g9j6uuugrvv/8+/t//+39obW1FXl4evF4vLrroohm9xtGQCu9hIST6BFJXVwev14vu7m7RJKJer4fBYEBdXV3E97VgwQIAQEdHx5Rjr776amzduhXPPPMMJicnoVKp8O1vfzv6J+CnsLBQdlFKNH+RCCktLYVOp5vyuUTzC7Kurg4HDx6E1+sVZfVHjhzhfz4bvPDCC7jwwgvxv//7v6LrBoOBnxAMR6jntHDhQvz1r3/F+eefn5QSFxLuOQCATqfDunXrpnXfExMTePvtt7F9+3bcfvvt/HXur4VI4pCjrq4OR48elVyf7fdHoqAafQL5+te/DgCSpe/3338/AOAb3/hGxPdVWlqKNWvW4P/+7/9w8uRJ0c+Cs4ySkhJcfPHFeOqpp7Br1y5cdNFFEUkoFAsXLoTRaMTBgwf5a2fOnIm6a4hDqVTi0ksvxSuvvIJPPvlE8nPu+XA91ZGsfPz617+OoaEhPPfcc/w1t9uNBx54AHl5eVi7du20Yg0mIyND8no///zzGBgYiOj2oZ7TVVddBY/Hg7vvvltyG7fbnVSrP0M9h5UrV2LhwoX4r//6L1gsFsntuHUa4eAy6eDXWG77iGjfHx9//DE++OAD/prVasWjjz6K+fPno7Gxccr7SGYoo08gLS0taGtrw6OPPgqDwYC1a9fi448/xhNPPIFLL70UF154YVT395vf/AZf/OIX8YUvfAEbN25EfX09Tpw4gT//+c+SRTDXXnstrrjiCgCQlUc0XH311fjxj3+Myy67DFu2bIHNZsPDDz+MJUuWTHty7Oc//znefPNNrF27Fhs3bkRDQwPOnDmD559/Hvv27UNBQQFaW1uRkZGBX/ziFzAajdBoNPjyl78sW8feuHEjHnnkEVx33XX49NNPMX/+fLzwwgt47733sHPnTmi12hm9Bhz/+I//iLvuugsbNmzAeeedh0OHDmHXrl38X1xTsXLlSgDAli1bsH79emRkZODqq6/G2rVrccMNN2DHjh1ob2/H1772NahUKnR3d+P555/Hr3/9a/7/Z7QYjUY88MADAID33nsPAPDggw+ioKAABQUF2Lx5c1T3t3DhQhQUFOC3v/0ttFotcnNzsXr1atTX1+N//ud/cPHFF6OpqQkbNmxAdXU1BgYG8O6770Kn0+GVV14Je986nQ5r1qzBL3/5S7hcLlRXV+PNN99EX1+fZCz3Wv7nf/4nrr76aqhUKlxyySWyi65uvfVWPPPMM7j44ouxZcsWFBUV4YknnkBfXx/++Mc/SuZ2Uo4EdvykNaEWTAXjcrnY9u3bWX19PVOpVKympmZGC6Y6OjrYZZddxgoKClhWVhZbunQpu+222ySP63A4WGFhIcvPz2eTk5MRPadQ7ZWMMfbmm2+y5uZmplar2dKlS9lTTz0VdsFUMHILWPr7+9m1117LSktLmUajYQsWLGCbNm0StbX97ne/YwsWLGAZGRkRLZjasGEDKykpYWq1mi1fvlzy+oV7jgCmbEG12+3shz/8IausrGTZ2dns/PPPZx988IFsPHKvhdvtZjfddBMrLS1lCoVC8vo9+uijbOXKlSw7O5tptVq2fPly9qMf/YgNDg7yY7gFU5HCPWe5L7m22WDkntvLL7/MGhsbWWZmpuR9+vnnn7PLL7+cFRcXM41Gw+rq6thVV13F3n77bX4M994ZGRmRPN7p06f593h+fj678sor2eDgoOz/n7vvvptVV1czpVIZ8YIp7rOzatWqkAumnn/+ednXMNHbPoRCwViSzh4QMcXtdqOqqgqXXHKJpJ5MEER6keJ/jxDT5aWXXsLIyAi/KpMgiPSFMvo5xkcffYSDBw/i7rvvRklJyYwW8RAEkRpQRj/HePjhh3HjjTeirKwMv//97xMdDkEQcYAyeoIgiDSHMnqCIIg0h0RPEASR5syJBVNerxeDg4PQarVx31eGIAgiFjDGYDabUVVVNeWCrjkh+sHBQdTU1CQ6DIIgiFnn1KlTmDdvXtgxc0L03PL2U6dOQafTJTgagiCImWMymVBTUxPR9h1zQvRcuUan05HoCYJIKyIpR9NkLEEQRJpDoicIgkhzSPQEQRBpDomeIAgizSHREwRBpDkkeoIgiAQT6y3H5kR7JUEQRLLAGINxZBIjJ80Y7jdj5KQJ5jE7vnv3uTFbuU+iJwiCiBFCqY/0mzF80oSRkxY4J92SseYxO3Ql2TGJg0RPEAQxCzDGYBqd9GXp/WYMnzRj9JQZDptU6hmZShTPy0NZrRaldVqU1mqRV6iJWWwkeoIgiCgRSd1fggkr9epclNXpeKkXVeUiIyN+U6QkeoIgiDAES537kpO6MlOBkuo8lNbp+Gw93lKXg0RPEAThxyd1uz9LN0UndS5Tz0y+ZkYSPUEQcxLGGMxjdr7zhcvYw0rdL/SyOl3SSl0OEj1BEGmPWOr+bP2UGQ6rvNSLq/JQVpeaUpeDRE8QRFoRLPWRkyYMnwwh9QwFiqvzUFqnRVmaSF0OEj1BECkLJ/WRk752xpH+yKVeWqtFcVUeMlTpJXU5SPQEQaQEEqn7FyHZrS7JWF7qfE197khdDhI9QRBJB2MM5nG7YEUpSX0mkOgJgkgoJPXYQ6InCCJuBEudK8PYLfJSL6rK9S880pHUZwCJniCImMAYg2XC4WtlnErqSgWKqknqsYJETxDEjOGkPtIfWFEaqdRLa7Uors5FpiojAZHPDUj0BEFEhUjqJ038pl7hpM4tPCKpJwYSPUEQIeGlftIs2v9l0iwv9cKqXJTxfeo6FM8jqScDCRf93r17cd999+HTTz/FmTNnsHv3blx66aUAAJfLhZ/+9Kd47bXX0Nvbi/z8fKxbtw733nsvqqqqEhs4QaQZUqn7VpXKSV2hDEyU+rYKIKknMwkXvdVqRUtLC66//npcfvnlop/ZbDZ89tlnuO2229DS0oKJiQncfPPN+OY3v4lPPvkkQRETROrDGIPV4BDtpx5W6pW5/N4vpXValFTnIVNNUk8VFCzWp9JGgUKhEGX0cuzfvx+rVq1Cf38/amtrI7pfk8mE/Px8GI1G6HS6WYqWIFKDYKlzJZhwUue3CSCpJy3ReC3hGX20GI1GKBQKFBQUhBzjcDjgcDj4700mUxwiI4jE45O6U7SX+vBJMyZNTslYidRrtSiZR1JPR1JK9Ha7HT/+8Y9xzTXXhP0NtmPHDmzfvj2OkRFE/OGkzu3OyK0qDS31HFH3C0l97pAyone5XLjqqqvAGMPDDz8cduy2bduwdetW/nuTyYSamppYh0gQMcVXfjGJNvSyTSH10lr/4qN5eVCR1OcsKSF6TvL9/f145513pqxHaTQaaDSxO1GdIGKN1eAQbbsbUuoKoJCfKCWpE/Ikveg5yXd3d+Pdd99FcXFxokMiiFlFKHWuAyas1P2TpKW1OpTUkNSJqUm46C0WC3p6evjv+/r60N7ejqKiIlRWVuKKK67AZ599hldffRUejwdDQ0MAgKKiIqjV6kSFTRDTwmqUbhNgM04t9bI6HWXqxLRJeHvl3/72N1x44YWS621tbbjzzjtRX18ve7t3330XF1xwQUSPQe2VRCLgpS5oaSSpE7NFSrVXXnDBBQj3uyaJ2vwJIiTBUh/pN8EaRuqlghWlJfPyoNKQ1InYkXDRE0SqYTUGbRMQRuoFFYEVpWW1WpTUaEnqRNwh0RNEGKKWuuDkI5I6kSyQ6AnCj0TqJ82wGhzSgQqgsDyHX3hUWudbfKTOoo8TkZzQO5OYk9hMgW0CSOpEukPvViLtsZmcor3UR06aYZkILXXf3i86kjqRNtA7mEgrSOoEIYXe1UTKwkl95KSJL7+ElTo/UepbUUpSJ+YK9E4nUoJJszOwQ6M/W49M6r7uF5I6MZehdz+RdASkPnWmXlCWE+hTJ6kThCz0iSASSsSZOoCC8hxe6CR1gogc+pQQcWPS4vQLnTv5yATL+NRSL63VorRGC3U2vV0JYjrQJ4eICbzU+ZOPSOoEkSjo00TMGJHU/WI3j9tlx+aXZfOLj8pqtSip1UJDUieImEKfMCIq7BYXhk8KVpROJXX/cXal/mydpE4Q8Yc+dURIhFLnMnbz2NRSL6ujTJ0gkgn6JBIAopR6abZoRSll6gSR3NCncw5it7r4CdKopV6TB02OKs4REwQxE0j0aY5I6v66+lRS57YJIKkTRHpAok8j7FaXYD91n9hNoxFI3b9dAEmdINITEn2KYre6MHLKLFiAZAopdV1ptujkI5I6QcwtEi76vXv34r777sOnn36KM2fOYPfu3bj00kv5nzPGcMcdd+B3v/sdDAYDzj//fDz88MNYvHhx4oKOM1FJvSRLdEhGaY0WWbkkdYKYyyRc9FarFS0tLbj++utx+eWXS37+y1/+Er/5zW/wxBNPoL6+HrfddhvWr1+Prq4uZGVlJSDi2OKwufjVpFwJJpzUuXZGkjpBEKFIuOgvvvhiXHzxxbI/Y4xh586d+OlPf4pvfetbAIDf//73KC8vx0svvYSrr746nqHOOsJM3bf3ixmmkUnZsSR1giCmS8JFH46+vj4MDQ1h3bp1/LX8/HysXr0aH3zwQUjROxwOOByBfVVMJlPMY50Kh83Fy5xraQwvdW2gBFNLUicIYvokteiHhoYAAOXl5aLr5eXl/M/k2LFjB7Zv3x7T2MLhmHSLOl+G+0NLXVucFdhP3d+rTlIniPSFMQb30BDsnZ2Y7OyEvaMTrsFBLHj1FSgUipg8ZlKLfrps27YNW7du5b83mUyoqamJyWNxUh/pDxxpZwwndf8kaVmtL1vPyiOpE0S6whiDW6+HvaPDJ3W/2D3j45KxroFBqOdVxySOpBZ9RUUFAECv16OyspK/rtfr0draGvJ2Go0GGo1m1uMRSp1bVUpSJwgCEEjdL/TJjg7YO7vgGRuTDs7IgGbRImQ1NyGrqQnZTU1QlZXGLLakFn19fT0qKirw9ttv82I3mUz46KOPcOONN8b0sRljGDxmCBxpd9IM43AIqRdlBSZJ/TX17Dx1TOMjCCJxMMbgHh72Z+hctt4Fz+iodDAn9aYmZDX7pK5ZuhTKOHYNJlz0FosFPT09/Pd9fX1ob29HUVERamtrccstt+BnP/sZFi9ezLdXVlVViXrtY8Vf/rcTkyan6BpJnSDmFmKpd/K19ZBSX7gQWc3NyGpq9El92bK4Sl2OhIv+k08+wYUXXsh/z9XW29ra8Pjjj+NHP/oRrFYrNm7cCIPBgC9+8Yt44403Yt5Dr1AoUL+8GHabO7BNQB1JnSDSHZd+GPbOjoDUuzrhGZGRulIZyNSbmpDd7M/Us7PjH/QUKBhjLNFBxBqTyYT8/HwYjUbodLpEh0MQRJLgk7qv/DKl1Bcu5KWe1dyErGXLEir1aLyW8IyeIAgiHvBS5+rqKST1mUKiJwgi7XAND/OlF+7LPTIiHRgs9aYmZC1bCmVOTvyDjiEkeoIgUhoXN1Ha2cWXYEJLfQGymprTWupykOgJgkgZRFL3l2DCSr0xqPwyB6QuB4meIIikxD0yIlpNau/shHt4WDpQqYR6QT2yuUx9jktdDhI9QRAJRyR1fwkmvNSbfCUYknpEkOgJgogr7tFR0RYB9s5OuPV66UCFAuoFC3wLj5r92fqyZVDm5sY/6BSHRE8QRMzgpS7M1EnqcYdETxDErCCRemcn3HLbiQulznW/NDSQ1GMIiZ4giKhxj41Jyy+hpF5fz28RkNXUBM2yBmTkkdTjCYmeIIiwcFL3ib0zIqnzG3o1NJLUkwASPUEQPCKp+9saSeqpD4meIOYo7vFxyX7q7jNnpAMVCqjnzxdvvUtSTylI9AQxB+ClLijBhJW68JAMknrKQ6IniDRDIvXOTrgHZaQOCMovvhJMVmMjMvLy4hwxEWtI9ASRwrgnJgS7NHaElzqfqTeT1OcYJHqCSBHEUvd9uQYHZcfyUuf2fiGpz2lI9ASRhLgnJkQ7NIaVel2dP0v3i72xARlabZwjJpIZEj1BJBiR1P1iDyt14SEZTY0kdWJKSPQEEUc8BgPfn86XXwYGZMeq6moDW++S1IkZQKIniBjBS11QggkvdU7ozb7yCx1kT8wSKSF6j8eDO++8E0899RSGhoZQVVWF6667Dj/96U+hUCgSHR5BSKXe2QnX6dOyY8VS90+UktSJGJISov/FL36Bhx9+GE888QSamprwySefYMOGDcjPz8eWLVsSHR4xx/AYDLB3dYlKMCGlXlsr3nqXpE4kgJQQ/fvvv49vfetb+MY3vgEAmD9/Pp555hl8/PHHCY6MSHc8RqNP6twujR0dU0ud61UnqRNJQkqI/rzzzsOjjz6KY8eOYcmSJThw4AD27duH+++/X3a8w+GAw+HgvzeZTPEKlUhhOKkLN/RynTolO1ZVU8NvEcBn6vn5cY6YICIjJUR/6623wmQyYdmyZcjIyIDH48E999yD73znO7Ljd+zYge3bt8c5SiKVkEi9swuukydlx6pqakT7qZPUiVQjJUT/hz/8Abt27cLTTz+NpqYmtLe345ZbbkFVVRXa2tok47dt24atW7fy35tMJtTU1MQzZCKJ8JhMPqkLdmkMKfV580QbemU1NiKjoCC+ARPELKNgjLFEBzEVNTU1uPXWW7Fp0yb+2s9+9jM89dRTOHLkyJS3N5lMyM/Ph9FohI5qpmnNtKTOZeskdSKFiMZrKZHR22w2KJVK0bWMjAx4vd4ERUQkA7zUBUfakdQJQkpKiP6SSy7BPffcg9raWjQ1NeHzzz/H/fffj+uvvz7RoRFxwmM2C3rUfdm6q39qqXO7NGYWFsY5YoKYGpvLhsPjh3HafBrfWvStmD1OSpRuzGYzbrvtNuzevRvDw8OoqqrCNddcg9tvvx1qtXrK21PpJrUQS70Tk50doaVeXS3Y0IukTiQvNpcNR8aPoGusC51jnega60KfsQ8MDEqFEh9c8wFyVDkR3180XksJ0c8UEn3y4jGbYe86LNql0dnfLztWVVUVkLq//EJSJ5IRodQ5sXNSD6YspwyNxY346eqfojy3POLHSLsaPZEeeCwWyda7YaXOH5Lhy9ZJ6kQyYnPZcHTiqE/oo/5M3dQHL5POIZZll6GxpBGNxY1oKm5CY3EjSrJLYh4jiZ6ICSKp+8U+pdQFB2WQ1IlkZNI9iaPjR/nSS9dYF3qNvaGlXuyXekn8pC4HiZ6YMRKpd3bCeeKE7NjMqkr/atJmkjqR1EQj9dLsUj5D575Kc0oTELU8JHoiKjwWi7+lsStQfolU6k2NyCwqim/ABBEB0Ui9JLuElzr3bzJJXQ4SPRESj8UKx2HxLo3OEycAmfn7gNQ5sZPUieRkulLnvspyyhIQ9cwg0RMAgqTuz9ZDSr2yMrDvi/+LpE4kI5zUhS2N4aQuzNJTVepykOjnIF6rFfbDh/0rSv2Zel+fvNQrKsS7NDY1IbO4OAFRE0R4hFLnxD6V1IViTxepy0GiT3NEUveXYMJK3V9L5w7KIKkTyYjdbcfRiaN8O2PXeBd6Db3wMI9kbHFWcaDzpSiQqc+l0+lI9GmE12qF/cgR0YZezt7eqaXOZeoliWn9IohwcFLn+9RJ6lFDok9ReKkLNvQKKfXycmmmTlInkhC7245jE8dEE6XHDcdlpV6UVSSqpzcVN5HUQxCR6B966CGsXbsWzc3NsY6HkGG6Uvft1NhMUieSEk7qwonScFIPnigtzyknqUdIRKIfGhrC1VdfjdLSUmzevBmXXXaZZNtgYnYQSp2rqzuPRyj1piZkliZ3Py8xN3F4HDg2Ls7Ueww9YaUuzNRJ6jMjqk3Nzpw5g7feegsnTpzA7bffHsu4ZpVk3dTMa7P5a+qBrXedvX2AzD77JHUiVeCkzk2Sdo524rjhONzMLRlblFWEhuIG0QIkknpk0O6VQSSD6L2Tk7AfPsKvJrV3dcJxvFde6mVlon1fSOpEsjIdqTcW+SZLSeozI6a7V3o8HvzP//wPjh49innz5qGlpQWtra0opjY8Hl7q/N4vHaGlXloq2XpXVZa+/bxE6hIs9a6xLvRM9MhKvVBTKOlTr8itIKkniKhFf9NNN+GPf/wj1q1bhwcffBAKhQJutxvV1dVobW3Fn/70p1jEmbSIpN7RET5TLy0VZepZTU0kdSIpcXgc6J7o5tsZSeqpTdSif/HFF/H73/8e69evx5/+9Ce8//772LNnD+666y7U1dXFIsakwTs56Z8oDWzo5Th+XFbqGaUlyBbs0EhSJ5IVp8cp6X4hqacXUYveYrGgsbERAKBSqZCZmYnNmzfD5XJhcHBw1gNMFIwxTLa3iw7KcPT2Ah5pl0BGaQmyG7lM3Sd3VTlJnUg+hFLnvronuqeUOid2knpqErXoFyxYgMHBQdTU1KC6uhoDAwNoaGjAJZdcgi996Uu47777YhFnQji9aTM84+OiaxklJYF9X7hMvTzy478IIl44PU5f+UXQ0tht6IbbK5V6gaZA0qdemVtJUk8Tohb95Zdfjtdffx2rV6/G2rVr8X//939Yt24durq6MDk5GYsYE4JCoUDel74It8HgK8H4pZ5ZRivviORjOlIXip2knt7MqL3y5MmTOOecc+D1emEymfC9730P//3f/z2b8c0KydBeSRCzhdPjRLehW3RGaSip52vyJfupV+VWkdTTgLgdDl5bW4vOzk688sorKC4uxiWXXDKTuwvLwMAAfvzjH+P111+HzWbDokWL8Nhjj+Hss8+O2WMSRKJxeVw4ZgjU1DtHO8NKnetRJ6kTQma8qVlJSQk2bNgwG7GEZGJiAueffz4uvPBCvP766ygtLUV3dzcK6axRIo1weVzoNgSVXya64fK6JGN1ap2o9NJU0kRST0W8XmCiDxjvBRZ/NWYPkxK7V/7iF79ATU0NHnvsMf5afX19yPEOhwMOh4P/3mQyxTQ+gogWTurCQzIilXpjcSOq86pJ6qkGJ/XBz4Ez7cBgO3DmAOAwAcpMYNsAoMqKyUOnhOj/9Kc/Yf369bjyyiuxZ88eVFdX4/vf/z7+7d/+TXb8jh07sH379jhHSRDyBEu9a6wLxyaOhZW6cLKUpJ6CMObL0s+0+8Q+2A6cOQg4jNKxGRqgohmwjgAFNTEJJyX2usnK8v2W27p1K6688krs378fN998M37729+ira1NMl4uo6+pqaHJWCLmuDwu9Bh6RIuPQkldq9ZKMvV5efNI6qmGSOrt/ox9CqlXtgJVZwFVrUDpMiBDFfXDpt2mZmq1GmeffTbef/99/tqWLVuwf/9+fPDBB1PenrpuiFjg8rrQM9EjKr9MJXWh2EnqKQhjgfLLYLtP7mcOAPappN7q+7esYVpSlyNuXTfxorKykl+Ny9HQ0IA//vGPCYqImGu4vC4cNxwXtTQemzgGp9cpGSuUemNxI5qKmjBPS1JPOXiptwfq6uGkXt4UyNJnWeozJSVEf/755+Po0aOia8eOHUv7vXWIxODyutBr6BV1vxwdPxpa6kWNaCwhqac0QqlzdfWQUlcD5c0BoVedlVRSlyMlRP+DH/wA5513Hn7+85/jqquuwscff4xHH30Ujz76aKJDI1IcTurCmnpIqau0kolSknoKIpG6/9+IpN4KlDYAmeo4BjxzUqJGDwCvvvoqtm3bhu7ubtTX12Pr1q0hu26CoRo9AUQvdeHJR43FjajR1pDUUw3GgIkTQd0vBwC7QTo2Qx0ov6SA1NNuMnamkOjnHsFSPzx2GEcnjsLhcUjG5qnyRJk6J3Wlgs5FTilEUm8XlF8M0rGc1EXdL8krdTnSbjKWIMJBUp+DMAYY+sXdL4PtoaVe1hg0UdqYUlKfKSR6IqVwe92B7pcIpC5XfiGppxi81NvFE6WTE9KxJHVZSPRE0uL2utFr7OXbGbvGfTX1cFIXbupFUk9BGAMMJ4O2CWiXl7pS5a+ptwbq6iR1WUj0RFLASV20+Gj8GOweu2RsrirXl6EXNfIbepHUUxBO6qKaensYqTeKJ0rLGoFMTVxDTlVI9ETcCZY61/0SSuoNRQ2ilsZaXS1JPdVgDDCektbUJ8elYzmpC1eUljeR1GcAiZ6IKW6vG33GPsniIzmp52TmSGrqdbo6knqqwUu9XdzWGErqZQ3imjpJfdYh0ROzBif14D71cFIX7v1CUk9BopJ6pn+itDVQgiGpxwUSPTEthFLnxB6J1Lmv+br5JPVUQyJ1/7+2MelYZWYgU+dr6k0x22891THZXdBlxW4LBRI9MSUer8cn9fHAcXZHJ45i0i09DJ6kniYwBhhPS7tfSOozZtTiwKEBIzpOG3FwwIiOASNMky4cvHM9MpSxWXlNoidEeLwenDCdENXUj4wfCSn1ZUXLRGeUktRTEE7qwd0v4aQuXFFKUg+JUOqH/FIfNEr/6lUogFPjNswvyY1JHCT6OQwndWH5JZTUszOzxd0vJU2o09YhQ5mRgMiJaRMsda6uPqXUW/27NJLUQzHml/qhCKReX5KL5dX5/FdTdT7yNLHTMYl+juDxetBv6hdl6ofHD0cm9eIm1OlI6ikHY4BpQDpRahuVjlVm+vZ6qWr1d7+c5ZsoJanLwkm9Y8CIg6eTS+pykOjTkGilvqxomailcb5uPkk91WAMMA0G7dLY7juHNBhFhr/7pcVfVyeph2Pc6vRn6ga/3E0YMEg/SwCwoDQg9ebqfDRV6aCN4SRrpJDoU5zpSF3Y0khST0EYA8xnxPX0wc+nljpXVy9vAlTZcQ46NeCk7svUDeGlXpKL5up8rJiXXFKXg0SfQshJ/cj4EdjcNsnY7MxsLC1cGpgoLWpEfX49ST3VkJV6O2Adlo5VZEhr6iT1kExwmbqgrj6V1LlMvbk6eaUuB4k+SfEyLz9Rym3qNZXUuUlSknqKEq3US5cFOl9I6mERSp2rq4eSej2XqXPll2pdTHvc4wGJPgkQSp0TO2XqaY5Q6sK6eiRSr2wFKppJ6iEIlvqhASNOT4SX+vJqHZZXF6SF1OUg0ccZL/Oi39QvaWm0uqySsVkZWYGaOmXqqY3pjDhLH/x8Cqm3imvq6pz4xpsiRCP1+cU5QTX1fORnp5/U5SDRx5BgqXMTpVNJnfuqz69HppL+F6UcpjPS7heLXjpOoQxk6lxdvbyZpB4Cg80nda6dMRKpC1sa54rU5SCLzBJe5sVJ00nRhl5Hxo/A4rJIxmoyNFhatJTvfGkqbiKppyq81NsDGXs4qQtXlJLUQ8JJXVhTT1epT3q8ODHpQENe7EpxKWeWe++9F9u2bcPNN9+MnTt3JiSGaKUenKkvyF9AUk9FzEPSiVLLkHScSOqt/pr6cpJ6CIKlfmjAiFPj6Sl1u8eLLsskDlgmcdBswwGTDUdtdmQqFOj50gqoaK8bYP/+/XjkkUewYsWKuD2mUOrccXaHxw6HzdSFJx+R1FMUTurCbD2U1EuWSidK1bHZsyTVMdpcgZbGAUNYqdcJpL4iVaVuncQBs0/qB802HLXa4WbSsQWZGRh0OFGXHZstm1PGQBaLBd/5znfwu9/9Dj/72c9i/niMMdzw1g04NHootNQLl4oOylhQsAAqZeq8EQk/Zr20/GI+Ix3HS701UIIhqYfEaHOhY1BcUz85Lu0kA9JH6gfNkzgwhdSLVZlYoc1GqzYHK7TZWKHNQZVGBYUiNtk8kEKi37RpE77xjW9g3bp1U4re4XDA4QgcIG0ymaJ+PIVCgQnHBCwuC0k9nYhK6kvEE6UVy0nqIeCkLlx8FErqtUU5WD4vUH5prspHfk7qfJaEUvdl6pM4Yp0MK/UWv9Rb4iB1OVJC9M8++yw+++wz7N+/P6LxO3bswPbt22f8uNtWbUOuKpeknqpYhoPOKP1cXupQAKVLxStKSeohMU660Dng20udq6v3j4WRun/h0Yp5qSn1w1a7r54+hdSLVBlo0ebwUl+hzUF1AqQuR9KL/tSpU7j55pvx1ltvISsrsk2Xtm3bhq1bt/Lfm0wm1NTURP3YXyj/QtS3IRKEZVi6+Mg8KDMwSOrcRKkmL47Bpg6c1A8JvkJJvaYoGyuqCwRbBehQkKOOc8TTx+H1osti5+vpByKQ+gptDlqSTOpyKBhjMk8jeXjppZdw2WWXISMjsEjI4/FAoVBAqVTC4XCIfiaHyWRCfn4+jEYjdDpdrEMmYo1I6v5/TQMyAxX+8ktroARDUg9JsNQ7Bow4EUbqfKZeXZCSUj9sCc7U7XDJ6FAodS5Tn5cEUo/Ga0mf0X/lK1/BoUOHRNc2bNiAZcuW4cc//vGUkidSnKikvjiopr6CpB4Ck92FjqD91ENJfV6hT+pcXb25Kh+Fuakl9SNWOw6YbHxd/XAYqa/I89fTdTlxk7rH40BGRuwOSU960Wu1WjQ3N4uu5ebmori4WHKdSHEsI9KJ0nBSD66pa7TxjDZlEEr90IAJHQNG9I1KV2cDAakLa+qpKHVfj3p4qRdmZojq6Su02ajJUsdc6m63GWZzF8zmDpjMh2A2d8DpHMWaL30GRYyO4Ux60RNpilDq3L+m0zIDSerRYLa70OGXOXfwdCipVxdk8/u+cB0wqSR1pzcwUXrQPIkDpvBSXyHofEmM1DtgNnfAZusDII1xcvIkcnLmxySOlBT93/72t0SHQESDdVS6ojSU1IsXiRcfVa4gqYdAKHWurh5O6qLyS3U+ilJM6r5M3denfsBswxGLHU4ZqRfIZOq1cZG6xS/1Q1NKXaOphE63HFptM3TaZmi1zVCri2MWW0qKnkhirGPAmc8FbY0HAOMpmYGc1FsDdXWSekiCpd4xYERvBFLnsvVUlTo3WXo4jNQDWXoipB4ov4SVurYZWt3yuEhdDhI9MX14qbf7s/VQUgdQvFiworQVqGwhqYcgWqk3V+uwYp6vrbG5SofivNhN6s020Ug9PzODb2Xk2hrjLXWuBGOz9SKs1LXN0Op82bpaXRLT+CKBRE9EhlDqXPklpNQXBdXUVwBZ1NYqh9nuQuegiV9NGonUudLL8ur8tJa6sPTSqs2Jk9StMFu6YDYdikDqFf7Sy/JpS93pdGJoaAjj4+NobW2dnSchA4mekCKR+gHAeFJ+bNFCaU09Kz9+saYQFodbsviodyR9pX40qKYeidRb4pqp+6Vu7oDZdChCqfuydZ1u+bSlPjg4iDNnzmBwcBCjo6NgjEGhUKCxsRFqdWxKbCT6uY5tXDBJ+nkEUm8V19RJ6rIIpc51wPSNWiG3PLEqP0s0SZpqUnd5GY4INvRK6kzd3AGzyVdXj1TqWt1yaKYpdU7oQqkHk5eXh6qqKkxOTpLoiVlAJPV237+GKaTO7dJIUg+J1eFG56AJB08b+Lp6bxip8+2M81JT6kf9Um/3tzUetk7C4Z1a6i3aHNTFSeoWy2HfJKmJK78cRzJJvbKyElVVVaiqqoJWG/u5KhJ9umIbly4+ikjqrb6JUpK6LJzUAycfGUJKvdIv9RXV+Wj2S70kRaXObRPQFULqukwlVuTl+FeTprfU9Xo9L/QzZ85gZGQkIqlXVlaKtipgXgb3iA3WY3p4JuzQrauL+vlHCok+HRBKnSvBhJT6AvFxdhUrgOyCeEWaUgRL/dCAEcdHLGGlzm+9W52PUm1qSf2Yze4rvZgikzpfftHFR+oejw1mcxffzmg2d8Jq7UE4qQvFrtGURvV4Qqlz2Xo4qQuz9JBS79HDddoC54AFrjMWMKc3cB9frIYyKzZKJtGnGhKptwOGfvmxhfVBE6UtJPUQWB1udJ0xiQ7JCCX1Cl0Wv0VAqkudW1EaTurL8wJZeos2B3XZaijjJHXhilKr9TgAr2SsRl0Ora4ZWu3yaUvd5XJJJkpDST03N1ck9KqqqtBSH7DAeVoqdQ6FWglVVR7U1XlgLi8Q2Qa9UUOiT2Zs477edGEJJqzUWwUTpST1UHBSP3Q6MFGarlJ3+6XO1dMPmm3oskzCLiN1bYZSVE9Pbqn72xpnIHVhTT0aqWu1Wv6vF4nUByxwDYaXuqoqD94CwOAaxtDoceh7u2HqHkHbPz4U1fOIBhJ9sjA54ZO68KCMiRPyYzmp8xOlJPVQ2JxudPnLL1yv+vERC2Q8x0t9ObehV4pKnc/Up5D6cn8rI7eqdH5cpD7p71MPrCgNJXW1ukzUzuiTellUj+dyuSQ19eHh4elLfXQStuMjcJ02h5e6yi/16jx4CwGD0y/1vh7oP+uBzWiQ3MY8OgJdaXTPL1JI9ImAl3p7YKI0pNTni2vqlS1AdmG8Ik0popF6uU6D5dUF/u4XHZqr81GmjdHfzTHA7WXoDsrUO6eQujBTj5fULZbDMAkWH/lq6skj9eDul5lJPRfeQgUMrhEMjRyHvq8b+s/lpa5QKJFTUAmVpgIuVzEYK0VOfkFUzzcaSPSxRih1bqJ0Sqm3CjJ1krocIqn7xR5e6oKtd1NU6gf8px5x5ZdJmSebl6HEcoHQV2izUZ+tiZ/UBYuPQku9lC+7cCtKNZryqB5PKHWuBBNO6nITpcFSnzw+AicvdSuY0yO5L07q6mp/+cU9jDMjvRg+0QN9ew+shgnpbRRK5BRUIFNTCbe7GC5HERQZpfBABU/gaGtYJlwoKKc++uRHIvV2YKJPfmxBnXSiNKcobqGmEpNOD7rOcFm6CYcGDOgZnlrqXAdMmS41pS4sv4ST+gptDlrjKnW7qKXRbO6A1dYDxqRiVKtLA50v/k29kkLq7SNwDljgHDDDNRC51IdGe33ll4ikXgSXo1gidWUmkGPTQ2s+GfiynEYOex1AbM4pJtFPl0lDoKYekdRbxTV1kros0Ui9TKsRLTxKVakH+tR95ZeppM5l6gviKvUOfquA0FIvEXW+aHXN0KjLo2q7lJP6yMgIvF7pXwY5OTmy3S8iqY9NYvLACJyn/VIftII5Qki9MhfqeVp4CxQwuPUBqR84DuvEuDRYhQK5+RXIzKqCx10Mp0ymrswEsm3D0Jn7oTWfgtZyElrzKWR67DDkAscrFPioDuitVOAuzwhqURHxaxUNJPpIsBvFWfrg5xFK3f8vSV2WaKReykldsKq0PEWlzm3oFUrquRlKLM/zl190CZS6uQNWa3fMpR7c/RIvqauq88AKlf5M3T9R+lp4qauyfOUXJ5epK6RS15pPQmfhsvWA1HsFUh8sU6Bc7Uaj04kGhxfLHaWAM3Y6JtGHgjHgxY3AwCfAeK/8mIJa8RmlJPWQ+KQuOCTjtBHdw+aQUl8hLL+kmNQ9zF9+8R9ld9A8iQ7LJCZlBCaUOrddwMKcZJR6s6iuPh2pDw8PSyZKw0lduKI0Pz8/jNT9E6UyUkemEuqqXH/3iwJG94g/U++G/nV5qSsUCmTnV0A9ldQnh6E1hZb6x03Acb/Uy9RuNAmkbhxdCGN+MzKqzwIWLkdDTRGqSmN3vjGJPhQKBTB0KCD5gtqgidJWknoIgqXeMWBE97AFHhmrp3qmzkmdW3iUvFI/IlhROrXUhdvvRit1t9stW1MPJfXgmvpsSD2QqfdCf6IHw6/3wBJG6qqsCnjcJbzUvQoV7MFS98vcV1M/BZV7EoYcX4b+cZNP7gNlCpRpfJn6UocXzSKptwILV6ChpgiLSvOQmRGb82HlINGHY92dQKaapB6GaKRekqfBcv/Wu8vn+Voby3WamC+dny2EUucy9UPm8FIXLkBakKNBRsyl7oDFcliw+OhQSKmrVMWS4+w0moqUlLrRPYKhsV4M9XVPIfVyf/mlxN/9UgavQgVHpFKvUOCTRl+mftov9Sah1Md8UldWt0KRIKnLQaIPx9KLEh1BUmF3BaTObRUQWupqQZae3lLPyVBihUDqXKYeF6lbjwQtPuoGY27JWJWqSCD15TOSurCmHkrq2dnZkpp6SKkPWPhVpdFIXX+iB/rXu6eUuocvv8hJfQRabqJUIHVjjm+i9JNGX8Z+isvUXU4ssXvRxEu9Ccrqs6BYuALL5hVhcVnipS4HiZ6QRSh1bvFRJJm6r1e9IOWk3mNz8JOkXPnF5pGXui9TD6wojbfUA4uPjoWWetAZpRpNZdRSD66p6/X6sFIXZusSqY/bMXnQl6lHJXWPX+p9PdC/0QPL+JhMtArkFARLvRRehVpG6sKWxoDUewVSP12mQKlA6s2OEhjGFvmkXnUWFAuWY1ltMRaV5UGVhFKXIyVEv2PHDrz44os4cuQIsrOzcd555+EXv/gFli5dmujQ0gK7y4PDZ8QrSiPJ1Jv9NfUKXVZKSf24zcG3Mx40T+JQOkidX3y0POZSDy6/FBQUyEt9wOLbqXHQAmYPIXWu+6VIKPXj0L/RLS91hQI5kkx9Kqn72hpV7kmYsn1ll08afXI/XS6VunFsISbym5Hhl/qSmmIsLk8dqcuREqLfs2cPNm3ahHPOOQdutxs/+clP8LWvfQ1dXV3IzY3NAoN0hZM6V1M/eDq81Pn91FNY6gcFi48ikTrXqx4vqVutR4O2CQgtda22yS92X/klK6sqLlLn/hVJnTF4xuyYPDjqa2cMK3UF1JW+vV9QpITBPYqhsePQnzgO/Zs9sIyNSm+jUCBHVwZVdqVvotReBEVmmUTqWZOj0JlPBkowAqn3VijwqUDqJbzUPX6pL4IhvwnKqlYoFrSkhdTlUDC55WVJzsjICMrKyrBnzx6sWbNmyvEmkwn5+fkwGo2i7UTTnWCpHxow4ZjeHFbqwq0C0lXq2UpumwCurp6DRfGUumibgMikrtPNLFPn6uozlbqT26FxwLdVQCipqyp9K0o5qevHeqHv78FQ71RSr4LHUwLnZCEUmWVQKMRbAgSkzpVfxFLvreSkzlCicaPB5cQShwcaewkMzoUw6pqgqD4L5QtWoKmmGEvKtSkr9Wi8lhIZfTBGoxEAUFQk3wnjcDjgcAQ2kTCZTHGJK5HYXR4cGTL7yy8GHBowoVtvhltG6sW5askZpZX5qSN1r6j84p8snULqwiPtFudkxVzqXq8DFkv8pR48UerxSEUckdTH7Zg8NOqvqZvhHLCC2aWxh5O6/s3jMI+NSG8jzNQ9pbzURZm6Csiyj0Jr8slc5y/BqNw2SaZ+qkyJkiyXL1N3eNBsL4FhzCd1VLWCLWjBwppiLK1IXanPlJTL6L1eL775zW/CYDBg3759smPuvPNObN++XXI9XTJ6odQ7Tvv2Uw8n9eBMPRWlHpypW0NIvTkvGy26BErdf/i0xXoMjLkkY1WqQkE74/TLLyMjI5Lyi5zUs7KyJN0vclIPZOq+gzJkpZ6h8G0TUJ0HFGfC4BmFfvS4T+q9kUi9BM7JIvlM3S91nT9L56RuzhJn6ifLIZK6xl4Co2MhDPmNQJUvU2+uLUnpTD1SosnoU070N954I15//XXs27cP8+bNkx0jl9HX1NSkpOjtLg+O8pm6rwRzLEKpL5+Xj6oUk3rvpINffHTAbEOHZRIWWakr0MydfKSLp9SdsFiOivrULZbwUhe2NMZD6sLJ0imlPmABmwwvdVacAaNnzJepn+ieNakHZ+rmLN9EaV+FP1MvB4qyXWh0+qSeJZC6oqoVZQta0FTjk7o6M72lLkfalm42b96MV199FXv37g0peQDQaDTQaFLnwAgOh9uDI2fMgoOnQ0u9KFc6UZqyUvd3wBwyh5Z6U554Q6/FOVnIVMZb6h2wWI5GIHVfth5rqQeXXwoLC2XLL5zQo5d6D/Rv9UQl9fDll1N+qVv5TP3zZVymrkSxQOpN9hIYxxbA6M/UsaAFC+ew1GdKSoieMYabbroJu3fvxt/+9jfU19cnOqQZEyx1LlN3eaRSL8xR+RcdBVaVzgWpc22NcZO69RhfT/dJ/RgYc0rGZmYWSPrUs7Kqpy114UTptKU+4Yhe6kUZMHnHAouP/toD86iM1AHk5EsnSr0KTZDUx6A19Uct9UZ7CUx+qTOSekxICdFv2rQJTz/9NF5++WVotVoMDQ0BAPLz85GdnZ3g6KbG4Q6UX4SZeiipB59RWl2QnVJS75t04EAEUs/yS70lJaQuLL9EJ3WPxyPb/TIjqXeMBg6eHrTAawsh9YpcqOf5pe4Zg36iD/oTPRj6a/cUUg+eKJWRurnLt1MjX36RlzpXflkaJHVUnQW2oAWLSOoxJyVq9KE+VI899hiuu+66KW8fz/ZKh9uDY0MWfzujAYcGjDg6FF7qwg29UlHqB82T/iPtppY6l6m3xl3qgW0CQks9n8/UuRJMVta8aUld2P0yU6n7DseIUOr+8otQ6vq+HphGhmXjDUi9BI7JIigzy6BQiMueWfZxf496YEWp2mWFxS/145WBmnqhqKZeDJNjAQy6JqDqLJQtbEEzSX3WSLsafbL+LnK6vYGJ0imkXpCjEu3S2Fydj3mFqSX1E5NO/3F23N4vNpiTTOpWa7do8ZGvph5G6oJsfTpSD66pDw0NyUpdo9FIJkpnnKn7u1+M3lHox/1Sfye01LN1ZVDnVMLrKYV9shDKoEw9Q8VJvcu/90u/ROrtS/2ZeoVSJPVGezHMYwswrmuCwp+pL6wpwZKKPGgyMyJ+TYnYkBKiTwbEUveJfSqpC7P1VJS6cO+XgxFKvUWbgyXxlLq/9GIyHQojdV3QGaUzk7qw/OJ2S0UcLPXKykoUFRXJSH2MX3jkGohS6v090L9zHKYRvWy8AamXwO7P1FmQ1DX2ceh4qfsmTENJvSDbhSa/1Bv8Up/QNfq27V5wFkk9ySHRh4Axhmf3n+J3aTwyZJKVen62ij9wOl2kfshig8ktlbpG1P2SvFIPPqM0K6smplIP3vulsLAQSqWvNMEYg8fASd3Cl2GmlHpJJozeMX+m3j2F1EuhzqnyS70QyszyEFI/HFR+sfBSP+CXer9f6lxNvcFeDMtYPca1jUD1WWALWrGgpgRLK7Qk9RSCRB8ChUKBB9/pwYBhkr+Wn62SnFGazlJvzM3m+9Q5qatiLnWXX+qH+MVHZsuRMFJvCmTr2mZkZ9dOS+rBNfWppC6sqQdL3dE17ut8OW32lV+skUt9+EQPht7pmULq/vKLvRBKZRmYMkssdccEdKbDvNC15pO81PvKBVIvV6IgJ1B+abAXwThWD4PWv6J04Vkk9TSBRB+Gq86uwaTLw0u9pih1pM7kauqRSN1fglmamx03qfN96qZDsFiPwOtNQan793+ZUurFmTCxcQyN92L4RA/07/bAODxNqWf6pK41HfGvKA1I3arxZ+qLfVvv9pcrkZ/jO/lomcOFBnsxTOP1mHBx2wSchfl+qWepSOrpBok+DDevW5zoECKCMYZ+u1/q3DmlU0idW00a70w9MqlrJStKpyP10dFRyUSpnNTVarXsRKlI6sYIpa5UQFWRA3W1FihRweQdg97gnyh9t3tqqXv9NfUwUtdaTvEbe0mk7q+p63K44+xcWOYohpmTemUrvAtbMb+mlKQ+hyDRpxhCqQtPPzK6ZTo9Epqp9wRtE3A4AqlzmXrdtKXOZeuRSp2bKJ221MtzoJ4nI/U9PTDqh2TjjVjq5qOCPvWA1PsqFDi0OFBTz8/x79Jod6HBUQTz+AKMC6ReT1Kf85Dokxg5qR8yT8IQQuoNudn8JGnipN7hl7pDMjYzUwttXpNo8ZEvU4+8pzpaqQdPlEql7gySugVeq3SLA07qquo8KEpVMHnHI5O6tgTq3Ep4vaVRS93mz9SFUtfxUndjqaMQlol6v9TPAvtCK+pqSrGMpE4EQaJPEhhjOGl3+hcehZe6WqFAQ14WWvx7v7TETepuWG09QYuP5KWekZHnq6kLzimNl9S5f2WlfpibKJ2G1PuPQ7+3e2qpe0pht4eSuoGXutbsK8GoXWaf1MsV6Fjk29jrZLkS2txQUm8BzjoLdTWlaKjUkdSJKSHRJwBO6gf40otP7pFI3ZepZ0GtjO3KQqHUfdn6oamlzpVgdMv95ZfopS6cKJ1K6sJsPZzUuf1fvJbopD68twcG/RnZeLO1xVDnVvtaGvmJ0mwZqR/jWxrlpM5l6kKpL3EUwmKox7g7IPX5tWWUqRPThkQfY6YrdW4B0rI4Sd1mOx60orQrblLnJkpdLqmII5K6KVKpA6qyXKjm+aRuZhPQG/owdKInMql7S+CYLIQipNS7RX3qGqcJNjXQVwF0LFJIpL7UL3WrYT7G3M0kdSJmkOhnEU7qwknSg2YbJkJIfVlQph5XqftLLyYTV36xS8bOhtS9Xq9s90soqVdUVIhq6sXFxTOTenUelGVqmNi4b++X/h7o/94Dw1A4qVfB6y2VlboyE1A7jdCZIpN6nl/qy+xuLHUU8Jk6q2gBaz0LdbVlVH4hYg6JfpoES/2Av6YuJ3WVTPklEVL3LT6KvdSDyy8zk/pEYFOv6Uh9X2ipZ2mLoZklqZ8QZuoON5ba/VJ3NcJb2QrWehZqSepEgiDRRwBjDKdEUg+dqasUCjTkZvF96iu0OWiIo9S5enp4qeeK2hm12mbk5MyPmdRVKpVkojRY6t7pSt07Dr3xBPQn3p9a6jlV8DLfLo0KZRkQUuqBDb1kM/VyJXLz3GgUSN1sqMeEq9GfqX+BpE4kFST6EDDGcG/fENpNtqikviw3C5q4St23+Ci81JtEJx/NVOpnzpzBmTNnwkpdWFMXSh0APCYHHEcmfOWX0+aIpW5m49AbTmCo/wMMv9eDiTODsvGKpV4IhbLcJ3V/G79E6hZftq5xmjCpBvrKpVJvcDmxjMvUjfP5TN3b8gXU1JWhkaROJDEk+hAoFAq8MmxA76Qv5eOkvkKbwx8+HQ+pM+aB1SrI1M0dMJu7IpR6M3Jy6qOW+tjYmKimHk7qweWXkpKS0FL3b+rlNYeSeg5U1VqR1PUnP4T+ve7QUs8rgia3ekqpa009gjNKxVLvXKDAcf82ATlaNxqcTjQ4XFhiL4Q1SOrzan1Sz1aT1InUgUQfhu/XlsHLmK/8khdvqftWlJrNh+H1TkrGZmTkQpvXKDrObiZSF2brcZV6qRpmxYRP6v090L/Xg4kzA7Lx+qReBS8rDSN1U5DUT0HjNPJS71oQmCjN9kt9mV/qfKZe0QrWchZqastJ6kRaQKIPw3erimN231Kpc5m6nNRz+BWl3OKj2ZD60NAQnE7ptgRCqXMlmGlLXQFklvm2CZiO1BnzrShVKEsBZY5U6uYe0XF2QqkfXhCYKM3myy9cpl6HMVeTT+orWjGvroKkTqQtJPo4wJgHVluvZEWpx2OTjJVKncvUIxcQJ/XgidLZk7oFXrP0vnipV+dBWaaBGRO+idKIpV7il3pZCKl3iBcfOY1wqIDeioDU+8r9mbrLV35ZbC+A1TgfY65GeCta4F3xBcyrK0dDpQ45anr7E3MDeqfPMkKpCxcfhZJ6Xl6jqKVxplLnaupyUs/MzJRMlEql7oTj6AS/RUA0Uh82nsBQfw/0Hxz3SV3mCMisvMKgTD06qfeVA4fr/VKvCEh9mcOFRfYC2Ex1GHM38VKvri1HYxVJnZjb0Lt/BkQjdaUyG1pto+hIu9ycBVFLfXx8XDJRGkrqcjX1jIzA43FS54TuPB2Z1C0wQG86gaETH0Yo9TLY/X3qwVJXuczQTXTwe79oLSehcRjgUAEnyoGP6wPllyxBps5JfdzdCE9FK9iKszCvtoKkThAypNQn4qGHHsJ9992HoaEhtLS04IEHHsCqVavi8tiMeWGz9QlWlB6Km9SF2fq0pW52wtlt5NsZnQMWeE0hpF6aA/U8v9QVBuiN/dD3fwT9Bz0Yn0LqvolS+UzdJ/VOweIjsdT3CzL1rODyCy91f/mFpE4QEZMyn5LnnnsOW7duxW9/+1usXr0aO3fuxPr163H06FGUlZXN+uMxxjCkf1mworQLHo9VMo6TuvCc0ulKXVhTj0Tqwpr6jKRenQdluUDqJz+G/oPukFLX5BYiK28qqVtCS70sIPUT5UpodIHyy0KHIFMv58ovJHWCmAkKxmQ+yUnI6tWrcc455+DBBx8E4JNjTU0NbrrpJtx6661hb2symZCfnw+j0QidThfxY+5773w4HIEtaX1Sb4BWu3zaUne5XDAYDBgaGhJNlDoccvu3+6QeXFPnpM68DJ5xO1xDVriGrPxkqSek1LOhqsqDR+eFWWnEuG0AI4P90Pf2YHzwdAipF0CTVw3GSuGcLASUZVAoc0VjVC4zdKaA0LVmsdR7KzmpA2qdGw0uFxocTmgdBbDZ6zCe45N6wYIvoNHf/ZKrIakTRDii8VpKfJqcTic+/fRTbNu2jb+mVCqxbt06fPDBB5LxDodDJE6TyTStxx08UgmWWQybuQST5hI4bAUAuInLY/6vyGAAHAo3HEqZk4oAKJkCBZ5sFHpzUOjJRqEnB1pvFpTjCqDLBaAfI+jHiH+8AgrkZmqRqVRJH4sxmF0TmHCOYtwxggnnCAzOUXj6nPAyKwDpEYO++8xGhrIQyoxSME09lBnlUChzwf1hocgEVE4ztOZO/xmlUql/UudbfNRXroRa50Gjy4llDicWOfJhM9dhzO3rfmHLV6KapE4QcSElPmGjo6PweDwoLy8XXS8vL8eRI0ck43fs2IHt27fP+HFP9a+EWSnItDNkMuVpoGIZKGC5KPXqUMK0KPZqUchyoeR+iSgQ8f8Zt9cFk2sMRucIDM5hjDvOwOAchpvJ9LTzZEKRUQiFsgjKjGIoMst4qQvR2CegtRxHnuW0/+DpU8h0TkBfCAyU+M4oPV3sK7+odR4scnlQ6VDjC/Z8rDaXwORe7OtTX74SVSR1gkgYafmp27ZtG7Zu3cp/bzKZUFNTE/X9VCsz4HVqZi2uTKaAmimQAUABN4Bx2DAOG4BT07g/B+yYVFrBshiQ5bumRD6KkB/iFgpkqjXIUGuCzmQd9n9xw7xQaczIyPT9svACMKIaY/lL4CrJh0KlQi4UWAYlmjMyUF3YjLzihcjKy0eOOhM56gxkqzKgjPGJVwRBREZKiJ6rS+v1etF1vV6PiooKyXiNRgONZuaCvvrOH834PgiCIBJNbDdvmSXUajVWrlyJt99+m7/m9Xrx9ttv49xzz01gZARBEMlPSmT0ALB161a0tbXh7LPPxqpVq7Bz505YrVZs2LAh0aERBEEkNSkj+m9/+9sYGRnB7bffjqGhIbS2tuKNN96QTNASBEEQYlKmj34mTLePniAIIlmJxmspUaMnCIIgpg+JniAIIs0h0RMEQaQ5KTMZOxO4aYjpboVAEASRbHA+i2SadU6I3mw2A8C0VscSBEEkM2azGfn5oVbD+5gTXTderxeDg4PQarVBS//Dw22dcOrUKerWmSb0Gs4O9DrOnHR7DRljMJvNqKqqEp0SJ8ecyOiVSiXmzZs37dvrdLq0eGMkEnoNZwd6HWdOOr2GU2XyHDQZSxAEkeaQ6AmCINIcEn0YNBoN7rjjjlnZCXOuQq/h7ECv48yZy6/hnJiMJQiCmMtQRk8QBJHmkOgJgiDSHBI9QRBEmkOiJwiCSHNI9GF46KGHMH/+fGRlZWH16tX4+OOPEx1SSrF3715ccsklqKqqgkKhwEsvvZTokFKKHTt24JxzzoFWq0VZWRkuvfRSHD16NNFhpRQPP/wwVqxYwS+SOvfcc/H6668nOqy4Q6IPwXPPPYetW7fijjvuwGeffYaWlhasX78ew8PDiQ4tZbBarWhpacFDDz2U6FBSkj179mDTpk348MMP8dZbb8HlcuFrX/sarFZrokNLGebNm4d7770Xn376KT755BN8+ctfxre+9S10dnYmOrS4Qu2VIVi9ejXOOeccPPjggwB8++XU1NTgpptuwq233prg6FIPhUKB3bt349JLL010KCnLyMgIysrKsGfPHqxZsybR4aQsRUVFuO+++/C9730v0aHEDcroZXA6nfj000+xbt06/ppSqcS6devwwQcfJDAyYi5jNBoB+ERFRI/H48Gzzz4Lq9WKc889N9HhxJU5salZtIyOjsLj8UgOHi8vL8eRI0cSFBUxl/F6vbjllltw/vnno7m5OdHhpBSHDh3CueeeC7vdjry8POzevRuNjY2JDiuukOgJIgXYtGkTOjo6sG/fvkSHknIsXboU7e3tMBqNeOGFF9DW1oY9e/bMKdmT6GUoKSlBRkYG9Hq96Lper0dFRUWCoiLmKps3b8arr76KvXv3zmi77bmKWq3GokWLAAArV67E/v378etf/xqPPPJIgiOLH1Sjl0GtVmPlypV4++23+Wterxdvv/32nKvtEYmDMYbNmzdj9+7deOedd1BfX5/okNICr9cLh8OR6DDiCmX0Idi6dSva2tpw9tlnY9WqVdi5cyesVis2bNiQ6NBSBovFgp6eHv77vr4+tLe3o6ioCLW1tQmMLDXYtGkTnn76abz88svQarUYGhoC4DtsIjs7O8HRpQbbtm3DxRdfjNraWpjNZjz99NP429/+hr/85S+JDi2+MCIkDzzwAKutrWVqtZqtWrWKffjhh4kOKaV49913GQDJV1tbW6JDSwnkXjsA7LHHHkt0aCnD9ddfz+rq6pharWalpaXsK1/5CnvzzTcTHVbcoT56giCINIdq9ARBEGkOiZ4gCCLNIdETBEGkOSR6giCINIdETxAEkeaQ6AmCINIcEj1BEESaQ6InCIJIc0j0BEEQaQ6JniAIIs0h0RMEQaQ5JHqCmCXuuOMOLF++HLm5uSgvL8eNN94Il8uV6LAIgrYpJojZgDEGxhgeeeQRVFdXo6urC21tbVixYgVuvPHGRIdHzHFo90qCiBH//M//jLKyMuzcuTPRoRBzHCrdEMQs0N/fj02bNqG5uRmFhYXIy8vDH/7wBzr6j0gKSPQEMUNGRkZwzjnnYGxsDPfffz/27duH999/H0qlEi0tLYkOjyCoRk8QM+WVV16Bx+PBM888A4VCAQB48MEH4XK50NramtjgCAIkeoKYMcXFxTCZTPjTn/6ExsZGvPLKK9ixYweqq6tRWlqa6PAIgiZjCWKmeL1efP/738fTTz+N7OxsfPe734Xdbkd/fz9effXVRIdHECR6giCIdIcmYwmCINIcEj1BEESaQ6InCIJIc0j0BEEQaQ6JniAIIs0h0RMEQaQ5JHqCIIg0h0RPEASR5pDoCYIg0hwSPUEQRJpDoicIgkhz/j+SmMMbhnMCDgAAAABJRU5ErkJggg==",
=======
      "image/png": "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",
>>>>>>> upstream/master
      "text/plain": [
       "<Figure size 400x300 with 1 Axes>"
      ]
     },
     "metadata": {},
     "output_type": "display_data"
    }
   ],
   "source": [
    "# plot policy function\n",
    "fig, ax = plt.subplots()\n",
    "for i_y in range(Grids.n_y):\n",
    "    ax.plot(Grids.grid_a[0:40], a_prime[i_y, 0:40], label = f'y = {Grids.grid_y[i_y]:.2f}')\n",
    "ax.set(xlabel = r'$a$', ylabel = r'$a^{\\prime}$', title = 'Policy function after 1 iteration')\n",
    "plt.show()"
   ]
  },
  {
   "cell_type": "markdown",
   "metadata": {},
   "source": [
    "#### **Step 3** - Obtain $V_{t, a}$"
   ]
  },
  {
   "cell_type": "code",
   "execution_count": 8,
   "metadata": {},
   "outputs": [],
   "source": [
    "V_a = (1 + model_params['r']) * c **(-1/model_params['eis']) # update value function derivative"
   ]
  },
  {
   "cell_type": "markdown",
   "metadata": {},
   "source": [
    "### **Combine Steps into single Backward Iteration**\n",
    "Now we write a function which takes as input a marginal value function, income and asset grids, preference parameters and transition matrices to compute a single backward iteration and output objects `V_a, a, c`."
   ]
  },
  {
   "cell_type": "code",
   "execution_count": 9,
   "metadata": {},
   "outputs": [],
   "source": [
    "def backward_iteration(V_a, beta, eis, r, grid_a, grid_y, Pi):\n",
    "\n",
    "    n_y, n_a = grid_y.size, grid_a.size\n",
    "    W = beta * Pi @ V_a\n",
    "\n",
    "    c_endog = W ** (-1/eis)\n",
    "    a_endog = (1 + r)**(-1) * (grid_a[np.newaxis, :] - grid_y[:, np.newaxis] + c_endog)\n",
    "    a_prime = np.empty((n_y, n_a))\n",
    "\n",
    "    for i_y in range(Grids.n_y):\n",
    "        a_prime[i_y, :] = np.interp(grid_a, a_endog[i_y, :], grid_a)\n",
    "\n",
    "    #a_prime = np.maximum(a_prime, Grids.grid_a[0]) # enforce borrowing constraint. actually not needed because interp already does this\n",
    "\n",
    "    # obtain the consumption policy\n",
    "    c = (1 + r) * (grid_a[np.newaxis, :] + grid_y[:, np.newaxis]) - a_prime\n",
    "\n",
    "    return c, a_prime\n",
    "\n",
    "# test the function\n",
    "c, a_prime = backward_iteration(V_a, model_params['beta'], model_params['eis'], model_params['r'], Grids.grid_a, Grids.grid_y, Grids.Pi)"
   ]
  },
  {
   "cell_type": "markdown",
   "metadata": {},
   "source": [
    "And we can solve the entire household problem for steady-state policies."
   ]
  },
  {
   "cell_type": "code",
   "execution_count": 10,
   "metadata": {},
   "outputs": [
    {
     "name": "stdout",
     "output_type": "stream",
     "text": [
      "the steady state is unique.\n"
     ]
    },
    {
     "data": {
<<<<<<< HEAD
      "image/png": "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",
=======
      "image/png": "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",
>>>>>>> upstream/master
      "text/plain": [
       "<Figure size 400x300 with 1 Axes>"
      ]
     },
     "metadata": {},
     "output_type": "display_data"
    }
   ],
   "source": [
    "grid_params = {\n",
    "    'n_y' : 7,\n",
    "    'n_a' : 500,\n",
    "    'min_a' : 0,\n",
    "    'max_a' : 10_000\n",
    "}\n",
    "\n",
    "model_params = {\n",
    "    'beta' : 1-0.08/4, # quarterly discount factor\n",
    "    'r' : 0.01/4, # quarterly interest rate\n",
    "    'eis' : 1,\n",
    "    'rho' : 0.975,\n",
    "    'sd_log_y' : 0.7\n",
    "}\n",
    "\n",
    "class SteadyStateHH:\n",
    "\n",
    "    def __init__(self, model_params, grid_params, tol = 1e-6, max_iter = 1_000):\n",
    "        self.model_params = model_params\n",
    "        self.grid_params = grid_params\n",
    "        self.Grids = Grid(n_y = grid_params['n_y'], rho = model_params['rho'],  sd_log_y = model_params['sd_log_y'], n_a = grid_params['n_a'], min_a = grid_params['min_a'], max_a = grid_params['max_a'])\n",
    "        self.tol = tol\n",
    "        self.max_iter = max_iter\n",
    "        self.c = None\n",
    "        self.a_prime = None\n",
    "        self.V_a = None\n",
    "\n",
    "    def backward_iteration(self, V_a):\n",
    "\n",
    "        W = self.model_params['beta'] * self.Grids.Pi @ V_a\n",
    "\n",
    "        c_endog = W ** (-1/self.model_params['eis'])\n",
    "        a_endog = (1 + self.model_params['r'])**(-1) * (self.Grids.grid_a[np.newaxis, :] - self.Grids.grid_y[:, np.newaxis] + c_endog)\n",
    "        a_prime = np.empty((self.grid_params['n_y'], self.grid_params['n_a']))\n",
    "\n",
    "        for i_y in range(self.grid_params['n_y']):\n",
    "            a_prime[i_y, :] = np.interp(self.Grids.grid_a, a_endog[i_y, :], self.Grids.grid_a)\n",
    "\n",
    "        #a_prime = np.maximum(a_prime, self.Grids.grid_a[0]) \n",
    "\n",
    "        # obtain the consumption policy\n",
    "        c = (1 + self.model_params['r']) * (self.Grids.grid_a[np.newaxis, :] + self.Grids.grid_y[:, np.newaxis]) - a_prime\n",
    "\n",
    "        return c, a_prime\n",
    "    \n",
    "    def solve_ss(self):\n",
    "            \n",
    "        # initialize value function derivative with guess\n",
    "        if self.V_a is None:\n",
    "            V_a = np.ones((self.grid_params['n_y'], self.grid_params['n_a']))\n",
    "        else:\n",
    "            V_a = self.V_a\n",
    "\n",
    "        for i in range(self.max_iter):\n",
    "            c, a_prime = self.backward_iteration(V_a)\n",
    "            V_a_new = (1 + self.model_params['r']) * c **(-1/self.model_params['eis'])\n",
    "\n",
    "            if np.max(np.abs(V_a_new - V_a)) < self.tol:\n",
    "                break\n",
    "\n",
    "            V_a = V_a_new\n",
    "\n",
    "        self.c = c\n",
    "        self.a_prime = a_prime\n",
    "        self.V_a = V_a\n",
    "\n",
    "        return c, a_prime\n",
    "    \n",
    "    def plot_policy(self, bound_grid = 0.4):\n",
    "        \"\"\" \n",
    "        Plot the policy function for the first 4 income states\n",
    "        bound_grid: float, fraction of the grid to plot\n",
    "        \"\"\"\n",
    "        rng_asset_grid = int(grid_params['n_a']*bound_grid)\n",
    "        fig, ax = plt.subplots()\n",
    "        for i_y, y in enumerate(self.Grids.grid_y[0:4]):\n",
    "            ax.plot(self.Grids.grid_a[0:rng_asset_grid], self.c[i_y, 0:rng_asset_grid], label = f'y = {y:.2f}')\n",
    "        ax.set(xlabel = r'$a$', ylabel = r'$c(y,a)$', title = 'Steady State Policy Function')\n",
    "        plt.legend(fontsize = 'small')\n",
    "        plt.show()\n",
    "\n",
    "ss = SteadyStateHH(model_params, grid_params)\n",
    "ss.solve_ss()\n",
    "ss.c, ss.a_prime\n",
    "ss.plot_policy(0.2)"
   ]
  },
  {
   "cell_type": "markdown",
   "metadata": {},
   "source": [
    "**Exercise:** Refactor the code in order to use `@njit`."
   ]
  },
  {
   "cell_type": "code",
   "execution_count": 11,
   "metadata": {},
   "outputs": [],
   "source": [
    "from numba import njit\n",
    "\n",
    "@njit\n",
    "def backward_iteration(V_a, beta, eis, r, grid_a, grid_y, Pi):\n",
    "    W = beta * Pi @ V_a\n",
    "\n",
    "    c_endog = W ** (-1/eis)\n",
    "    a_endog = (1 + r)**(-1) * (grid_a[np.newaxis, :] - grid_y[:, np.newaxis] + c_endog)\n",
    "    a_prime = np.empty((grid_y.shape[0], grid_a.shape[0]))\n",
    "\n",
    "    for i_y in range(grid_y.shape[0]):\n",
    "        a_prime[i_y, :] = np.interp(grid_a, a_endog[i_y, :], grid_a)\n",
    "\n",
    "    c = (1 + r) * (grid_a[np.newaxis, :] + grid_y[:, np.newaxis]) - a_prime\n",
    "\n",
    "    return c, a_prime\n",
    "\n",
    "class SteadyStateHH:\n",
    "\n",
    "    def __init__(self, model_params, grid_params, tol = 1e-6, max_iter = 1_000):\n",
    "        self.model_params = model_params\n",
    "        self.grid_params = grid_params\n",
    "        self.Grids = Grid(n_y = grid_params['n_y'], rho = model_params['rho'],  sd_log_y = model_params['sd_log_y'], n_a = grid_params['n_a'], min_a = grid_params['min_a'], max_a = grid_params['max_a'])\n",
    "        self.tol = tol\n",
    "        self.max_iter = max_iter\n",
    "        self.c = None\n",
    "        self.a_prime = None\n",
    "        self.V_a = None\n",
    "\n",
    "    # adding the model_params as an argument allows solving for different parameterizations\n",
    "    def solve_ss(self, model_params):\n",
    "\n",
    "        # update grid if necessary\n",
    "        if (self.model_params['rho'], self.model_params['sd_log_y']) != (model_params['rho'], model_params['sd_log_y']):\n",
    "            self.Grids = Grid(n_y = self.grid_params['n_y'], rho = model_params['rho'],  sd_log_y = model_params['sd_log_y'], n_a = self.grid_params['n_a'], min_a = self.grid_params['min_a'], max_a = self.grid_params['max_a'])\n",
    "        # update model_params if necessary\n",
    "        if self.model_params != model_params:\n",
    "            self.model_params = model_params\n",
    "\n",
    "        # initialize value function derivative with guess\n",
    "        if self.V_a is None:\n",
    "            V_a = np.ones((self.grid_params['n_y'], self.grid_params['n_a']))\n",
    "        else:\n",
    "            V_a = self.V_a\n",
    "\n",
    "        for i in range(self.max_iter):\n",
    "            c, a_prime = backward_iteration(V_a, model_params['beta'], model_params['eis'], model_params['r'], self.Grids.grid_a, self.Grids.grid_y, self.Grids.Pi)\n",
    "            V_a_new = (1 + model_params['r']) * c **(-1/model_params['eis'])\n",
    "\n",
    "            if np.max(np.abs(V_a_new - V_a)) < self.tol:\n",
    "                break\n",
    "\n",
    "            V_a = V_a_new\n",
    "\n",
    "        self.c = c\n",
    "        self.a_prime = a_prime\n",
    "        self.V_a = V_a\n",
    "\n",
    "        return c, a_prime\n",
    "    \n",
    "    def plot_policy(self, bound_grid = 0.4):\n",
    "        \"\"\" \n",
    "        Plot the policy function for the first 4 income states\n",
    "        bound_grid: float, fraction of the grid to plot\n",
    "        \"\"\"\n",
    "        rng_asset_grid = int(grid_params['n_a']*bound_grid)\n",
    "        fig, ax = plt.subplots()\n",
    "        for i_y, y in enumerate(self.Grids.grid_y[0:4]):\n",
    "            ax.plot(self.Grids.grid_a[0:rng_asset_grid], self.c[i_y, 0:rng_asset_grid], label = f'y = {y:.2f}')\n",
    "        ax.set(xlabel = r'$a$', ylabel = r'$c(y,a)$', title = 'Steady State Policy Function')\n",
    "        plt.legend(fontsize = 'small')\n",
    "        plt.show()"
   ]
  },
  {
   "cell_type": "code",
   "execution_count": 12,
   "metadata": {},
   "outputs": [
    {
     "name": "stdout",
     "output_type": "stream",
     "text": [
      "the steady state is unique.\n"
     ]
    },
    {
     "data": {
<<<<<<< HEAD
      "image/png": "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",
=======
      "image/png": "iVBORw0KGgoAAAANSUhEUgAAAYEAAAE6CAYAAADwVO6SAAAAOXRFWHRTb2Z0d2FyZQBNYXRwbG90bGliIHZlcnNpb24zLjcuMSwgaHR0cHM6Ly9tYXRwbG90bGliLm9yZy/bCgiHAAAACXBIWXMAAA9hAAAPYQGoP6dpAABNzklEQVR4nO3deXxTVfo/8E+zL23TZmm6L+xlLVB2EUQtw6gI8xNURhAUBxxcAEVBHQFH6QiKwkhZXPCLA4oy4LgUlBkUQaoiy4xSZCvQ0j3p3ibNdn5/3CRtaLokNG3aPO/X677uze1dzr2B5zk5dzlBjDEGQgghAYnX2QUghBDSeSgJEEJIAKMkQAghAYySACGEBDBKAoQQEsAoCRBCSACjJEAIIQGMkgAhhAQwSgKEEBLAKAn4uR9//BHTp09HfHw8xGIxtFotxowZg6eeespluYyMDLz//vudU0i7iRMnYuLEie22Pb1ejxUrVqB///6Qy+VQKBTo168fZs+ejf/973/O5Y4dO4ZVq1ahoqLC631lZmZi1apVN17o67z//vsICgpyDgKBALGxsZg3bx7y8/M93p67cxwUFOSTsrek8TE1HtRqdYeW43rZ2dlYtWoVrly50uRvc+fORWJiYoeXyd8JOrsApHlffvklpk6diokTJ2Lt2rWIiopCYWEhfv75Z3z00Ud4/fXXnctmZGRArVZj7ty5nVfgdlRTU4PRo0ejpqYGy5Ytw5AhQ2AwGHD+/Hns3bsXp0+fxuDBgwFwSWD16tWYO3cuwsLCvNpfZmYmNm3a5LNgun37dvTr1w8GgwHfffcd0tPTcfjwYfzyyy+Qy+U3tO2srCzExsa2U0nb7p577mlSGREKhR1ejsays7OxevVqTJw4sUnA/8tf/oInn3yycwrmxygJ+LG1a9ciKSkJX331FQSChq/qvvvuw9q1azuxZL73ySef4OLFizh06BBuueUWl78tXboUNputk0rmnYEDByI1NRUAcMstt8BqteKvf/0rPv30U/zxj3+8oW2PHj26PYroMa1W22n79kbPnj07uwh+iZqD/Jher4darXZJAA48XsNXl5iYiDNnzuDw4cPOn+WNa0FVVVV4+umnkZSUBJFIhJiYGCxevBi1tbUu29y0aRNuvvlmREREQC6XY9CgQVi7di3MZrPLcowxrF27FgkJCZBIJBg2bBj279/vskxNTQ3CwsKwYMGCJmW/cuUK+Hw+1q1b1+KxA0BUVJTbvzuOf9WqVVi2bBkAICkpyXn83377LQBg9+7dSEtLQ1RUFKRSKZKTk7F8+XKXY587dy42bdoEwLWZw9GkwBhDRkYGUlJSIJVKER4ejnvuuQc5OTnNlr81juB59epVAIDRaMSKFStcvqNFixa1qYnLXXNQfn4+/vSnPyEuLg4ikQjR0dG45557UFxcfMPfTVs01/SyatUqBAUFNSn/Y489hg8++ADJycmQyWQYMmQIvvjiiybr//bbb7j//vuh1WohFosRHx+POXPmoL6+Hu+//z5mzJgBgEu0ju/R0UzqrkxtPe+JiYm48847ceDAAQwbNgxSqRT9+vXDe++95/U58huM+K358+czAOzxxx9nP/zwAzOZTG6XO3nyJOvRowcbOnQoy8rKYllZWezkyZOMMcZqa2tZSkoKU6vVbP369ezf//4327BhA1MoFGzSpEnMZrM5t7NkyRK2efNmduDAAXbo0CH2xhtvMLVazebNm+eyv5UrVzIA7OGHH2b79+9n27ZtYzExMSwyMpJNmDDBZXtyuZxVVFS4rL9s2TImkUiYTqdr9tiPHj3KALARI0awffv2NbtsXl4ee/zxxxkAtnfvXufxV1ZWMsYY++tf/8reeOMN9uWXX7Jvv/2WbdmyhSUlJbFbbrnFuY2LFy+ye+65hwFwrp+VlcWMRiNjjLFHHnmECYVC9tRTT7EDBw6wXbt2sX79+jGtVsuKioqaPQbGGNu+fTsDwI4fP+4yf8OGDQwA27ZtG7PZbGzy5MlMIBCwv/zlL+zrr79mr732GpPL5Wzo0KHOcjDG2IQJE1zOMWOMAWArV650fr527RqLiopy+c53797NHnroIXb27FnG2I19N459/vnPf2Zms9llcPx7evDBB1lCQkKT9Rz/dq7fVmJiIhs5ciT7+OOPWWZmJps4cSITCATs0qVLzuVOnz7NgoODWWJiItuyZQv7z3/+w/7xj3+wmTNnsqqqKlZSUsLWrFnDALBNmzY5v8eSkhK3ZfLkvCckJLDY2FjWv39/tmPHDvbVV1+xGTNmMADs8OHDLZ4rf0dJwI/pdDp20003MQAMABMKhWzs2LEsPT2dVVdXuyw7YMCAJsGBMcbS09MZj8drEoT27NnDALDMzEy3+7ZarcxsNrMdO3YwPp/PysrKGGOMlZeXM4lEwqZPn+6y/Pfff88AuJTh0qVLjMfjsTfeeMM5z2AwMJVK1SSxuPPSSy8xkUjkPP6kpCS2cOFC9t///tdluXXr1jEA7PLlyy1uz2azMbPZzA4fPswAuGxn0aJFTYITY4xlZWUxAOz11193mZ+Xl8ekUil75plnWtynIwn88MMPzGw2s+rqavbFF18wjUbDQkJCWFFRETtw4AADwNauXeuy7u7du52JwqEtSeChhx5iQqGQZWdnN1uuG/1uHN/J9cPbb7/NGPM8CWi1WlZVVeWcV1RUxHg8HktPT3fOmzRpEgsLC3MGdXc++eQTBoB98803Tf52fZk8Oe8JCQlMIpGwq1evOucZDAamVCrZggULmi1PV0DNQX5MpVLhyJEjOH78OP72t7/h7rvvxvnz57FixQoMGjQIOp2u1W188cUXGDhwIFJSUmCxWJzD5MmTXZpNAODUqVOYOnUqVCoV+Hw+hEIh5syZA6vVivPnzwPgLkIajcYm7dhjx45FQkKCy7wePXrgzjvvREZGBpi924pdu3ZBr9fjsccea7Xsf/nLX5Cbm4v33nsPCxYsQHBwMLZs2YLhw4fjww8/bHV9AMjJycGsWbMQGRnpPKYJEyYAAM6ePdvq+l988QWCgoLwwAMPuJy/yMhIDBkyxOX8tWT06NEQCoUICQnBnXfeicjISOzfvx9arRaHDh0CgCYX9WfMmAG5XI7//Oc/bdqHw/79+3HLLbcgOTm52WVu9LsBgJkzZ+L48eMuw7Rp0zwqq8Mtt9yCkJAQ52etVouIiAhnc1ldXR0OHz6MmTNnQqPReLWP63l63lNSUhAfH+/8LJFI0KdPH2cZuyq6MNwFpKamOi8qms1mPPvss3jjjTewdu3aVi8QFxcX4+LFi83eteFIJLm5uRg/fjz69u2LDRs2IDExERKJBD/99BMWLVoEg8EAoKGtPjIyssm23M178sknceutt+LgwYNIS0vDpk2bMGbMGAwbNqxNx67VajFv3jzMmzcPAPDdd99hypQpePLJJ3H//fe3uG5NTQ3Gjx8PiUSCl19+GX369IFMJkNeXh7+8Ic/OI+pJcXFxWCMQavVuv17jx492nQcO3bsQHJyMgQCAbRarcu1Dr1eD4FA0CS4BQUFITIy0nnO26q0tLRNdwvd6Hej0Wic/y5vlEqlajJPLBY7v6Py8nJYrdZ2vQvK0/PeWhm7KkoCXYxQKMTKlSvxxhtv4Ndff211ebVaDalU2uwFLMd93Z9++ilqa2uxd+9elxr96dOnXZZ3/EcoKipqsq2ioqImF94mTZqEgQMH4q233kJwcDBOnjyJf/zjH62Wuzk333wz0tLS8Omnn6KkpAQRERHNLnvo0CEUFBTg22+/ddb+AXj0PIFarUZQUBCOHDkCsVjc5O/u5rmTnJzcbMBUqVSwWCwoLS11CUiMMRQVFWHEiBFtLi/ABedr1661ulx7fzeNSSQS1NfXN5nfll+v7iiVSvD5/DYdV1u193nvqqg5yI8VFha6ne9oxoiOjnbOa65Gcuedd+LSpUtQqVTOXxSNB0fQdtyx0TioMcbw9ttvu2xv9OjRkEgk2Llzp8v8Y8eONfuz+IknnsCXX36JFStWQKvVOu/gaElxcbHb20CtVisuXLgAmUzmfCbAUebrj9/dMQHA1q1bm2y3uW3ceeedYIwhPz/f7fkbNGhQq8fSmltvvRUAmgTgf/7zn6itrXX+va2mTJmCb775BufOnWt1WW++m7ZITExESUkJiouLnfNMJhO++uorr7YnlUoxYcIEfPLJJy0mkua+R3fa+7x3VfRLwI9NnjwZsbGxuOuuu9CvXz/YbDacPn0ar7/+OoKDg10efBk0aBA++ugj7N69Gz169IBEIsGgQYOwePFi/POf/8TNN9+MJUuWYPDgwbDZbMjNzcXXX3+Np556CqNGjcLtt98OkUiE+++/H8888wyMRiM2b96M8vJylzKFh4fj6aefxssvv4z58+djxowZyMvLw6pVq9w2BwHAAw88gBUrVuC7777DCy+8AJFI1Oqxf/DBB9i6dStmzZqFESNGQKFQ4Nq1a3jnnXdw5swZvPjii87tOALxhg0b8OCDD0IoFKJv374YO3YswsPDsXDhQqxcuRJCoRA7d+7Ef//73yb7c2zj1VdfxZQpU8Dn8zF48GCMGzcOf/rTnzBv3jz8/PPPuPnmmyGXy1FYWIijR49i0KBBePTRR9v2hTbj9ttvx+TJk/Hss8+iqqoK48aNw//+9z+sXLkSQ4cOxezZsz3a3ksvvYT9+/fj5ptvxnPPPYdBgwahoqICBw4cwNKlS9GvXz/nst58N21x77334sUXX8R9992HZcuWwWg0YuPGjbBarV5vc/369bjpppswatQoLF++HL169UJxcTE+++wzbN26FSEhIRg4cCAAYNu2bQgJCYFEIkFSUpLbppz2Pu9dVidelCat2L17N5s1axbr3bs3Cw4OZkKhkMXHx7PZs2c3ufPjypUrLC0tjYWEhDAALndB1NTUsBdeeIH17duXiUQiplAo2KBBg9iSJUtcbnH8/PPP2ZAhQ5hEImExMTFs2bJlbP/+/U3utrDZbCw9PZ3FxcUxkUjEBg8ezD7//HO3d644zJ07lwkEAnbt2rU2HXt2djZ76qmnWGpqKtNoNEwgELDw8HA2YcIE9sEHHzRZfsWKFSw6OprxeDyX8h47doyNGTOGyWQyptFo2Pz589nJkycZALZ9+3bn+vX19Wz+/PlMo9GwoKCgJncbvffee2zUqFFMLpczqVTKevbsyebMmcN+/vnnFo+juVtEr2cwGNizzz7LEhISmFAoZFFRUezRRx9l5eXlLsu15e4gxri7lx566CEWGRnJhEIhi46OZjNnzmTFxcVN9u3pd+PY56JFi1pcJjMzk6WkpDCpVMp69OjB3nrrrWbvDnK3rYSEBPbggw+6zMvOzmYzZsxgKpWKiUQiFh8fz+bOnetyO+ebb77JkpKSGJ/Pd/me3d2x1NbznpCQwO64444mZWzp33xXEcSY/dYAQnzEZDIhMTERN910Ez7++OPOLg5phL4bQs1BxGdKS0tx7tw5bN++HcXFxVi+fHlnF4nY0XdDHCgJEJ/58ssvMW/ePERFRSEjI6PNtx4S36PvhjhQcxAhhAQwukWUEEICGCUBQggJYJQECCEkgAX8hWGbzYaCggKEhIQ0ec85IYR0RYwxVFdXIzo62qXvEXcCPgkUFBQgLi6us4tBCCHtLi8vr9WX7gV8EnC8vjYvLw+hoaGdXBpCCLlxVVVViIuLc3k9d3MCPgk4moBCQ0MpCRBCupW2NHHThWFCCAlglAQIISSABXxzECHENxhjsFgsN/T6aNIyPp8PgUBwQ3c2UhIghLQ7k8mEwsJC1NXVdXZRuj2ZTIaoqCiv+4KgJEAIaVc2mw2XL18Gn89HdHQ0RCIRPYPjA4wxmEwmlJaW4vLly+jdu3erzwS4Q0mAENKuTCYTbDYb4uLiIJPJOrs43ZpUKoVQKMTVq1dhMpkgkUg83gYlAUKIT3hTKw0EjDHAZgOzWgGr1WXMLFbAanGdZ7VCGBkFfkiw2+3d6HmmJEAIIV5iNptLsHYGdYvFdV6j4M6sVsDDN/gzi9lHR0BJgBBCAHABnVksrrVzi8UlkDOrxTXQ22ze7zAoCEF8PsDnI4jPRxBfAAj4183jpnleNPO0FSUBQki30qS5xRHIrwvijQM+s1gB5n1AdwTrnGvX8PAzz+C/Z86gb69eeHvjRqQMHswFdYHAJcCvXL0ae/bswW+//YZdu3bhvvvua7Jdi8WCoUOHwmw247fffruR09IsSgKEEL/GHAHd0cTiCN4WNwHdEei97TDRXjvngrUAQYIWauqNg7r97qe5DzyAO+66C98cPYp33nkHMx9+GOfPn4dA0DTU9unTBxs2bMBf/vKXZovz1ltvQaFQQKfTeXc8bUBJgBDiU4wxGMxW53RDsL6+ycXSUCu3B3Ou/bxtNXQpP8j1VlRHQBcIAD4fr27ejEtXr+KdjRu54C0Q4Obf/Q5Ln3wSf/h//4+bx+N5fTvruXPncO7cORw9ehQikQiPPfYY1q1bh2PHjuHmm29usvwDDzwAAHjllVfcbq+4uBjbtm3DunXr8NRTT3lVpragJEAI8RozmWApL4e1rAyWsjJYy8phqK2BNSkJpuIS8IKAWoMJQ7ef83lZflk2DnKpuKG2fl1An/PnP2Po0KGwhYVBLBbj6tWrOHvuHO6cPh286x60Onr0KO68885m91VRUdFkXnZ2Nvr27evy0NbgwYNx5swZt0mgNc8++yyee+45yOVyj9f1BCUBQoiTzWSCtayMC+r6MljL7cFdXwZLORfkGwJ+GWw1NU23ERUF2wvPw1ZZASuPB5vlBi6eeoAfEgyeqPmQlpiYiIEDByIzMxPTp0/HRx99hGnTprm9t/6mm25yG+hbUlNT0+RNxKGhoahxc45ak5WVhfPnz2P79u04fPiwx+t7gpIAId0Ys1hgrajgAnqZviGgl+nt4zJY9XouwOvdB/VW8fngh4dDEB4OvlIJlpiAGpkMfJUKQokECj4fvzyTYG9D53Ft6D54hkAq5Le6zAMPPICPPvoI06dPx65du/Daa6+12/6Dg4NRVVXlMq+qqgrBwe7v72+OzWbDE088gYyMjA550pqSACFdjK2ujgveOh0sZWWw6HRc7Vyn5wK9vgwWvQ5WfRmsFRWeXyQVCJwBXaBSgh+u5KaV4fbpcAiUjnlK8EJDXYK60WjE5cuXIVSpILDXslvv2qRjzJgxA8uXL8dPP/2EkpISTJo0ye1yR44cwZQpU5rdjrvaff/+/XHu3DmYzWYIhUIAwP/+9z8sW7bMozJWVVXh5MmTuOuuuwBwT2BXVVUhMjISOTk57f4UNiUBQjoZYwy2mhoumOv1sOj0sOh13Ged3jXg6/Vgnr6ULSgI/LAw8FVKCMKV4KtVEChVDcFcpYJApQI/nAv6vNDQbvuuH6VSiQkTJmDu3LmYOXMm+Hz3vx7Gjx/vcTNO37590bdvX/ztb3/DM888g3fffRd8Ph9jx451u7zZbIbVaoXNZoPZbIbRaIRIJIJCoUB+fr5zuWPHjuHZZ5/FkSNHIJVKPSpTW1ASIMRHbLW1sOj1sOh0sJTquNq5c1pvD/LcNKuv92jbQWIxF7jVansgV0KgUkOgVoGvVHE1eMc4LIy7Q4YA4JqEZsyYge3bt7f7tnft2oUHH3wQa9asQb9+/bB3717n7aFr1qzBkSNHsH//fgDAI488gv/7v/8DwP3ymDNnDr755htMnDgRkZGRzm0qlUrw+XyXee0piDFvb6jtHqqqqqBQKFBZWUndS5JWMYuFa27RlcJSWsoFcZ0OlpJSbtxo8LTGzpPLuVq6Sm0P8FyNXaBWcbV1tX2+Sg2eXOa3tXVHc1BSUpJXLzTztaysLDzwwAO4dOlSZxelXbg7357ENaoeEALurhhLSSkspSWwlJbap+2DrpSrvZeWwlpWBnjwqoAgqZQL3mp1QzDXaJy1doFazdXmVSrwfPBTn7gym83YuHEjHnrooc4uit+gJEC6NWYy2WvqJTCXlHDBvaSkYSjlPlsrK9u+UR6Pq5Fr7MFdo2kI7BoNBBouqAs0GvB8fI83aTu9Xo/Y2FgMHjwYW7du7ezi+A1KAqRLYoxxtz4WF8NSXAxzcTEsxSX2YF/sDPZWvb7N2wwSiRoCumOI0DSZxw8P5x5GIl2KSqWCwWDo7GL4HUoCxO8wq5W7Q6a4COaiIliKimEubjS2B/s2X0wVCiHUaCCIiLAH9oiGaS03FkZEgKdQ+G07OyG+QkmAdChms8FaVgZzYRHMRYWwFDoCfSE3r7gIlpJSwGJp0/b4SiUEWi2EEREQaLVccNdGNHzWarm7Yyi4E+IWJQHSrmwGA8yFhTAXFMJcWABzQQEsBYUwFxXBXFgIS2EhmLkNHWTweBBEREAYGckF+UgtBNpILsDb5wkiIpq884UQ4hlKAsQjttpamPLzYc7Phzm/gBsXNIytZWWtbyQoiGuKiYqEUBsJYVQkBJFREEZFcgE+KgoClYrubSekA9D/MuKCmUwwFxbClHcN5mt5MF+7xgX9a/kwX7sGa3l5q9vgyWQQxkRDEB0NYWQUhNHREEZH2QN8NITaCATZH6snhHQuSgIByFpTA3NuLky5uTDl5sGUexXmvGsw5+XBXFTU6n3wvNBQCGNjIIyOhigmFsKYaAhjuM/CqCi6wEpIF0JJoJuyGQxckL98BaYrV2C6epUb5+a2ettkkEQCYWwMRLFxEMbG2qdjuUAfGwt+iL+8DowQ/3Lp0iXMmTMHp06dQr9+/bB9+3YMGTKkyXL19fVYuHAhDh48iOrqagwdOhR///vfMWjQIADA+++/j/nz57s8cZ2dnY34+Ph2LzMlgS6MMQZLSSlMOZdQn5MDU85lmC7noP7KFVgKCltcl69UQhQfD2F8HERx8RDFx0EYFw9RXCz4ajXV5Anxwv3334877rgD//nPf/DOO+9g+vTpbruXtFgs6NGjB3744QdERUVhw4YNmDZtmsurLG677TYcOHDA52WmJNAFMMZgKS1F/YUL3HDxIkwXL6H+0iXYqqubXY+nUECUmABxYiKECfZxfAJECfFUmycdhzHA7OGbT70hlAEtVF5eeeUVXLx40eXFcePGjcNTTz2FP/zhDze8e0+6l5TL5S59Cz/22GN4+umnodfroVKpbrgsnqAk4GeYyYT6S5dgPPsb6s/9BuNv51B/7hz3Xnh3eDyI4uIg6tkToqREiHv0gCgpCaKkJAjCwzu07IS4Za4D1kT7fj/PFQCi5l/T8cc//hFDhw7Fli1bnN1LZmdn4/e//32TZTu6e8msrCxotVqXBPD9999DpVJBq9XiiSeewMKFC1vchrf8LglkZGRg3bp1KCwsxIABA/Dmm29i/PjxzS6/c+dOrF27FhcuXIBCocDvfvc7vPbaax2eTb3BTCYYz1+A8ddfYPj1Vxizs1F/4SLg7j56Hg+ihASIe/WCuHdviHv1hKhXL4gSE+leeULawF+7l6ysrMSCBQtcOpyfMGECfvnlF8THx+P48eOYPn06tFotpk+f7lGZ2sKvksDu3buxePFiZGRkYNy4cdi6dSumTJnS7AWRo0ePYs6cOXjjjTdw1113IT8/HwsXLsT8+fOxb9++TjiCllkrKlB38iQMJ0+i7uQpGH/9FcxkarIcLzQUkr59IemfDHHffhD37QNxz57g+eFreQlplVDG1dI7Yj+t8LfuJY1GI6ZNm4Y77rjD5c2mSUlJzulRo0bhiSeewL59+7p/Eli/fj0efvhhzJ8/HwDw5ptv4quvvsLmzZuRnp7eZPkffvgBiYmJeOKJJwBwJ27BggVYu3Zth5a7OdaaWtT99BNqjx1D3U8/of78+SbL8BQKSAcOhGTgQEgG9Iekf38IY2LowizpPoKCWmym6Uj+1L2kxWLBfffdh+jo6FaTEc8HfTI7+E0SMJlMOHHiBJYvX+4yPy0tDceOHXO7ztixY/H8888jMzMTU6ZMQUlJCfbs2YM77rij2f3U19ejvtGLx67P3DfKotej+uC/Uf3vf6Puxx+bvCJB1KMHZMOHQTp0GKQpKRAlJVLAJ6SD+FP3ko888ggMBgM++eSTJjHgwIEDGD58ODQaDU6ePImNGzdi/fr1HpWnzZifyM/PZwDY999/7zL/lVdeYX369Gl2vU8++YQFBwczgUDAALCpU6cyk8nU7PIrV65kAJoMlZWVXpfdZrWyqkOHWO6ChSw7uT/L7tvPOVy49TZW8OJKVrn/ADPrdF7vg5CuwmAwsOzsbGYwGDq7KG598sknDAD74Ycf2n3bFy5cYGPHjmUSiYSlpKSwU6dOOf/2yiuvsN/97neMMcauXLnCADCJRMLkcrlz+O677xhjjC1dupRpNBoml8tZnz592MaNG5vdp7vzXVlZ2ea45jfdSxYUFCAmJgbHjh3DmDFjnPNfeeUVfPDBB/jtt9+arJOdnY3bbrsNS5YsweTJk1FYWIhly5ZhxIgRePfdd93ux90vgbi4OK+7l6z6+muUvrkBppwc5zzJwIEISUtDyK2TIOrRg2r6JKBQ95Idq9t0L6lWq8Hn81FUVOQyv6SkBFqt1u066enpGDdunLPNbfDgwZDL5Rg/fjxefvllREVFNVlHLBZDLBbfcHmZyYTitetQ/o9/AAB4ISEImzEDYTPugbjRRR1CiP+g7iWb8t3VBg+JRCIMHz4cBw8edJl/8ODBZtvU6urqmlwwcbTx+foHzrUlS50JQPXIfPT65hC0zyyjBECIn9Lr9QgNDUVOTg4ef/zxzi6O3/CbXwIAsHTpUsyePRupqakYM2YMtm3bhtzcXOdDEitWrEB+fj527NgBALjrrrvwyCOPYPPmzc7moMWLF2PkyJGIjvbtwynKP86C4eefEZWejpBJt/h0X4SQG0fdS7rnV0ng3nvvhV6vx0svvYTCwkLngx0JCQkAgMLCQuTm5jqXnzt3Lqqrq/HWW2/hqaeeQlhYGCZNmoRXX33V52WVjx2Lnv/5N/gt3ANMCCH+zm8uDHcWTy6gEEJa5+8XhrubG70w7DfXBAghhHQ8SgKEEBLAKAkQQkgAoyRACCHt5NKlSxg3bhxkMhmGDRuG//73v62uk5WVBR6Ph7/97W9N/maxWDBo0CD069fPF8UFQEmAEELazf3334+0tDSUlZXhoYcewvTp02GxWJpd3mazYcmSJRgxYoTbv7/11ltQKBS+Ki4ASgKEkADxyiuvYN68eS7zxo0bh71797bL9h09i61YsQISiQSPPfYYrFZrsy/ABIBt27Zh1KhRSE5ObvK34uJibNu2DStWrGiX8jXHr54TIIR0P4wxGCy+f0hLKpC2+J4uf+tZrKysDG+++SaysrKwZMmSJn9/9tln8dxzz0Eu9+1ruCkJEEJ8ymAxYNSuUT7fz4+zfoSshY5l/K1nseeeew6LFy9GuJtuYLOysnD+/Hls374dhw8f9qgcnqLmIEJIwHD0LAYAu3btwqxZs9pt2570LHbq1Cn89NNPeOSRR5r8zWaz4YknnsCGDRs65A3E9EuAEOJTUoEUP876sUP20xp/6Vns8OHDOH/+PGJiYgBw/QwLBAJcunQJ69atw8mTJ3HXXXcB4DrcqqqqQmRkJHJyciCTtd6NpicoCRBCfCooKKjFZpqO5C89i/3pT3/Cfffd5/z85JNPonfv3nj66aehUCiQn5/v/NuxY8fw7LPP4siRI5BKW090nqLmIEJIQHnggQdw9uzZdm0Kcti1axcOHDiAsLAwvP3229i7dy8EAq6uvWbNGuevC5lMhsjISOcglUoRHByMsLAwBAUFufxNqVSCz+cjMjLSJ81D9AI5eoEcIe3K318gRz2LuaJfAoSQgEE9izVFSYAQEhCoZzH36MIwISQgUM9i7tEvAUIICWCUBAghJIBREiCEkABGSYAQQgIYJQFCCAlglAQIISSAURIghJB24kn3ksHBwS5DUFAQ/vnPfwIA6urqsGDBAkRERECr1eK1117zWZkpCRBCSDvxpHvJmpoa53Ds2DFIpVKkpaUB4HpBu3z5Mi5evIiff/4ZW7duxVdffeWTMlMSIIT4FGMMtro6nw+tvQbNH7uXdNi5cyfuvvtuhISEAAAOHDiAJUuWIDQ0FHFxcXjooYewY8eOdinn9eiJYUKITzGDAeeGDff5fvqePIGgFt6172/dSzowxvDhhx8iIyOjyfzG02fOnGl2GzeCfgkQQgJC4+4lAbSpe8nmBnc87V7S4bvvvkNdXR0mT57snJeWloY333wTFRUVuHLlCt5//33U1dV5eMRtQ78ECCE+FSSVou/JEx2yn9Y4upecPn06du3a1a4XXD3pXrKxnTt3YubMmc7eyADghRdewJIlS5CcnIywsDDMmDGjTc1K3qAkQAjxqaCgoBabaTqSv3Qv6WAymbBnzx58/vnnLvPlcjm2bdvm/PzCCy8gNTW1xWPzFiUBQkjA8JfuJR0yMzOhUCiaLHPt2jUIBAJoNBocOnQI27dvx/Hjxz0qT1vRNQFCSEDxh+4lHXbu3IlZs2Y16TbywoULGDFiBEJCQvDss8/io48+QnR0dLuXF6DuJal7SULaGXUv2bGoe0lCCGkj6l6yKUoChJCAQN1LukcXhgkhAYG6l3SPfgkQQkgAoyRACPEJm83W2UUICDd6nqk5iBDSrkQiEXg8HgoKCqDRaCASiZrcAkluHGMMJpMJpaWl4PF4Lu8s8gQlAUJIu+LxeEhKSkJhYSEKCgo6uzjdnkwmQ3x8PHg87xp2KAkQQtqdSCRCfHw8LBYLrFZrZxen2+Lz+RAIBDf0S4uSACHEJ4KCgiAUCl1ejEb8D10YJoSQAEZJgBBCAhglAUIICWB+lwQyMjKcL0IaPnw4jhw50uLy9fX1eP7555GQkACxWIyePXvivffe66DSEkJI1+ZXF4Z3796NxYsXIyMjA+PGjcPWrVsxZcoUZGdnIz4+3u06M2fORHFxMd5991306tULJSUlsFgsHVxyQgjpmvzqVdKjRo3CsGHDsHnzZue85ORkTJs2Denp6U2WP3DgAO677z7k5ORAqVR6tU96lTQhpLvpkq+SNplMOHHiBNLS0lzmp6WlNdu35meffYbU1FSsXbsWMTEx6NOnD55++ukWXxJVX1+Pqqoql4EQQgKV3zQH6XQ6WK1WaLVal/larRZFRUVu18nJycHRo0chkUiwb98+6HQ6/PnPf0ZZWVmz1wXS09OxevXqdi8/IYR0RX7zS8Dh+iffGGPNPg1ns9kQFBSEnTt3YuTIkfj973+P9evX4/3332/218CKFStQWVnpHPLy8tr9GAghpKu4oV8CZrMZRUVFqKurg0aj8bpdHgDUajX4fH6TWn9JSUmTXwcOUVFRiImJgUKhcM5LTk4GYwzXrl1D7969m6wjFoshFou9LichhHQnHv8SqKmpwdatWzFx4kQoFAokJiaif//+0Gg0SEhIwCOPPILjx497XBCRSIThw4fj4MGDLvMPHjyIsWPHul1n3LhxKCgoQE1NjXPe+fPnwePxEBsb63EZCCHEH/ny/h2P7g5644038MorryAxMRFTp07FyJEjERMTA6lUirKyMvz66684cuQI9u3bh9GjR+Pvf/+729p4c3bv3o3Zs2djy5YtGDNmDLZt24a3334bZ86cQUJCAlasWIH8/Hzs2LEDAJeQkpOTMXr0aKxevRo6nQ7z58/HhAkT8Pbbb7dpn3R3ECGkI5msJlTUV6DcWM6N68tRYWw6bvy3V29+FZPiJ7V5H57ENY+ag44dO4ZvvvkGgwYNcvv3kSNH4qGHHsKWLVvw7rvv4vDhwx4lgXvvvRd6vR4vvfQSCgsLMXDgQGRmZiIhIQEAUFhYiNzcXOfywcHBOHjwIB5//HGkpqZCpVJh5syZePnllz05LEII8YqN2VBtqka5sRzl9eXcuNF042BfZixDRX0Fas21Hu+nor6i/Qtv51fPCXQG+iVACHGw2qyoNFWi3FiOMmNZ07E9uDvmVdRXwMo8f1U2P4gPhViBMHEYwiXhCBeHI0wSxn0WhyNcEu78W5g4DGqpGhKBpM3b99kvgcasViveeecd/Pbbb4iNjUVKSgpSUlKgUqm83SQhhLQrR1AvM3ABXG/UO2vrZcYyZzB31N4r6itgY5531ygXyhEuDodSokSYhAvkjiCulCgRJg5zzg+XhCNEFAJekH/cnOl1Enj88cexZ88e3H777di0aRN4PB7MZjNiYmKQkpKCzz77rD3LSQghzuYXvVGPMkOZSy3dGdTry51B39ugrhArnEE9XBLurK03/qyUKJ1BXcT3rmtHf+B1Eti7dy8++OADTJ48GZ999hmysrJw+PBhrF692tmGTwghrTFajCgzlkFv0HPB3R7M9Qa9S3B3BHxvml+uD+pKibLZaYVYASEvcDrC8ToJ1NTUoH///gAAoVAIPp+PRYsWwWQyUb+ihAQwxhjqLHXOoK436F2n7YHeMe3NhdIQUYizJq6UKKGUKp3B/PrgHmhB3VNeJ4EePXqgoKAAcXFxiImJQX5+PpKTk3HXXXdh/PjxWLduXXuWkxDSiRhjqDXXugRyvUEPnUHXZF6ZsQwGS/Pv73JHyBNCJVVBKVFCJVE5A7tjWiVRQSltCPpCPgX19uJ1EpgxYwYOHDiAUaNGYeLEiXjvvfdw2223ITs7u8UXuBFC/IfBYuACuSOgG/TQGXVNA7xBD6PV6NG2pQIpF8ClKqgkqmbHSqkSIcKQG+osnXivXW4Rzc3NxciRI2G1WlFVVYWHH34YGRkZ7VE+n6NbREl3Y2M2VNRXoLSuFDqDDqUG+9j+2RHcdQadx00xMoGs2WCulqpd5smEMh8dIWlNh9wi2lh8fDzOnDmDzMxMKJVK3HHHHe2xWUJII1abFWXGMpQaSlFaV8qNG03r6riArzfoYWFt71hJwpdwwVuqglqidgnmzmn7Zwrs3U+7vUpapVJh9uzZ7bU5QgKGI7iXGEoagntdKUrqSqAz6JxjvVHv0e2OSokSaqkaGqkGaqm6YZCpncFeLVVDLpRTU0wA85v+BAjpbhhjqKivQEldScPgCPR1pSiuK/Y4uPOCeM4aukamgUaqcY4dAV8j00AlUdHFU9ImlAQI8YLFZoHOoENxXTGKa4tRUlfinC6u44bSulKYbKY2bY8fxIdKomoa2GVqREgjnONwSTgEPPpvS9oP/Wsi5DpmqxmlhlKXoF5UW+T8XFRXBJ1B1+bau1KiRIQsAhGyCGikGm5sD/KO+eHicPB5fB8fGSFN+SQJ8Hg8TJw4EevWrcPw4cN9sQtCvGK2maGr06GorghFtUXO4F5UW+QM8HqDHgyt3zQnCBJAI9NAK9NCK9ciQhbhnNbKuM8R0ghqliF+zSdJ4L333sPVq1fxxBNP4Pvvv/fFLghxq8pUhcKaQhTUFKCgtgBFtUUorC1EYW0himrbXoMX8oSIkEUgUh7JBXZ7cI+URXJjeSSUEqXfvASMEG95/ZxAXl4e4uLi2rs8HY6eE+g6GGOorK9Efm0+F+QdQy03LqwpRLW5utXtCHgCZ2CPlEc6h8bBngI86co65DmBfv36YenSpVi+fDnkcrm3myHEiTGG8vpyFNQUIL8m32XsCPZteR1BuDgcUcFRiJI3GuyfqQZPiCuvk8DBgwexZMkSvPvuu3jllVcwb9689iwX6abqzHXIq87DtZpryK/O58aNAn5bgrxGqkFUcBSi5dGIDo52jmOCYxApj6QHmgjxwA2/NmLHjh14/vnnoVar8cYbb2DixIntVLSOQc1B7a/KVIW8qjzkVufiatVV5FXnIa86D7lVudAb9a2uHyGNQHRwNKKCoxAbHIuo4CjEyGOc88R8cQccBSFdlydxrV3eHWQwGJCeno7XX38daWlpWLduHXr16nWjm+0QlAS8U1lfidyqXORW2wf7dF5VHsrry1tcVyFWIDY4FrEhsYgOjkZscCxigmMQE8wF+q7cQQch/qDD3x3EGENaWhqqq6uxceNG7N+/H4sWLcKqVasQEhLSHrsgnaDOXIerVVddh+qryK3KbbXja5VEhYTQBMSFxHHj0DjEhXBDqIiSLSH+wusksGXLFhw/fhzHjx/H2bNnwefzMXjwYCxatAgpKSnYuXMn+vfvj3379iE1NbU9y0zaWWV9JS5VXMLFiovIqczBpYpLyKnMQUldSYvraaQaxIfGIz4kvsmY2uUJ6Rq8bg6Ki4vD6NGjnUNqairEYte22jVr1mDXrl349ddf26WwvhBIzUFVpipnsG881hl0za4TJg5DYmgiEkITXIa4kDgK9IT4qQ6/JtCc4uJiREdHw2r1vE/QjtIdk4DBYsCliku4UH4BFysuckP5RZQYmq/ZR8oj0TOsJ3oqeqJXWC8kKZKQpEiCQqzowJITQtpDh18TaE5ERAQOHTrky10EvMr6SpzRn0G2Phtn9Wdxvvw8rlZdbfa1B1qZFr3Ce6GXohcX9O2DXEjPehASiDxKArm5uYiPj2/z8gUFBZgwYYLHhSLu1ZnrnAH/V92vOKM/g7zqPLfLKiVK9A7rjd7hvdErrCHgh4joQj0hpIFHSWDEiBGYOnUqHnnkEYwcOdLtMpWVlfj444+xYcMGLFiwAI8//ni7FDTQmG1mXCi/gF9Kf8Evul/wq+5X5FTmuK3hx4fEo7+qP5JVyein7Ic+4X2glqo7odSEkK7GoyRw9uxZrFmzBr/73e8gFAqRmpqK6OhoSCQSlJeXIzs7G2fOnEFqairWrVuHKVOm+Krc3Y7RYsTJ4pP4qegnnC49jTO6M2479tbKtBioHoiB6oEYoBqA/qr+1G5PCPGaVxeGjUYj9u/fj++++w5XrlyBwWCAWq3G0KFDMXnyZAwcONAXZfWJzrowbGM2/Fb2G7IKspBVmIVTxaeadEASIgrBIPUgDFIPcgZ+quETQlrj8wvDEokEGo0Gc+fOxZAhQ7wqZCAqrSvF0fyjOFZwDD8W/tjkyVqtTIvRUaMxXDscQzRDkKhIpBedEUJ8yuu7gx5//HE8/vjjTZLA+fPnodVqoVBQEwUAFNUW4fNLn+NQ7iH8qnd9XkImkGFE5AiMiR6DMVFjkKRIog6/CSEdyuskcO7cObd3/nzzzTf417/+hczMzBsqWFdmsVlw5NoR7LmwB0fzj7p0YjJANQDjYsZhbPRYDNYMhpBHvU4RQjqP10kgNDQUZWVl6Nmzp8v88ePH4/nnn7/hgnVFJXUl+Pjcx9h3YZ/Lg1mp2lTc0eMOTIybSG36hBC/4nUSmDp1Kl577TXs3r3bZT6Px4PJZGpmre6p2lSN9SfW49OLn8JiswDg7tOf2nMq/tD7D0hSJHVyCQkhxD2vk8CaNWswePBg3HbbbVi/fj0GDx4Mo9GIV199FYMHD27PMvq1C+UXsOTbJbhadRUAMCxiGO5Pvh+3xt1KHYwTQvye10lArVYjKysLjz76KFJSUiAWi2GxWKBQKPD555+3Zxn9VmZOJlZlrYLBYkCkPBJrblqDEZEjOrtYhBDSZjf07qCEhARkZmYiLy8Pp06dglAoxKhRo6BUKturfH5r3fF12JG9AwAwOmo01t68FuGS8E4uFSGEeKZdXiAXFxeHuLi49thUlxEdHA0AeGTQI1iUsgh8Hr+TS0QIIZ7z6VtEu7NZ/WYhRZOCAeoBnV0UQgjxGj2O6qWgoCBKAISQLo+SACGEBDBKAoQQEsAoCRBCSACjJEAIIQGMkgAhhAQwv0sCGRkZSEpKgkQiwfDhw3HkyJE2rff9999DIBAgJSXFtwUkhJBuxK+SwO7du7F48WI8//zzOHXqFMaPH48pU6YgNze3xfUqKysxZ84c3HrrrR1UUkII6R686l7SV0aNGoVhw4Zh8+bNznnJycmYNm0a0tPTm13vvvvuQ+/evcHn8/Hpp5/i9OnTbd5nZ3UvSQghvuJJXPObXwImkwknTpxAWlqay/y0tDQcO3as2fW2b9+OS5cuYeXKlW3aT319PaqqqlwGQggJVH6TBHQ6HaxWK7Rarct8rVaLoqIit+tcuHABy5cvx86dOyEQtO0NGOnp6VAoFM4h0N55RAghjflNEnC4vo9dxpjbfnetVitmzZqF1atXo0+fPm3e/ooVK1BZWekc8vLybrjMhBDSVfnNC+TUajX4fH6TWn9JSUmTXwcAUF1djZ9//hmnTp3CY489BgCw2WxgjEEgEODrr7/GpEmTmqwnFoshFot9cxCEENLF+E0SEIlEGD58OA4ePIjp06c75x88eBB33313k+VDQ0Pxyy+/uMzLyMjAoUOHsGfPHiQlUZeOhBA/xxhgrgPqyoA6PWAos083/qwHxiwCYob7pAh+kwQAYOnSpZg9ezZSU1MxZswYbNu2Dbm5uVi4cCEAriknPz8fO3bsAI/Hw8CBA13Wj4iIgEQiaTKfEEJ8zhnQ9Y2GctfPjqDumG8oAyzG1rfde3JgJIF7770Xer0eL730EgoLCzFw4EBkZmYiISEBAFBYWNjqMwOEENIuzMbrArq+oYbubl5bA7o7fBEgVQIyJSBTcWNpo+moIe17bI341XMCnYGeEyAkADAG1FcBtbqG4F2rA+p09nFZo2n7Z1ONd/vii7jgLVUCclXDtEwJyNT2sdI16IuCATc3wHjLk7jmV78ECCGkTWw2wFhxXSDXAbV695/r9IDV5Pl+eAJ7MFc31MqdAV7tWmuXq7mxSN6uAd3XKAkQQjqfzQYYyhsCeG3pdUG9tKEW7xgzq+f7Ecq42rhcZR/bA7lcba+lqxp9VgESRZcK6N6gJEAIaX+MAaZaoLakIajXlFwX4EsbfS7zLqiLFQ0BXaa6Lri7CfIiWfsfaxdHSYAQ0jaOJpiaEnsALwFqSq+btv+tphSwGDzfh0QByDXXBXBNo6Cuavi7TAUIRO1+mIGGkgAhgcxm5ZpWakpcA7kj0DvmO2rsNotn2xfKuAAuj2gI5m4/a7igzhf65jhJsygJENLd2Gz2wF7cENBrSuyfS7mxI9jX6QFm82z7kjAuaAdHuI7dTYvkPjlE0n4oCRDSVZiNQE0RF9Cri7hgXl103Tx7Dd6j9vUgrhbuLpgHR3C19mBNQ+2dmmC6FUoChHQmxoD66kYB3T6uLmw0r4QL9MZKDzZ8XWAP1nLTzqDeaFqmAvgUCgIVffOE+AJjXNB21NSrGw01RUB1cUOgN9e1fbsCCRfQQyLtgTyyIcCHOKa1XDs7ta+TNqAkQIinzEYugFcVcOPqQqCqsGG6upAL9p68QkAUAoRouaDeZBzZEOAD4L510rEoCRDSmLHKHtTzucBeVWCfLrAH/QLuYmpbScIaBfEWAjxdQCWdhJIACQyMcU+kOoJ548DeeNpU3bbt8cVAaDQ3hEQBoVHc2DnYg7tQ6tvjIuQGURIg3UN9DVCZB1Re44aqfKAyH6i61hDg29r2LlEAIdFcYA+NsQ/26ZAoLvBLw6lZhnQLlASI/2OMa4KpyOUCfUUuUJFnn7aPjRVt25ZMdV1gj+YCviKmIciLg316OIT4E0oCpPPZbNxdMs4An9so4NvnteUVBBIFoIjjgrkilgvwilj75xgu2Aslvj8eQroQSgLE9xjjHmAqvwKUXwUqrjTU5h3Bvi2v+Q2OBMLiuEDvHMdzY0UsIKH+IAjxFCUB0j6sFq79vSzHPlzmhvLLXPBvrT0+iGevsccB4QluAn0sIBB3yKEQEkgoCZC2s5q5mrsz0Dcayq8CNnPz6zqCfFgCF+TD4htq8WHxXNMNPdxESIejJEBcWS1AxVVAfwkou8QFeL19XJHb8jtp+GIgPBFQ9gCUSdw4PBEIT+ICPb1zhhC/Q0kgUJmNgP4iUPobUHqOG+vOcwG/pRq9QNoQ4JU9AFVPLsirenIXXnm8jjsGQsgNoyTQ3ZmNgP4CF+hLztqD/m9czb65VwgLJA0BXtkDUPZsmA6JovvjCelGKAl0F1YLF+xLsrlg7wj4LQV7iQLQ9AM0fQF1X/t0HyA0lmr0hAQISgJdkcUElJwBCk4BBaeBwtNAyW+Atd798hIFoEkGIvrZA719CImkWj0hAY6SgL+zWbkafcEpbsg/CRT/6v6+elEwEJHMBfiI/vagn0zBnhDSLEoC/oQx7s6c/BNcsM8/ART+1/099pIwIHooEJ0CRKUAUUO42y+pGYcQ4gFKAp2tugjI+ZYbLn/HvfjseqJgLtDHDLUH/qHcHTlUuyeE3CBKAh3NVAtc+R7I+Qa49A1Qetb17zwhEDkIiBluH4YBqt5UwyeE+AQlAV9jjGvDv3AQuHQIyP3huvvwg7imnB4TuSFuFCCSdVJhCSGBhpKArxgqgP99DJz8Py4JNBYWD/S4Beh5C5A0AZApO6WIhBBCSaA9McbV9E/+H3Dm04bXH/PFQM9JQK9bubGyB7XnE0JcGM1WVBrMqKgzo6LOhAqDGZV1ZlQYTLgtWYseGt/0c0FJoD3YbMDpfwA/bOHu33eIGAAMfxAYPJPriYoQ0u0ZzVZU1JlRXmdyCejOaXtgr6gzNwR9gwlGczMPdQLQhkooCfgtQzmwbyFw/gD3WSAFBv4/YPhcIDaVavyEdFEmi80ZrBuCusk+bUalwYTyWrPLMq0F89bweUEIkwqhkAkRJhUiTCZCmFSIKIXv+qqmJHAjin4Bdj/AvS+fLwZueY4L/tKwTi4YIcSBMYaaegsq6swoqzU5a+jldSaU22vnDeOGgF5Tb/F6n45gHibjAnm4TAiFlBuHyYRQ2IN7mEyIcJkICvt0sFiAoA6uOFIS8NbpD4EvFgMWI3ehd+YO7v59QojP2GwM1UYLyutMKKszobzWhLJaLnCX2Wvq5bWNpu3B3WxlXu0vKAhQSLlAHWavnYfLRFDIGs2zB/SGz50TzL1FScBb+T9zCaDX7cAfttEdPoR4iDGG6nqLM5CX15lQVmvmPtuDeFlt06ButXkX0MUCHpRykbNm7gjajcdKeUOAD5cJESoRgsfrGsHcW5QEvDU5HdAOBIY9SA9yEQKg3mLlArY9qOtr650BvsxeQ+fmmZ21eIuXAV0u4iNcLuKCtbwhqHOB3NEEwwV3pX05qYjfzkfcPVAS8JZABKTO6+xSEOIzdSYL9DUNAd0xzX1umHYM3rahS4V8KOUiey1dCJW9tq50BHe5CEpnsBchXC6EWEABvb1QEiAkQDiCOhfA66FzBPiaeuhrTdcF+Xqv7nLh84IQLhNBJeeCtUoudgZ2pZwL5MpGQ7hMBImQAnpnoiRASBdlsdpQVmeCrrqhpq5zBnT750bTBnML/UM3QyTgOQO4Ui6yT4uhCr5+nggquRghEkG3b0PvbigJEOJHjGYr9LUm6KrroatxDCaUVte7zNfbL6QyD5vURQIe1HIRVMFiZwDnArq4IZgHcwFdGSyCXMTvMne5EO9QEiDEx4xmq0sw19XUQ1ddj1JHkK82cdPV9aj2sF09KAhQyrjArQ4WQx0sdk6rGgV7TTAFdeIeJQFCvGCzMZTVcUG9tLoeJfYxN23kpu2BvcroWWAX8oOaBHRuEEET0jBfJecCPJ+aX8gNoCRASCNmqw26mnqUVHGBvaTa6JwurTZy86q4GrwntzeK+Dyog0VQh4ihcQT1EK6Grg4ROwO9JliMUGnXedCIdH2UBEhAsFht0NWYUFxl5IbqepTYp0uq61FcxX0u87CdXSkXISJEDI09uGtCxYgIkUAdLEJEiMQ5nwI78Vd+lwQyMjKwbt06FBYWYsCAAXjzzTcxfvx4t8vu3bsXmzdvxunTp1FfX48BAwZg1apVmDx5cgeXmnSmmnoLiiqNKKo0orDSgOIqI4qqjCiq5GryRZVG6Grq0daKO58XBE2wGBGhYnuAlyAixPG5YVodLIaQTw8Kkq7Nr5LA7t27sXjxYmRkZGDcuHHYunUrpkyZguzsbMTHxzdZ/rvvvsPtt9+ONWvWICwsDNu3b8ddd92FH3/8EUOH0nt8ujrGGCrqzCisNKKoysCNK43OMRfojW1+SMkR3LUKCbT2QK4NkXDBPVTinFbKRHSbIwkYQYx5epOZ74waNQrDhg3D5s2bnfOSk5Mxbdo0pKent2kbAwYMwL333osXX3yxTctXVVVBoVCgsrISoaGhXpWbeKem3oKCCoN94GrxjnGhvVbf1geWQsQCRCokiFRIoA2VIDJUAq3CPg4VIzJUAlWwmC6ikoDgSVzzm18CJpMJJ06cwPLly13mp6Wl4dixY23ahs1mQ3V1NZTK5l/mVl9fj/r6eufnqqoq7wpMWsQYg67GhGvldci3B/r8cgPyK4zOz5UGc+sbAtfuHqWQIMoe5KMUUmegjwrjxnKx3/xTJqRL8Zv/OTqdDlarFVqt1mW+VqtFUVFRm7bx+uuvo7a2FjNnzmx2mfT0dKxevfqGykq4WyR1NfXIK6/DtXKDfeCmuWBvQL2l9Vp8iESAmDAposOkiA7jAnx0mASRodxYGyqh1woQ4kN+kwQcrr+DgjHWprsqPvzwQ6xatQr/+te/EBER0exyK1aswNKlS52fq6qqEBcX532Bu7E6kwW5ZXXI1dcht6wOeWXcOLeMC/atBfmgIEAbIkFMuBQxYdKGsX06SiFBiETYQUdDCHHHb5KAWq0Gn89vUusvKSlp8uvgert378bDDz+MTz75BLfddluLy4rFYojF4hsub3dRaTDjqr4WV/R1uKrjxrll3Li0ur7FdXlBQJRCithwKWLDZYgN54J7bLgUsWEyRCokEAno7hlC/JnfJAGRSIThw4fj4MGDmD59unP+wYMHcffddze73ocffoiHHnoIH374Ie64446OKGqXYzRbcVlXi5zSWlzW1SBHV4vLulpc0dWivK7ldvlQiQAJKjniVTLEK7khLpwbR4VJ6BZJQro4v0kCALB06VLMnj0bqampGDNmDLZt24bc3FwsXLgQANeUk5+fjx07dgDgEsCcOXOwYcMGjB492vkrQiqVQqFQdNpxdJYqoxkXimtwqaQGF0qqcbGkBhdLa3Ct3NDiA1CaEDESVTIkqORIUMqQoLaPVTKEyUQddwCEkA7nV0ng3nvvhV6vx0svvYTCwkIMHDgQmZmZSEhIAAAUFhYiNzfXufzWrVthsViwaNEiLFq0yDn/wQcfxPvvv9/Rxe8wNfUWnC+uxvmiapwrrsaFYi7oF1c133yjkArRQyNHklqOnppgJKrkSFTLkKiS0501hAQwv3pOoDP4+3MCJVVG/JJfiV/zq3CmoBJni6qQV2ZodvnIUAl6RQQ3GVRyEb22gJAA0SWfEyBASbURv1yrxP+uVeKXfG5o7uKsNlSMvpGh6B0RjD7aYPTWhqBXRDBC6W4bQogHKAl0EquN4WxhFX66XIYTV8txMrcchZXGJsvxgoBeEcEYEK3AgOhQ9I8KRXJUKMLl1FZPCLlxlAQ6CGMMF0pq8P1FHY5d0uPHHH2T98wHBQG9NMEYHBuGQTGhGBSrQHJUKGQi+poIIb5B0cWHqo1mHD5fikNnS3Dkoq5J006wWIDUxHCMSFRiaHwYBseGIZgu0hJCOhBFnHZmsdrw7blS7DuVj4Nni2Fq9FStRMjDiEQlxvZUY2xPFQZEh0JA99kTQjoRJYF2kquvw4fHc7HnxDWXGn+SWo7b+2sxsa8GwxPCIRbQe3AIIf6DksANMpqtePPfF/D2kRxY7b2WqOQiTBsag+lDYzAgOpRuzSSE+C1KAjfgYkk1Fv7jJC6W1AAAxvdW44+j4jGpn5bemUMI6RIoCXjpy/8V4pk9/0WtyYqIEDFenjYQaQMiO7tYhBDiEUoCXvrufClqTVaM7qHE3+8fBk0IvZmUENL1UBLw0uq7B6BPZAgeHJNAd/gQQrosSgJekgj5ePimpM4uBiGE3BCqwhJCSACjJEAIIQGMkgAhhAQwSgKEEBLAKAkQQkgAoyRACCEBjJIAIYQEsIB/TsDRxXJVVVUnl4QQQtqHI561pQv5gE8C1dXVAIC4uLhOLgkhhLSv6upqKBSKFpcJYm1JFd2YzWZDQUEBQkJCPHrlc1VVFeLi4pCXl4fQ0FAflrDroXPTPDo3zaNz0zxPzw1jDNXV1YiOjgaP13Krf8D/EuDxeIiNjfV6/dDQUPoH2ww6N82jc9M8OjfN8+TctPYLwIEuDBNCSACjJEAIIQGMkoCXxGIxVq5cCbGY+hG4Hp2b5tG5aR6dm+b58twE/IVhQggJZPRLgBBCAhglAUIICWCUBAghJIBREiCEkABGSaAFGRkZSEpKgkQiwfDhw3HkyJEWlz98+DCGDx8OiUSCHj16YMuWLR1U0o7nybnZu3cvbr/9dmg0GoSGhmLMmDH46quvOrC0HcvTfzcO33//PQQCAVJSUnxbwE7k6bmpr6/H888/j4SEBIjFYvTs2RPvvfdeB5W2Y3l6bnbu3IkhQ4ZAJpMhKioK8+bNg16v93zHjLj10UcfMaFQyN5++22WnZ3NnnzySSaXy9nVq1fdLp+Tk8NkMhl78sknWXZ2Nnv77beZUChke/bs6eCS+56n5+bJJ59kr776Kvvpp5/Y+fPn2YoVK5hQKGQnT57s4JL7nqfnxqGiooL16NGDpaWlsSFDhnRMYTuYN+dm6tSpbNSoUezgwYPs8uXL7Mcff2Tff/99B5a6Y3h6bo4cOcJ4PB7bsGEDy8nJYUeOHGEDBgxg06ZN83jflASaMXLkSLZw4UKXef369WPLly93u/wzzzzD+vXr5zJvwYIFbPTo0T4rY2fx9Ny4079/f7Z69er2Llqn8/bc3HvvveyFF15gK1eu7LZJwNNzs3//fqZQKJher++I4nUqT8/NunXrWI8ePVzmbdy4kcXGxnq8b2oOcsNkMuHEiRNIS0tzmZ+WloZjx465XScrK6vJ8pMnT8bPP/8Ms9nss7J2NG/OzfVsNhuqq6uhVCp9UcRO4+252b59Oy5duoSVK1f6uoidxptz89lnnyE1NRVr165FTEwM+vTpg6effhoGg6EjitxhvDk3Y8eOxbVr15CZmQnGGIqLi7Fnzx7ccccdHu8/4F8g545Op4PVaoVWq3WZr9VqUVRU5HadoqIit8tbLBbodDpERUX5rLwdyZtzc73XX38dtbW1mDlzpi+K2Gm8OTcXLlzA8uXLceTIEQgE3fe/ozfnJicnB0ePHoVEIsG+ffug0+nw5z//GWVlZd3quoA352bs2LHYuXMn7r33XhiNRlgsFkydOhV///vfPd4//RJowfWvlmaMtfi6aXfLu5vfHXh6bhw+/PBDrFq1Crt370ZERISvitep2npurFYrZs2ahdWrV6NPnz4dVbxO5cm/G5vNhqCgIOzcuRMjR47E73//e6xfvx7vv/9+t/s1AHh2brKzs/HEE0/gxRdfxIkTJ3DgwAFcvnwZCxcu9Hi/3bfqcQPUajX4fH6TLFxSUtIkWztERka6XV4gEEClUvmsrB3Nm3PjsHv3bjz88MP45JNPcNttt/mymJ3C03NTXV2Nn3/+GadOncJjjz0GgAt8jDEIBAJ8/fXXmDRpUoeU3de8+XcTFRWFmJgYl1ciJycngzGGa9euoXfv3j4tc0fx5tykp6dj3LhxWLZsGQBg8ODBkMvlGD9+PF5++WWPWh7ol4AbIpEIw4cPx8GDB13mHzx4EGPHjnW7zpgxY5os//XXXyM1NRVCodBnZe1o3pwbgPsFMHfuXOzatcurdsuuwNNzExoail9++QWnT592DgsXLkTfvn1x+vRpjBo1qqOK7nPe/LsZN24cCgoKUFNT45x3/vz5G+4DxN94c27q6uqadBbD5/MBtK1LSRceX0oOEI5btt59912WnZ3NFi9ezORyObty5QpjjLHly5ez2bNnO5d33CK6ZMkSlp2dzd59991uf4toW8/Nrl27mEAgYJs2bWKFhYXOoaKiorMOwWc8PTfX6853B3l6bqqrq1lsbCy755572JkzZ9jhw4dZ79692fz58zvrEHzG03Ozfft2JhAIWEZGBrt06RI7evQoS01NZSNHjvR435QEWrBp0yaWkJDARCIRGzZsGDt8+LDzbw8++CCbMGGCy/LffvstGzp0KBOJRCwxMZFt3ry5g0vccTw5NxMmTGAAmgwPPvhgxxe8A3j676ax7pwEGPP83Jw9e5bddtttTCqVstjYWLZ06VJWV1fXwaXuGJ6em40bN7L+/fszqVTKoqKi2B//+Ed27do1j/dLr5ImhJAARtcECCEkgFESIISQAEZJgBBCAhglAUIICWCUBAghJIBREiCEkABGSYAQQgIYJQFCCAlglAQIISSAURIghJAARkmAEEICGCUBQjrISy+9hEGDBkEul0Or1eLRRx/tVl2Pkq6JOpUhpAMwxmC1WrF161bExMQgOzsbc+bMweDBg/Hoo492dvFIAKO3iBLSSWbNmgWNRoMNGzZ0dlFIAKPmIEI6wNWrV/HYY49h4MCBCA8PR3BwMD7++ONu1UMW6ZooCRDiYzqdDiNHjoROp8P69etx9OhRZGVlgc/nIyUlpbOLRwIcXRMgxMcyMzNhsVjw4YcfIigoCACwadMmmEwmSgKk01ESIMTHlEolqqqq8Nlnn6F///74/PPPkZ6ejpiYGGg0ms4uHglwdGGYEB9jjOHRRx/Frl27IJVK8cADD8BoNOLq1av44osvOrt4JMBREiCEkABGF4YJISSAURIghJAARkmAEEICGCUBQggJYJQECCEkgFESIISQAEZJgBBCAhglAUIICWCUBAghJIBREiCEkABGSYAQQgLY/wez7+CWm9bB6wAAAABJRU5ErkJggg==",
>>>>>>> upstream/master
      "text/plain": [
       "<Figure size 400x300 with 1 Axes>"
      ]
     },
     "metadata": {},
     "output_type": "display_data"
    }
   ],
   "source": [
    "ss = SteadyStateHH(model_params, grid_params)\n",
    "ss.solve_ss(model_params=ss.model_params)\n",
    "ss.c, ss.a_prime\n",
    "ss.plot_policy(0.2)"
   ]
  },
  {
   "cell_type": "code",
   "execution_count": 17,
   "metadata": {},
   "outputs": [
    {
     "name": "stdout",
     "output_type": "stream",
     "text": [
      "the steady state is unique.\n",
      "the steady state is unique.\n",
      "the steady state is unique.\n",
      "the steady state is unique.\n",
      "the steady state is unique.\n",
      "the steady state is unique.\n",
      "the steady state is unique.\n",
      "the steady state is unique.\n",
      "the steady state is unique.\n",
      "the steady state is unique.\n",
      "the steady state is unique.\n",
      "the steady state is unique.\n",
      "the steady state is unique.\n",
      "the steady state is unique.\n",
      "the steady state is unique.\n",
      "the steady state is unique.\n",
      "the steady state is unique.\n",
      "the steady state is unique.\n",
      "the steady state is unique.\n",
      "the steady state is unique.\n",
      "the steady state is unique.\n",
      "the steady state is unique.\n",
      "the steady state is unique.\n",
      "the steady state is unique.\n",
      "the steady state is unique.\n",
      "the steady state is unique.\n",
      "the steady state is unique.\n",
      "the steady state is unique.\n",
      "the steady state is unique.\n",
      "the steady state is unique.\n",
      "the steady state is unique.\n",
      "the steady state is unique.\n",
      "the steady state is unique.\n",
      "the steady state is unique.\n",
      "the steady state is unique.\n",
      "the steady state is unique.\n",
      "the steady state is unique.\n",
      "the steady state is unique.\n",
      "the steady state is unique.\n",
      "the steady state is unique.\n",
      "the steady state is unique.\n",
      "the steady state is unique.\n",
      "the steady state is unique.\n",
      "the steady state is unique.\n",
      "the steady state is unique.\n",
      "the steady state is unique.\n",
      "the steady state is unique.\n",
      "the steady state is unique.\n",
      "the steady state is unique.\n",
      "the steady state is unique.\n",
      "the steady state is unique.\n",
      "the steady state is unique.\n",
      "the steady state is unique.\n",
      "the steady state is unique.\n",
      "the steady state is unique.\n",
      "the steady state is unique.\n",
      "the steady state is unique.\n",
      "the steady state is unique.\n",
      "the steady state is unique.\n",
      "the steady state is unique.\n",
      "the steady state is unique.\n",
      "the steady state is unique.\n",
      "the steady state is unique.\n",
      "the steady state is unique.\n",
      "the steady state is unique.\n",
      "the steady state is unique.\n",
      "the steady state is unique.\n",
      "the steady state is unique.\n",
      "the steady state is unique.\n",
      "the steady state is unique.\n",
      "the steady state is unique.\n",
      "the steady state is unique.\n",
      "the steady state is unique.\n",
      "the steady state is unique.\n",
      "the steady state is unique.\n",
      "the steady state is unique.\n",
      "the steady state is unique.\n",
      "the steady state is unique.\n",
      "the steady state is unique.\n",
      "the steady state is unique.\n",
      "the steady state is unique.\n",
      "70.4 ms ± 1.92 ms per loop (mean ± std. dev. of 7 runs, 10 loops each)\n"
     ]
    }
   ],
   "source": [
    "%%timeit \n",
    "ss = SteadyStateHH(model_params, grid_params)\n",
    "ss.solve_ss(model_params=ss.model_params)"
   ]
  },
  {
   "cell_type": "code",
<<<<<<< HEAD
   "execution_count": 16,
=======
   "execution_count": 14,
>>>>>>> upstream/master
   "metadata": {},
   "outputs": [
    {
     "data": {
      "text/plain": [
       "(array([[1.41722822e-01, 1.46412415e-01, 1.50292317e-01, ...,\n",
       "         1.86182818e+02, 1.94981292e+02, 2.04215800e+02],\n",
       "        [2.50991933e-01, 2.55681526e-01, 2.60415096e-01, ...,\n",
       "         1.86403939e+02, 1.95202357e+02, 2.04436700e+02],\n",
       "        [4.44508157e-01, 4.49197750e-01, 4.53931320e-01, ...,\n",
       "         1.86684758e+02, 1.95483026e+02, 2.04717044e+02],\n",
       "        ...,\n",
       "        [1.34562866e+00, 1.34617631e+00, 1.34672238e+00, ...,\n",
       "         1.87539703e+02, 1.96337168e+02, 2.05569687e+02],\n",
       "        [2.11335992e+00, 2.11362938e+00, 2.11390126e+00, ...,\n",
       "         1.88211194e+02, 1.97007799e+02, 2.06238802e+02],\n",
       "        [3.17854812e+00, 3.17874042e+00, 3.17893450e+00, ...,\n",
       "         1.89156862e+02, 1.97952041e+02, 2.07180594e+02]]),\n",
       " array([[0.00000000e+00, 0.00000000e+00, 8.53668052e-04, ...,\n",
       "         8.93360537e+03, 9.36572181e+03, 9.82092592e+03],\n",
       "        [0.00000000e+00, 0.00000000e+00, 0.00000000e+00, ...,\n",
       "         8.93349352e+03, 9.36561001e+03, 9.82081429e+03],\n",
       "        [0.00000000e+00, 0.00000000e+00, 0.00000000e+00, ...,\n",
       "         8.93340622e+03, 9.36552286e+03, 9.82072746e+03],\n",
       "        ...,\n",
       "        [4.85540026e-02, 5.26959516e-02, 5.68834457e-02, ...,\n",
       "         8.93350095e+03, 9.36561839e+03, 9.82082450e+03],\n",
       "        [3.55745601e-01, 3.60165727e-01, 3.64627417e-01, ...,\n",
       "         8.93390438e+03, 9.36602268e+03, 9.82123030e+03],\n",
       "        [1.19425196e+00, 1.19874925e+00, 1.20328874e+00, ...,\n",
       "         8.93486241e+03, 9.36698214e+03, 9.82219221e+03]]))"
      ]
     },
<<<<<<< HEAD
     "execution_count": 16,
=======
     "execution_count": 14,
>>>>>>> upstream/master
     "metadata": {},
     "output_type": "execute_result"
    }
   ],
   "source": [
<<<<<<< HEAD
    "ss.solve_ss(model_params=ss.model_params)"
=======
    "ss.solve_ss(ss.model_params)"
>>>>>>> upstream/master
   ]
  },
  {
   "cell_type": "markdown",
   "metadata": {},
   "source": [
    "## 3. **Forward Iteration to Obtain Distribution**\n",
    "\n",
    "With steady-state policies at hand, we can compute the distribution of next-period asset holdings, $D_{t+1}(y, a)$ given the current distribution $D_t$. Assume for a moment that $a'$ maps assets on the grid $\\mathcal A$. Then \n",
    "\n",
    "$$D_{t+1}(y, a) = \\sum_{\\bar y \\in \\mathcal Y} \\sum_{\\bar a \\in \\mathcal A} D_{t}(\\bar y, \\bar a) \\mathbb P(\\bar y | y) \\mathbb I(a'(\\bar y, \\bar a) = a) $$\n",
    "\n",
    "Problem: $a'(e, a)$ does not map into $\\mathcal A$. Possible solution: **Lotteries**.\n",
    "\n",
    "Basic idea is that if $a'(e, a) = a' \\in [a_i, a_{i+1}]$ for two consecutive grid points $a_i, a_{i+1}$, then a fraction $q(y, a) = \\frac{a_{i+1} - a'}{a_{i+1} - a_{i}}$ of the population lands on the lower gridpoint.\n",
    "\n",
    "<!-- Start with a discretized distribution with mass on each gridpoint, $D_t(e, a)$. Then send $p(e, a)$ of mass to gridpoint $i(e, a)$ and $1-p(e, a)$ to gridpoint $i(e, a)+1$.   -->"
   ]
  },
  {
   "cell_type": "markdown",
   "metadata": {},
   "source": [
    "Let $a^+$ be the next highest grid point on the asset grid, and $a^-$ the next lowest. \n",
    "\n",
    "$$\\begin{align}\n",
    "D_{t+1}(y, a) &= \\sum_{\\bar y \\in \\mathcal Y} \\sum_{\\bar a \\in \\mathcal A} D_{t}(\\bar y, \\bar a) \\mathbb P(\\bar y | y) \\underbrace{\\left[ \\mathbb I(a'(\\bar y, \\bar a)^+ = a) \\frac{ a' - a^-}{a^+ - a^-} + \\mathbb I(a'(\\bar y, \\bar a)^- = a) \\frac{ a^+ - a'}{a^+ - a^-} \\right]}_{\\equiv \\mu( \\bar y, \\bar a, a)} \\\\\n",
    "&= \\sum_{\\bar y \\in \\mathcal Y} \\sum_{\\bar a \\in \\mathcal A} D_{t}(\\bar y, \\bar a) \\mu( \\bar y, \\bar a, a) \\mathbb P(\\bar y | y) \\\\\n",
    "&= \\sum_{\\bar y \\in \\mathcal Y}  \\mathbb P(\\bar y | y) \\sum_{\\bar a \\in \\mathcal A} D_{t}(\\bar y, \\bar a) \\mu( \\bar y, \\bar a, a) \n",
    "\\end{align}$$\n",
    "\n",
    "We can pre-compute the lottery array $\\mu$ to handle the forward iteration. Still, this approach is very inefficient.\n",
    "\n",
    "**Exercise:** Explain what is so inefficient about our approach?\n",
    "\n",
    "**Exercise:** Write a function to compute `mu`"
   ]
  },
  {
   "cell_type": "code",
<<<<<<< HEAD
   "execution_count": 19,
   "metadata": {},
   "outputs": [
    {
     "ename": "AttributeError",
     "evalue": "'SteadyStateHH' object has no attribute 'policy'",
     "output_type": "error",
     "traceback": [
      "\u001b[1;31m---------------------------------------------------------------------------\u001b[0m",
      "\u001b[1;31mAttributeError\u001b[0m                            Traceback (most recent call last)",
      "Cell \u001b[1;32mIn[19], line 26\u001b[0m\n\u001b[0;32m     22\u001b[0m                     \u001b[38;5;28;01mcontinue\u001b[39;00m\n\u001b[0;32m     24\u001b[0m     \u001b[38;5;28;01mreturn\u001b[39;00m mu\n\u001b[1;32m---> 26\u001b[0m mu \u001b[38;5;241m=\u001b[39m get_mu(\u001b[43mss\u001b[49m\u001b[38;5;241;43m.\u001b[39;49m\u001b[43mpolicy\u001b[49m, grid_a, grid_y)\n\u001b[0;32m     28\u001b[0m get_ipython()\u001b[38;5;241m.\u001b[39mrun_line_magic(\u001b[38;5;124m'\u001b[39m\u001b[38;5;124mtimeit\u001b[39m\u001b[38;5;124m'\u001b[39m, \u001b[38;5;124m'\u001b[39m\u001b[38;5;124mget_mu(policy, grid_a, grid_y)\u001b[39m\u001b[38;5;124m'\u001b[39m)\n",
      "\u001b[1;31mAttributeError\u001b[0m: 'SteadyStateHH' object has no attribute 'policy'"
=======
   "execution_count": 15,
   "metadata": {},
   "outputs": [
    {
     "name": "stdout",
     "output_type": "stream",
     "text": [
      "2.43 ms ± 148 µs per loop (mean ± std. dev. of 7 runs, 100 loops each)\n"
>>>>>>> upstream/master
     ]
    }
   ],
   "source": [
    "# Inefficient way to compute lotteries\n",
    "@njit\n",
    "def get_mu(policy, grid_a, grid_y):\n",
    "\n",
    "    assert (policy - grid_a.max()).max() <= 0 and (policy - grid_a.min()).min() >= 0 # make sure policy is within bounds of grid_a\n",
    "\n",
    "    n_a = np.shape(grid_a)[0]\n",
    "    n_y = np.shape(grid_y)[0]\n",
    "    mu = np.zeros((n_y, n_a, n_a), dtype=np.float64)\n",
    "    for index_a in range(len(grid_a)):\n",
    "        for index_a_bar in range(len(grid_a)):\n",
    "            for index_y_bar in range(len(grid_y)):\n",
    "                \n",
    "                if (grid_a[index_a] >= policy[index_y_bar, index_a_bar]) and (grid_a[index_a - 1] <= policy[index_y_bar, index_a_bar]) :\n",
    "                    p_plus = (policy[index_y_bar, index_a_bar] - grid_a[index_a - 1]) / (grid_a[index_a] - grid_a[index_a-1])\n",
    "                    mu[index_y_bar, index_a_bar, index_a]   += p_plus \n",
    "                    continue\n",
    "                \n",
    "                if (grid_a[index_a] <= policy[index_y_bar, index_a_bar]) and (grid_a[index_a + 1] >= policy[index_y_bar, index_a_bar]) :\n",
    "                    p_minus = (grid_a[index_a + 1] - policy[index_y_bar, index_a_bar]) / (grid_a[index_a+1] - grid_a[index_a])\n",
    "                    mu[index_y_bar, index_a_bar, index_a]   += p_minus \n",
    "                    continue\n",
    "\n",
    "    return mu\n",
    "\n",
    "mu = get_mu(ss.a_prime, ss.Grids.grid_a, ss.Grids.grid_y)\n",
<<<<<<< HEAD
    "\n",
    "\n",
    "\n",
=======
>>>>>>> upstream/master
    "\n",
    "%timeit get_mu(ss.a_prime, ss.Grids.grid_a, ss.Grids.grid_y)"
   ]
  },
  {
   "cell_type": "markdown",
   "metadata": {},
   "source": [
    "Instead, consider where the mass of $D_t(y, a)$ is sent to. For $y$ fixed, $D_t(y, a) \\dfrac{a'(y, a) - a'(y, a)^-}{a'(y, a)^+ - a'(y, a)^-} = D_t(y, a) q(y, a)$ is sent to $a'(y, a)^+$ and $D_t(y, a) (1-q(y, a))$ is sent to $a'(y, a)^-$. Proceeding over all $(y, a)$, we obtain $\\tilde D_t(\\cdot, \\cdot)$, the distribution after asset choices were made and before income shocks realized.\n",
    "\n",
    "We now write a function to obtain the $q$ (the lotteries) and the indices of $a'(y, a)^+$, where the masses in the distribution are sent to. Once we got `q` and `indexes`, we can use these objects in every forward iteration on $D_t$."
   ]
  },
  {
   "cell_type": "code",
<<<<<<< HEAD
   "execution_count": 20,
=======
   "execution_count": 16,
>>>>>>> upstream/master
   "metadata": {},
   "outputs": [
    {
     "ename": "NameError",
     "evalue": "name 'indexes' is not defined",
     "output_type": "error",
     "traceback": [
      "\u001b[1;31m---------------------------------------------------------------------------\u001b[0m",
      "\u001b[1;31mNameError\u001b[0m                                 Traceback (most recent call last)",
      "Cell \u001b[1;32mIn[20], line 23\u001b[0m\n\u001b[0;32m     19\u001b[0m     D_new \u001b[38;5;241m=\u001b[39m Pi \u001b[38;5;241m@\u001b[39m D_new\n\u001b[0;32m     21\u001b[0m     \u001b[38;5;28;01mreturn\u001b[39;00m D_new\n\u001b[1;32m---> 23\u001b[0m forward_iteration(\u001b[43mindexes\u001b[49m, q, Pi, D)\n",
      "\u001b[1;31mNameError\u001b[0m: name 'indexes' is not defined"
     ]
    }
   ],
   "source": [
    "def get_lotteries(policy, grid_a):\n",
    "\n",
    "    indexes = np.searchsorted(grid_a, policy) # indexes corresponding to a'(y, a)+  (function returns i with a[i-1] < v <= a[i])\n",
    "    q = (policy - grid_a[indexes - 1]) / (grid_a[indexes] - grid_a[indexes - 1]) # lotteries\n",
    "    return indexes, q\n",
    "\n",
    "# forward iteration\n",
    "@njit\n",
    "def forward_iteration(indexes, q, Pi, D):\n",
    "    n_y, n_a = D.shape\n",
    "    D_new = np.zeros((n_y, n_a))\n",
    "    for y in range(n_y):\n",
    "        for a in range(n_a):\n",
    "            \n",
    "            D_new[y, indexes[y, a]]   += q[y, a] * D[y, a]\n",
    "            D_new[y, indexes[y, a]-1]     += (1 - q[y, a]) * D[y, a]\n",
    "\n",
    "    # D_new is D_tilde right now. Now we need to update D_tilde using Pi\n",
    "    D_new = Pi @ D_new\n",
    "\n",
    "    return D_new"
   ]
  },
  {
   "cell_type": "markdown",
   "metadata": {},
   "source": [
    "Note that, when calculating `D_new = Pi @ D_new`, row $i_y$ corresponding to state $y$ will hold the vector \n",
    "\n",
    "$$\n",
    "[\\Pi \\tilde D]_{i_y} = (\\pi(i_y, 1), ...,\\pi(i_y, n_y)) \\tilde D = [\\pi(i_y, 1)\\tilde D(1, i_a) + ... +\\pi(i_y, n_y)\\tilde D(n_y, i_a)]_{i_a =1,...,n_a}.\n",
    "$$\n",
    "\n",
    "Finally, we compute the steady state distribution by iterating until convergence:"
   ]
  },
  {
   "cell_type": "code",
   "execution_count": 17,
   "metadata": {},
   "outputs": [],
   "source": [
    "def distribution_ss(Pi, policy, grid_a, maxiter=10_000, tol=1E-10, verbose=False):\n",
    "    \n",
    "    indexes, q = get_lotteries(policy, grid_a)\n",
    "\n",
    "    # initialize distribution\n",
    "    D = np.ones_like(policy)/np.size(policy)\n",
    "\n",
    "    count, error = 0, 1\n",
    "    while error > tol and count < maxiter:\n",
    "        D_new = forward_iteration(indexes, q, Pi, D)\n",
    "        error = np.max(np.abs(D - D_new))\n",
    "        D = D_new.copy()\n",
    "        count += 1\n",
    "        \n",
    "    \n",
    "    if verbose : \n",
    "        print(\"max |D_t - D_t+1| = \", error, \"\\nnum iterations:\", count)\n",
    "\n",
    "    return D"
   ]
  },
  {
   "cell_type": "code",
   "execution_count": null,
   "metadata": {},
   "outputs": [],
   "source": [
    "D_ss = distribution_ss(ss.Grids.Pi, ss.a_prime, ss.Grids.grid_a, maxiter=1000, tol=1E-10, verbose=True)\n",
    "\n",
    "%timeit distribution_ss(ss.Grids.Pi, ss.a_prime, ss.Grids.grid_a, maxiter=1000, tol=1E-10, verbose=True)"
   ]
  },
  {
   "cell_type": "markdown",
   "metadata": {},
   "source": [
    "### **Using the SteadyStateHH Module**\n",
    "\n",
    "**Exercise:** Add the computation of steady state $D$ to the `SteadyStateHH` class. Import it from another file and run it.\n",
    "\n",
    "Note: restart the kernel before re-importing the classes. "
   ]
  },
  {
   "cell_type": "code",
   "execution_count": 19,
   "metadata": {},
   "outputs": [
    {
     "name": "stdout",
     "output_type": "stream",
     "text": [
      "{'beta': 0.98, 'r': 0.0025, 'eis': 1, 'rho': 0.975, 'sd_log_y': 0.7}\n",
      "{'n_y': 7, 'n_a': 500, 'min_a': 0, 'max_a': 10000}\n",
      "the steady state is unique.\n"
     ]
    }
   ],
   "source": [
    "from utils_simm import *\n",
    "\n",
    "grid_params = {\n",
    "    'n_y' : 7,\n",
    "    'n_a' : 500,\n",
    "    'min_a' : 0,\n",
    "    'max_a' : 10_000\n",
    "}\n",
    "\n",
    "model_params = {\n",
    "    'beta' : 1-0.08/4, # quarterly discount factor\n",
    "    'r' : 0.01/4, # quarterly interest rate\n",
    "    'eis' : 1,\n",
    "    'rho' : 0.975,\n",
    "    'sd_log_y' : 0.7\n",
    "}\n",
    "\n",
    "print(model_params, \"\\n\",grid_params, sep=\"\")\n",
    "# create steady state object\n",
    "ss = SteadyStateHH(model_params, grid_params)"
   ]
  },
  {
   "cell_type": "code",
   "execution_count": 20,
   "metadata": {},
   "outputs": [
    {
     "data": {
      "text/plain": [
       "array([[1.40918274e-001, 1.12836882e-004, 7.66408375e-005, ...,\n",
       "        4.63400194e-114, 6.22448773e-116, 4.23457364e-118],\n",
       "       [1.38212429e-001, 2.53033570e-004, 1.90803709e-004, ...,\n",
       "        4.61175517e-114, 6.19620063e-116, 4.21646007e-118],\n",
       "       [1.29247539e-001, 6.69139940e-004, 5.20800102e-004, ...,\n",
       "        4.61134519e-114, 6.19614397e-116, 4.21685452e-118],\n",
       "       ...,\n",
       "       [4.76938191e-003, 8.11450720e-005, 5.90862252e-005, ...,\n",
       "        4.73711752e-114, 6.35938753e-116, 4.32452420e-118],\n",
       "       [1.49636758e-004, 2.56112858e-006, 1.86456018e-006, ...,\n",
       "        4.92295035e-114, 6.59920835e-116, 4.48156752e-118],\n",
       "       [3.77194925e-006, 6.47532936e-008, 4.71375717e-008, ...,\n",
       "        5.27257915e-114, 7.04886178e-116, 4.77491899e-118]])"
      ]
     },
     "execution_count": 20,
     "metadata": {},
     "output_type": "execute_result"
    }
   ],
   "source": [
    "# solve for steady state\n",
    "ss.solve_ss(ss.model_params)\n",
    "\n",
    "ss.distribution_ss()"
   ]
  },
  {
   "cell_type": "markdown",
   "metadata": {},
   "source": [
    "# **The result: utils_simm.py**\n",
    "For reference, here is the code for the standard incomplete markets module which we have developed in this notebook."
   ]
  },
  {
   "cell_type": "code",
   "execution_count": null,
   "metadata": {},
   "outputs": [],
   "source": [
    "import numpy as np\n",
    "\n",
    "\n",
    "class Grid:\n",
    "\n",
    "    def __init__(self, n_y, rho, sd_log_y, n_a, min_a, max_a):\n",
    "        self.n_y = n_y\n",
    "        self.rho = rho\n",
    "        self.sd_log_y = sd_log_y\n",
    "        self.n_a = n_a\n",
    "        self.min_a = min_a\n",
    "        self.max_a = max_a\n",
    "        self.Pi, self.grid_y = self.rouwenhorst(n_y, rho, sd_log_y)\n",
    "        self.pi_ss = self.stationary_dist(self.Pi)[0,:]\n",
    "        self.grid_y = self.normalize_y(self.grid_y, self.pi_ss)\n",
    "        self.grid_a = self.discretize_assets(min_a, max_a, n_a)\n",
    "\n",
    "    # sigma is the sd of the error, e_t\n",
    "    def rouwenhorst(self, n, rho, sd_log_y):\n",
    "        \n",
    "        # the grid    \n",
    "        e = np.arange(n) # sd of e on this grid with Pi is sqrt(n-1)/2\n",
    "        e = e / ( (n-1)**0.5 /2 ) # now its unit sd\n",
    "        e = e * sd_log_y # now it's the sd of the cross section of log_y\n",
    "\n",
    "        # the transition matrix\n",
    "        p = (1+rho)/2\n",
    "        Pi = np.array([[p, 1-p], [1-p, p]])\n",
    "        \n",
    "        while Pi.shape[0] < n:\n",
    "            Pi_next = np.zeros((1+Pi.shape[0], 1+Pi.shape[1]))\n",
    "            Pi_next[0:Pi.shape[0], 0:Pi.shape[1]] += Pi * p\n",
    "            Pi_next[0:Pi.shape[0], -Pi.shape[1]:] += Pi * (1-p)\n",
    "            Pi_next[-Pi.shape[0]:, -Pi.shape[1]:] += Pi * p\n",
    "            Pi_next[-Pi.shape[0]:, 0:Pi.shape[1]] += Pi * (1-p)\n",
    "            Pi_next[1:-1, :] /= 2\n",
    "            Pi = Pi_next\n",
    "\n",
    "        return Pi, e\n",
    "\n",
    "    def stationary_dist(self, Pi):\n",
    "        Pi_stationary = Pi.copy()\n",
    "        eps = 1\n",
    "        while eps > 10E-12:\n",
    "            Pi_old = Pi_stationary.copy()\n",
    "            Pi_stationary = Pi_stationary @ Pi_stationary\n",
    "            eps = np.max(np.abs(Pi_stationary - Pi_old))\n",
    "\n",
    "        if np.max(\n",
    "                np.abs( \n",
    "                    np.sum(Pi_stationary - Pi_stationary,axis = 0) / Pi_stationary.shape[0]\n",
    "                )\n",
    "            ) < 10E-10:\n",
    "            print(\"the steady state is unique.\")\n",
    "\n",
    "        return Pi_stationary\n",
    "\n",
    "    def normalize_y(self, log_y, pi_ss): # make y have unit mean\n",
    "        y = np.exp(log_y)\n",
    "        y = y / np.vdot(y, pi_ss)\n",
    "        return y\n",
    "\n",
    "\n",
    "    # write a function which discretizes the asset space\n",
    "    def discretize_assets(self, amin, amax, n_a):\n",
    "        # find ubar \n",
    "        ubar = np.log(np.log(amax - amin + 1)+1)\n",
    "        # make linar grid for the u's\n",
    "        grid_u = np.linspace(0,ubar, n_a)\n",
    "        # transform back to a\n",
    "        grid_a = amin + np.exp(np.exp(grid_u)-1)-1\n",
    "        return grid_a\n",
    "\n",
    "\n",
    "from numba import njit\n",
    "\n",
    "@njit\n",
    "def backward_iteration(V_a, beta, eis, r, grid_a, grid_y, Pi):\n",
    "    W = beta * Pi @ V_a\n",
    "\n",
    "    c_endog = W ** (-1/eis)\n",
    "    a_endog = (1 + r)**(-1) * (grid_a[np.newaxis, :] - grid_y[:, np.newaxis] + c_endog)\n",
    "    a_prime = np.empty((grid_y.shape[0], grid_a.shape[0]))\n",
    "\n",
    "    for i_y in range(grid_y.shape[0]):\n",
    "        a_prime[i_y, :] = np.interp(grid_a, a_endog[i_y, :], grid_a)\n",
    "\n",
    "    c = (1 + r) * (grid_a[np.newaxis, :] + grid_y[:, np.newaxis]) - a_prime\n",
    "\n",
    "    return c, a_prime\n",
    "\n",
    "def get_lotteries(policy, grid_a):\n",
    "\n",
    "    indexes = np.searchsorted(grid_a, policy) # indexes corresponding to a'(y, a)+  (function returns i with a[i-1] < v <= a[i])\n",
    "    q = (policy - grid_a[indexes - 1]) / (grid_a[indexes] - grid_a[indexes - 1]) # lotteries\n",
    "    return indexes, q\n",
    "\n",
    "# forward iteration\n",
    "@njit\n",
    "def forward_iteration(indexes, q, Pi, D):\n",
    "    n_y, n_a = D.shape\n",
    "    D_new = np.zeros((n_y, n_a))\n",
    "    for y in range(n_y):\n",
    "        for a in range(n_a):\n",
    "            \n",
    "            D_new[y, indexes[y, a]]   += q[y, a] * D[y, a]\n",
    "            D_new[y, indexes[y, a]-1]     += (1 - q[y, a]) * D[y, a]\n",
    "\n",
    "    # D_new is D_tilde right now. Now we need to update D_tilde using Pi\n",
    "    D_new = Pi @ D_new\n",
    "\n",
    "    return D_new\n",
    "\n",
    "class SteadyStateHH:\n",
    "\n",
    "    def __init__(self, model_params, grid_params, tol = 1e-6, max_iter = 1_000):\n",
    "        self.model_params = model_params\n",
    "        self.grid_params = grid_params\n",
    "        self.Grids = Grid(n_y = grid_params['n_y'], rho = model_params['rho'],  sd_log_y = model_params['sd_log_y'], n_a = grid_params['n_a'], min_a = grid_params['min_a'], max_a = grid_params['max_a'])\n",
    "        self.tol = tol\n",
    "        self.max_iter = max_iter\n",
    "        self.c = None\n",
    "        self.a_prime = None\n",
    "        self.V_a = None\n",
    "        self.D = None\n",
    "\n",
    "    # adding the model_params as an argument allows solving for different parameterizations\n",
    "    def solve_ss(self, model_params):\n",
    "\n",
    "        # update grid if necessary\n",
    "        if (self.model_params['rho'], self.model_params['sd_log_y']) != (model_params['rho'], model_params['sd_log_y']):\n",
    "            self.Grids = Grid(n_y = self.grid_params['n_y'], rho = model_params['rho'],  sd_log_y = model_params['sd_log_y'], n_a = self.grid_params['n_a'], min_a = self.grid_params['min_a'], max_a = self.grid_params['max_a'])\n",
    "        # update model_params if necessary\n",
    "        if self.model_params != model_params:\n",
    "            self.model_params = model_params\n",
    "\n",
    "        # initialize value function derivative with guess\n",
    "        if self.V_a is None:\n",
    "            V_a = np.ones((self.grid_params['n_y'], self.grid_params['n_a']))\n",
    "        else:\n",
    "            V_a = self.V_a\n",
    "\n",
    "        for i in range(self.max_iter):\n",
    "            c, a_prime = backward_iteration(V_a, model_params['beta'], model_params['eis'], model_params['r'], self.Grids.grid_a, self.Grids.grid_y, self.Grids.Pi)\n",
    "            V_a_new = (1 + model_params['r']) * c **(-1/model_params['eis'])\n",
    "\n",
    "            if np.max(np.abs(V_a_new - V_a)) < self.tol:\n",
    "                break\n",
    "\n",
    "            V_a = V_a_new\n",
    "\n",
    "        self.c = c\n",
    "        self.a_prime = a_prime\n",
    "        self.V_a = V_a\n",
    "\n",
    "        return c, a_prime\n",
    "    \n",
    "    def distribution_ss(self, maxiter=10_000, tol=1E-10, verbose=False):\n",
    "        \n",
    "        assert self.a_prime is not None, \"solve_ss must be called first\"\n",
    "\n",
    "        Pi = self.Grids.Pi\n",
    "        grid_a = self.Grids.grid_a\n",
    "        policy = self.a_prime\n",
    "\n",
    "        indexes, q = get_lotteries(policy, grid_a)\n",
    "\n",
    "        # initialize distribution\n",
    "        D = np.ones_like(policy)/np.size(policy)\n",
    "\n",
    "        count, error = 0, 1\n",
    "        while error > tol and count < maxiter:\n",
    "            D_new = forward_iteration(indexes, q, Pi, D)\n",
    "            error = np.max(np.abs(D - D_new))\n",
    "            D = D_new.copy()\n",
    "            count += 1\n",
    "            \n",
    "        \n",
    "        if verbose : \n",
    "            print(\"max |D_t - D_t+1| = \", error, \"\\nnum iterations:\", count)\n",
    "\n",
    "        self.D = D\n",
    "\n",
    "        return D\n",
    "\n",
    "    def plot_policy(self, bound_grid = 0.4):\n",
    "        \"\"\" \n",
    "        Plot the policy function for the first 4 income states\n",
    "        bound_grid: float, fraction of the grid to plot\n",
    "        \"\"\"\n",
    "        rng_asset_grid = int(grid_params['n_a']*bound_grid)\n",
    "        fig, ax = plt.subplots()\n",
    "        for i_y, y in enumerate(self.Grids.grid_y[0:4]):\n",
    "            ax.plot(self.Grids.grid_a[0:rng_asset_grid], self.c[i_y, 0:rng_asset_grid], label = f'y = {y:.2f}')\n",
    "        ax.set(xlabel = r'$a$', ylabel = r'$c(y,a)$', title = 'Steady State Policy Function')\n",
    "        plt.legend(fontsize = 'small')\n",
    "        plt.show()"
   ]
  }
 ],
 "metadata": {
  "kernelspec": {
   "display_name": "pp4rs",
   "language": "python",
   "name": "python3"
  },
  "language_info": {
   "codemirror_mode": {
    "name": "ipython",
    "version": 3
   },
   "file_extension": ".py",
   "mimetype": "text/x-python",
   "name": "python",
   "nbconvert_exporter": "python",
   "pygments_lexer": "ipython3",
   "version": "3.11.1"
  }
 },
 "nbformat": 4,
 "nbformat_minor": 2
}
