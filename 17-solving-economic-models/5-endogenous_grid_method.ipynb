{
 "cells": [
  {
   "cell_type": "markdown",
   "metadata": {},
   "source": [
    "# Endogeneous Grid Method #\n",
    "In this notebook we discuss how to solve the household problem a la Aiyagari--this is the main building block of most HANK models--with fast, optimized methods. The main reference for this notebook is Matt Rognlie's code on which you can find under https://github.com/shade-econ/nber-workshop-2023/blob/bc3bbba90ab575f09c4c8a9e77b0b2fe88812cd1/Lectures/Lecture%201%2C%20Standard%20Incomplete%20Markets%20Steady%20State.ipynb (2024).\n",
    "\n",
    "## 1. **Incomplete Markets Model**\n",
    "The standard incomplete markets model features the following timing:\n",
    "\n",
    "- begin of period with asset returns $(1+r)a$ and stochastic income $y$.\n",
    "- allocate to assets tomorrow $a'$ and consumption today $c$\n",
    "- all subject to a borrowing constraint $a\\geq \\underline a$ and no ability to insure against idiosyncratic shocks: \n",
    "  $$ \n",
    "  \\begin{gather}\n",
    "    V(y, a) = \\max_{c, a'} u(c) + \\beta \\mathbb E[V(e', a') | y] \\\\\n",
    "    s.t.\\; a' = (1+r)a + y - c \\\\\n",
    "    a' \\geq \\underline a \n",
    "  \\end{gather}\n",
    "  $$\n",
    "\n",
    "  We model the income process as an AR(1), so \n",
    "  $$ y_t = \\rho y_{t-1} + e_t.$$\n",
    "  Since we would like to solve the whole model on a finite grid $\\mathcal{Y} \\times \\mathcal{A}$ with indices $(i_y, i_a)$, we need to discretize the income and the asset space. We already have functions to do this, applying the double-exponential grid space for assets, and the Rouwenhorst AR(1) process. "
   ]
  },
  {
   "cell_type": "code",
   "execution_count": 1,
   "metadata": {},
   "outputs": [],
   "source": [
    "import numpy as np\n",
    "import matplotlib.pyplot as plt\n",
    "\n",
    "# some useful plot defaults$\n",
    "plt.rcParams.update({'font.size' : 10, 'lines.linewidth' : 1.5, 'figure.figsize' : (4,3)})"
   ]
  },
  {
   "cell_type": "markdown",
   "metadata": {},
   "source": [
    "**Exercise:** Write and import a class called `Grids` which if supplied the correct parameters outputs asset and income grids, as well as transition matrix and steady state for income."
   ]
  },
  {
   "cell_type": "code",
   "execution_count": 2,
   "metadata": {},
   "outputs": [],
   "source": [
    "from utils_simm import Grid"
   ]
  },
  {
   "cell_type": "code",
   "execution_count": 3,
   "metadata": {},
   "outputs": [
    {
     "name": "stdout",
     "output_type": "stream",
     "text": [
      "the steady state is unique.\n"
     ]
    }
   ],
   "source": [
    "Grids = Grid(n_y = 10, rho = 0.975,  sd_log_y = 0.7, n_a = 100, min_a = 0, max_a = 10_000)"
   ]
  },
  {
   "cell_type": "markdown",
   "metadata": {},
   "source": [
    "## 2. **Backwards Iteration to Obtain Policy Functions**\n",
    "\n",
    "It is more efficient and accurate to use envelope condition and FOC to iterate on marginal value function $V_a$ instead of finding the value function itself. We do backwards iteration in time. Let $a_t'(y_t, a_t)$ be the policy function for next-period asset holdings. Assume that $u(c) = \\frac{c^{1-\\sigma}}{1-\\sigma}$, where $\\sigma$ is the elasiticity of intertemporal substitution (eis).\n",
    "\n",
    "For backward iteration, we use the **Envelope condition**,\n",
    "$$ V_{a,t}(e, a) = (1+r_t)u'(c_t(e, a))$$\n",
    "\n",
    "and the **First-Order Condition** (inequality binds if borrowing limit binds) \n",
    "\n",
    "$$u'(c_t(y, a)) \\geq \\beta \\mathbb E [V_{a, t+1}(y', a_t'(y, a))]|e]. $$\n",
    "\n",
    "repeatedly:\n",
    "\n",
    "**[Algorithm: Backward iteration in time]** \n",
    "\n",
    "Start at $t = T$, initialize $V_{a, T} = 1$. For $t< T$:\n",
    "1. Use $V_{a, t+1}$ to calculate RHS of FOC\n",
    "2. Solve for today's policies $a_t'(y, a)$, $c_t(y, a)$\n",
    "3. Using envelope condition, obtain marginal value function of today $V_{a, t}$\n",
    "\n",
    "We go through the steps in detail."
   ]
  },
  {
   "cell_type": "markdown",
   "metadata": {},
   "source": [
    "#### **Step 1** - Initialize, Set up Grids and Parameters"
   ]
  },
  {
   "cell_type": "code",
   "execution_count": 4,
   "metadata": {},
   "outputs": [
    {
     "name": "stdout",
     "output_type": "stream",
     "text": [
      "the steady state is unique.\n"
     ]
    }
   ],
   "source": [
    "model_params = {\n",
    "    'beta' : 0.95,\n",
    "    'r' : 0.03,\n",
    "    'eis' : 1.5,\n",
    "    'rho' : 0.975,\n",
    "    'sd_log_y' : 0.7\n",
    "}\n",
    "\n",
    "Grids = Grid(n_y = 15, rho = model_params['rho'],  sd_log_y = model_params['sd_log_y'], n_a = 100, min_a = 0, max_a = 10_000)"
   ]
  },
  {
   "cell_type": "code",
   "execution_count": 5,
   "metadata": {},
   "outputs": [],
   "source": [
    "# initial Va\n",
    "Va = np.ones((Grids.n_y, Grids.n_a))\n",
    "\n",
    "W = model_params['beta'] * Grids.Pi @ Va"
   ]
  },
  {
   "cell_type": "markdown",
   "metadata": {},
   "source": [
    "#### **Step 2** - Obtain $a^\\prime_{t}$, $W_{t}$\n",
    "We now write policy functions, marginal value function and associated objects as functions on the grid indices $i_y$ and $i_a$ whenever useful. We would like to solve for consumption policy using the FOC (assuming the constraint is slack)\n",
    "$$ u'(c_t) = W_{a,t}(y, a') \\Rightarrow c_t = \\left( W_{a,t}(y, a') \\right)^{-1/\\sigma}$$\n",
    "for each possible future asset level $a'$. Then we use the envelope condition and can obtain $V_t(y, a)$, where $a$ solves $a' = (1+r)a + y - c_t(y, a')$.\n",
    "\n",
    "**Problem:** The implied $a$ may not lie on the grid. Generally, we want $V_{t, a}(y, a)$ for fixed values of $a$ on the grid, not $V_{t, a}(y, a(a'))$, where $a(a')$ depends on the values of $a'\\in \\mathcal{A}$.\n",
    "\n",
    "Simple solution: For each fixed level of $y$...\n",
    "\n",
    "- Obtain the points $c_t(y, a)$, store in `c_endog[i_y, :]` (these are also called 'endogeneous grid points')\n",
    "- Compute $(1+r)^{-1} (a' + c_t(y, a') - y) = a$, and save the $a$ vector as `a_endog[i_y,:]`. We now have essentially a function $a(y, a')$\n",
    "- To invert for the policy function, $a'(y, a)$, use linear interpolation evaluated at $\\mathcal{A}$: `np.interpolate(grid_a, a_endog[i_y,:], grid_a)`\n",
    "- Enforce the borrowing constraint by `a_prime = np.maximum(a_prime, Grids.grid_a[0])`\n",
    "\n",
    "There is a slightly more efficient version of this algorithm using cash-on-hand. See Rognlie (2024).\n",
    "\n",
    "<!-- This requires that there is an entry $(y, a)$ on the grid such that $ a' = (1+r)a + y - c_t(y, a)$\n",
    "\n",
    "- if FOC holds with equality, then $$ c_t^{endog}(e, a') \\equiv c_t(e, a_t(e, a')) = u^{\\prime, -1}(W_{a,t}(e, a')) $$\n",
    "- this is time-$t$ consumption at the *endogenous gridpoint* $(e, a_t(e, a'))$; $a_t(e, a')$ is the asset level today which makes the household hold $a_t'$ tomorrow. How is $a_t(e, a')$ found?\n",
    "- Use budget constraint: $$c_t^{endog}(e, a') + a' = (1+r_t)a_t(e, a') + y_t(e) \\equiv coh_t(e, a_t(e, a'))$$\n",
    "- We can solve this equation for $a_t(e, a')$, BUT ultimately we want the inverse of this function, $a_t'(a ; e)$ defined on our grid.\n",
    "- Given mapping $a_t(e, a')$:\n",
    "  - Evaluate $(a_t(e, a'), a')$ on the grid of all $a'$ for a given $e$\n",
    "  - Treat $(a_t(e, a'), a')_{a' \\in grid}$ as sample points of function $a'_t(e, a)$!\n",
    "  - Linearly interpolate to evaluate $a'_t(e, a)$ on our grid of $a$.\n",
    "- Slightly more convenient alternative: use cash-on-hand!\n",
    "  - Get a collection of sample points $(coh_t(e, a_t(e, a')), a')$ evaluated at each gridpoint for $a'$\n",
    "  - Then linearly interpolate to get $a'$ for $coh_t$ for the actual value of $a$ (i.e. on the actual asset grid)\n",
    "- Need to do this separately for each $e$ -->"
   ]
  },
  {
   "cell_type": "code",
   "execution_count": 6,
   "metadata": {},
   "outputs": [],
   "source": [
    "c_endog = W ** (-1/model_params['eis'])\n",
    "a_endog = (1 + model_params['r'])**(-1) * (Grids.grid_a[np.newaxis, :] - Grids.grid_y[:, np.newaxis] + c_endog)\n",
    "a_prime = np.empty((Grids.n_y, Grids.n_a))\n",
    "\n",
    "for i_y in range(Grids.n_y):\n",
    "    a_prime[i_y, :] = np.interp(Grids.grid_a, a_endog[i_y, :], Grids.grid_a)\n",
    "\n",
    "#a_prime = np.maximum(a_prime, Grids.grid_a[0]) # enforce borrowing constraint. actually not needed because interp already does this\n",
    "\n",
    "# obtain the consumption policy\n",
    "c = (1 + model_params['r']) * (Grids.grid_a[np.newaxis, :] + Grids.grid_y[:, np.newaxis]) - a_prime"
   ]
  },
  {
   "cell_type": "markdown",
   "metadata": {},
   "source": [
    "We can look at the policy function after one iteration:"
   ]
  },
  {
   "cell_type": "code",
   "execution_count": 7,
   "metadata": {},
   "outputs": [
    {
     "data": {
      "image/png": "[encoded data removed]",
      "text/plain": [
       "<Figure size 400x300 with 1 Axes>"
      ]
     },
     "metadata": {},
     "output_type": "display_data"
    }
   ],
   "source": [
    "# plot policy function\n",
    "fig, ax = plt.subplots()\n",
    "for i_y in range(Grids.n_y):\n",
    "    ax.plot(Grids.grid_a[0:40], a_prime[i_y, 0:40], label = f'y = {Grids.grid_y[i_y]:.2f}')\n",
    "ax.set(xlabel = r'$a$', ylabel = r'$a^{\\prime}$', title = 'Policy function after 1 iteration')\n",
    "plt.show()"
   ]
  },
  {
   "cell_type": "markdown",
   "metadata": {},
   "source": [
    "#### **Step 3** - Obtain $V_{t, a}$"
   ]
  },
  {
   "cell_type": "code",
   "execution_count": 8,
   "metadata": {},
   "outputs": [],
   "source": [
    "V_a = (1 + model_params['r']) * c **(-1/model_params['eis']) # update value function derivative"
   ]
  },
  {
   "cell_type": "markdown",
   "metadata": {},
   "source": [
    "### **Combine Steps into single Backward Iteration**\n",
    "Now we write a function which takes as input a marginal value function, income and asset grids, preference parameters and transition matrices to compute a single backward iteration and output objects `V_a, a, c`."
   ]
  },
  {
   "cell_type": "code",
   "execution_count": 9,
   "metadata": {},
   "outputs": [],
   "source": [
    "def backward_iteration(V_a, beta, eis, r, grid_a, grid_y, Pi):\n",
    "\n",
    "    n_y, n_a = grid_y.size, grid_a.size\n",
    "    W = beta * Pi @ V_a\n",
    "\n",
    "    c_endog = W ** (-1/eis)\n",
    "    a_endog = (1 + r)**(-1) * (grid_a[np.newaxis, :] - grid_y[:, np.newaxis] + c_endog)\n",
    "    a_prime = np.empty((n_y, n_a))\n",
    "\n",
    "    for i_y in range(Grids.n_y):\n",
    "        a_prime[i_y, :] = np.interp(grid_a, a_endog[i_y, :], grid_a)\n",
    "\n",
    "    #a_prime = np.maximum(a_prime, Grids.grid_a[0]) # enforce borrowing constraint. actually not needed because interp already does this\n",
    "\n",
    "    # obtain the consumption policy\n",
    "    c = (1 + r) * (grid_a[np.newaxis, :] + grid_y[:, np.newaxis]) - a_prime\n",
    "\n",
    "    return c, a_prime\n",
    "\n",
    "# test the function\n",
    "c, a_prime = backward_iteration(V_a, model_params['beta'], model_params['eis'], model_params['r'], Grids.grid_a, Grids.grid_y, Grids.Pi)"
   ]
  },
  {
   "cell_type": "markdown",
   "metadata": {},
   "source": [
    "And we can solve the entire household problem for steady-state policies."
   ]
  },
  {
   "cell_type": "code",
   "execution_count": 10,
   "metadata": {},
   "outputs": [
    {
     "name": "stdout",
     "output_type": "stream",
     "text": [
      "the steady state is unique.\n"
     ]
    },
    {
     "data": {
      "image/png": "[encoded data removed]",
      "text/plain": [
       "<Figure size 400x300 with 1 Axes>"
      ]
     },
     "metadata": {},
     "output_type": "display_data"
    }
   ],
   "source": [
    "grid_params = {\n",
    "    'n_y' : 7,\n",
    "    'n_a' : 500,\n",
    "    'min_a' : 0,\n",
    "    'max_a' : 10_000\n",
    "}\n",
    "\n",
    "model_params = {\n",
    "    'beta' : 1-0.08/4, # quarterly discount factor\n",
    "    'r' : 0.01/4, # quarterly interest rate\n",
    "    'eis' : 1,\n",
    "    'rho' : 0.975,\n",
    "    'sd_log_y' : 0.7\n",
    "}\n",
    "\n",
    "class SteadyStateHH:\n",
    "\n",
    "    def __init__(self, model_params, grid_params, tol = 1e-6, max_iter = 1_000):\n",
    "        self.model_params = model_params\n",
    "        self.grid_params = grid_params\n",
    "        self.Grids = Grid(n_y = grid_params['n_y'], rho = model_params['rho'],  sd_log_y = model_params['sd_log_y'], n_a = grid_params['n_a'], min_a = grid_params['min_a'], max_a = grid_params['max_a'])\n",
    "        self.tol = tol\n",
    "        self.max_iter = max_iter\n",
    "        self.c = None\n",
    "        self.a_prime = None\n",
    "        self.V_a = None\n",
    "\n",
    "    def backward_iteration(self, V_a):\n",
    "\n",
    "        W = self.model_params['beta'] * self.Grids.Pi @ V_a\n",
    "\n",
    "        c_endog = W ** (-1/self.model_params['eis'])\n",
    "        a_endog = (1 + self.model_params['r'])**(-1) * (self.Grids.grid_a[np.newaxis, :] - self.Grids.grid_y[:, np.newaxis] + c_endog)\n",
    "        a_prime = np.empty((self.grid_params['n_y'], self.grid_params['n_a']))\n",
    "\n",
    "        for i_y in range(self.grid_params['n_y']):\n",
    "            a_prime[i_y, :] = np.interp(self.Grids.grid_a, a_endog[i_y, :], self.Grids.grid_a)\n",
    "\n",
    "        #a_prime = np.maximum(a_prime, self.Grids.grid_a[0]) \n",
    "\n",
    "        # obtain the consumption policy\n",
    "        c = (1 + self.model_params['r']) * (self.Grids.grid_a[np.newaxis, :] + self.Grids.grid_y[:, np.newaxis]) - a_prime\n",
    "\n",
    "        return c, a_prime\n",
    "    \n",
    "    def solve_ss(self):\n",
    "            \n",
    "        # initialize value function derivative with guess\n",
    "        if self.V_a is None:\n",
    "            V_a = np.ones((self.grid_params['n_y'], self.grid_params['n_a']))\n",
    "        else:\n",
    "            V_a = self.V_a\n",
    "\n",
    "        for i in range(self.max_iter):\n",
    "            c, a_prime = self.backward_iteration(V_a)\n",
    "            V_a_new = (1 + self.model_params['r']) * c **(-1/self.model_params['eis'])\n",
    "\n",
    "            if np.max(np.abs(V_a_new - V_a)) < self.tol:\n",
    "                break\n",
    "\n",
    "            V_a = V_a_new\n",
    "\n",
    "        self.c = c\n",
    "        self.a_prime = a_prime\n",
    "        self.V_a = V_a\n",
    "\n",
    "        return c, a_prime\n",
    "    \n",
    "    def plot_policy(self, bound_grid = 0.4):\n",
    "        \"\"\" \n",
    "        Plot the policy function for the first 4 income states\n",
    "        bound_grid: float, fraction of the grid to plot\n",
    "        \"\"\"\n",
    "        rng_asset_grid = int(grid_params['n_a']*bound_grid)\n",
    "        fig, ax = plt.subplots()\n",
    "        for i_y, y in enumerate(self.Grids.grid_y[0:4]):\n",
    "            ax.plot(self.Grids.grid_a[0:rng_asset_grid], self.c[i_y, 0:rng_asset_grid], label = f'y = {y:.2f}')\n",
    "        ax.set(xlabel = r'$a$', ylabel = r'$c(y,a)$', title = 'Steady State Policy Function')\n",
    "        plt.legend(fontsize = 'small')\n",
    "        plt.show()\n",
    "\n",
    "ss = SteadyStateHH(model_params, grid_params)\n",
    "ss.solve_ss()\n",
    "ss.c, ss.a_prime\n",
    "ss.plot_policy(0.2)"
   ]
  },
  {
   "cell_type": "markdown",
   "metadata": {},
   "source": [
    "**Exercise:** Refactor the code in order to use `@njit`."
   ]
  },
  {
   "cell_type": "code",
   "execution_count": 11,
   "metadata": {},
   "outputs": [],
   "source": [
    "from numba import njit\n",
    "\n",
    "@njit\n",
    "def backward_iteration(V_a, beta, eis, r, grid_a, grid_y, Pi):\n",
    "    W = beta * Pi @ V_a\n",
    "\n",
    "    c_endog = W ** (-1/eis)\n",
    "    a_endog = (1 + r)**(-1) * (grid_a[np.newaxis, :] - grid_y[:, np.newaxis] + c_endog)\n",
    "    a_prime = np.empty((grid_y.shape[0], grid_a.shape[0]))\n",
    "\n",
    "    for i_y in range(grid_y.shape[0]):\n",
    "        a_prime[i_y, :] = np.interp(grid_a, a_endog[i_y, :], grid_a)\n",
    "\n",
    "    c = (1 + r) * (grid_a[np.newaxis, :] + grid_y[:, np.newaxis]) - a_prime\n",
    "\n",
    "    return c, a_prime\n",
    "\n",
    "class SteadyStateHH:\n",
    "\n",
    "    def __init__(self, model_params, grid_params, tol = 1e-6, max_iter = 1_000):\n",
    "        self.model_params = model_params\n",
    "        self.grid_params = grid_params\n",
    "        self.Grids = Grid(n_y = grid_params['n_y'], rho = model_params['rho'],  sd_log_y = model_params['sd_log_y'], n_a = grid_params['n_a'], min_a = grid_params['min_a'], max_a = grid_params['max_a'])\n",
    "        self.tol = tol\n",
    "        self.max_iter = max_iter\n",
    "        self.c = None\n",
    "        self.a_prime = None\n",
    "        self.V_a = None\n",
    "\n",
    "    # adding the model_params as an argument allows solving for different parameterizations\n",
    "    def solve_ss(self, model_params):\n",
    "\n",
    "        # update grid if necessary\n",
    "        if (self.model_params['rho'], self.model_params['sd_log_y']) != (model_params['rho'], model_params['sd_log_y']):\n",
    "            self.Grids = Grid(n_y = self.grid_params['n_y'], rho = model_params['rho'],  sd_log_y = model_params['sd_log_y'], n_a = self.grid_params['n_a'], min_a = self.grid_params['min_a'], max_a = self.grid_params['max_a'])\n",
    "        # update model_params if necessary\n",
    "        if self.model_params != model_params:\n",
    "            self.model_params = model_params\n",
    "\n",
    "        # initialize value function derivative with guess\n",
    "        if self.V_a is None:\n",
    "            V_a = np.ones((self.grid_params['n_y'], self.grid_params['n_a']))\n",
    "        else:\n",
    "            V_a = self.V_a\n",
    "\n",
    "        for i in range(self.max_iter):\n",
    "            c, a_prime = backward_iteration(V_a, model_params['beta'], model_params['eis'], model_params['r'], self.Grids.grid_a, self.Grids.grid_y, self.Grids.Pi)\n",
    "            V_a_new = (1 + model_params['r']) * c **(-1/model_params['eis'])\n",
    "\n",
    "            if np.max(np.abs(V_a_new - V_a)) < self.tol:\n",
    "                break\n",
    "\n",
    "            V_a = V_a_new\n",
    "\n",
    "        self.c = c\n",
    "        self.a_prime = a_prime\n",
    "        self.V_a = V_a\n",
    "\n",
    "        return c, a_prime\n",
    "    \n",
    "    def plot_policy(self, bound_grid = 0.4):\n",
    "        \"\"\" \n",
    "        Plot the policy function for the first 4 income states\n",
    "        bound_grid: float, fraction of the grid to plot\n",
    "        \"\"\"\n",
    "        rng_asset_grid = int(grid_params['n_a']*bound_grid)\n",
    "        fig, ax = plt.subplots()\n",
    "        for i_y, y in enumerate(self.Grids.grid_y[0:4]):\n",
    "            ax.plot(self.Grids.grid_a[0:rng_asset_grid], self.c[i_y, 0:rng_asset_grid], label = f'y = {y:.2f}')\n",
    "        ax.set(xlabel = r'$a$', ylabel = r'$c(y,a)$', title = 'Steady State Policy Function')\n",
    "        plt.legend(fontsize = 'small')\n",
    "        plt.show()"
   ]
  },
  {
   "cell_type": "code",
   "execution_count": 12,
   "metadata": {},
   "outputs": [
    {
     "name": "stdout",
     "output_type": "stream",
     "text": [
      "the steady state is unique.\n"
     ]
    },
    {
     "data": {
      "image/png": "[encoded data removed]",
      "text/plain": [
       "<Figure size 400x300 with 1 Axes>"
      ]
     },
     "metadata": {},
     "output_type": "display_data"
    }
   ],
   "source": [
    "ss = SteadyStateHH(model_params, grid_params)\n",
    "ss.solve_ss(model_params=ss.model_params)\n",
    "ss.c, ss.a_prime\n",
    "ss.plot_policy(0.2)"
   ]
  },
  {
   "cell_type": "code",
   "execution_count": 17,
   "metadata": {},
   "outputs": [
    {
     "name": "stdout",
     "output_type": "stream",
     "text": [
      "the steady state is unique.\n",
      "the steady state is unique.\n",
      "the steady state is unique.\n",
      "the steady state is unique.\n",
      "the steady state is unique.\n",
      "the steady state is unique.\n",
      "the steady state is unique.\n",
      "the steady state is unique.\n",
      "the steady state is unique.\n",
      "the steady state is unique.\n",
      "the steady state is unique.\n",
      "the steady state is unique.\n",
      "the steady state is unique.\n",
      "the steady state is unique.\n",
      "the steady state is unique.\n",
      "the steady state is unique.\n",
      "the steady state is unique.\n",
      "the steady state is unique.\n",
      "the steady state is unique.\n",
      "the steady state is unique.\n",
      "the steady state is unique.\n",
      "the steady state is unique.\n",
      "the steady state is unique.\n",
      "the steady state is unique.\n",
      "the steady state is unique.\n",
      "the steady state is unique.\n",
      "the steady state is unique.\n",
      "the steady state is unique.\n",
      "the steady state is unique.\n",
      "the steady state is unique.\n",
      "the steady state is unique.\n",
      "the steady state is unique.\n",
      "the steady state is unique.\n",
      "the steady state is unique.\n",
      "the steady state is unique.\n",
      "the steady state is unique.\n",
      "the steady state is unique.\n",
      "the steady state is unique.\n",
      "the steady state is unique.\n",
      "the steady state is unique.\n",
      "the steady state is unique.\n",
      "the steady state is unique.\n",
      "the steady state is unique.\n",
      "the steady state is unique.\n",
      "the steady state is unique.\n",
      "the steady state is unique.\n",
      "the steady state is unique.\n",
      "the steady state is unique.\n",
      "the steady state is unique.\n",
      "the steady state is unique.\n",
      "the steady state is unique.\n",
      "the steady state is unique.\n",
      "the steady state is unique.\n",
      "the steady state is unique.\n",
      "the steady state is unique.\n",
      "the steady state is unique.\n",
      "the steady state is unique.\n",
      "the steady state is unique.\n",
      "the steady state is unique.\n",
      "the steady state is unique.\n",
      "the steady state is unique.\n",
      "the steady state is unique.\n",
      "the steady state is unique.\n",
      "the steady state is unique.\n",
      "the steady state is unique.\n",
      "the steady state is unique.\n",
      "the steady state is unique.\n",
      "the steady state is unique.\n",
      "the steady state is unique.\n",
      "the steady state is unique.\n",
      "the steady state is unique.\n",
      "the steady state is unique.\n",
      "the steady state is unique.\n",
      "the steady state is unique.\n",
      "the steady state is unique.\n",
      "the steady state is unique.\n",
      "the steady state is unique.\n",
      "the steady state is unique.\n",
      "the steady state is unique.\n",
      "the steady state is unique.\n",
      "the steady state is unique.\n",
      "70.4 ms ± 1.92 ms per loop (mean ± std. dev. of 7 runs, 10 loops each)\n"
     ]
    }
   ],
   "source": [
    "%%timeit \n",
    "ss = SteadyStateHH(model_params, grid_params)\n",
    "ss.solve_ss(model_params=ss.model_params)"
   ]
  },
  {
   "cell_type": "code",
   "execution_count": 16,
   "metadata": {},
   "outputs": [
    {
     "data": {
      "text/plain": [
       "(array([[1.41722822e-01, 1.46412415e-01, 1.50292317e-01, ...,\n",
       "         1.86182818e+02, 1.94981292e+02, 2.04215800e+02],\n",
       "        [2.50991933e-01, 2.55681526e-01, 2.60415096e-01, ...,\n",
       "         1.86403939e+02, 1.95202357e+02, 2.04436700e+02],\n",
       "        [4.44508157e-01, 4.49197750e-01, 4.53931320e-01, ...,\n",
       "         1.86684758e+02, 1.95483026e+02, 2.04717044e+02],\n",
       "        ...,\n",
       "        [1.34562866e+00, 1.34617631e+00, 1.34672238e+00, ...,\n",
       "         1.87539703e+02, 1.96337168e+02, 2.05569687e+02],\n",
       "        [2.11335992e+00, 2.11362938e+00, 2.11390126e+00, ...,\n",
       "         1.88211194e+02, 1.97007799e+02, 2.06238802e+02],\n",
       "        [3.17854812e+00, 3.17874042e+00, 3.17893450e+00, ...,\n",
       "         1.89156862e+02, 1.97952041e+02, 2.07180594e+02]]),\n",
       " array([[0.00000000e+00, 0.00000000e+00, 8.53668052e-04, ...,\n",
       "         8.93360537e+03, 9.36572181e+03, 9.82092592e+03],\n",
       "        [0.00000000e+00, 0.00000000e+00, 0.00000000e+00, ...,\n",
       "         8.93349352e+03, 9.36561001e+03, 9.82081429e+03],\n",
       "        [0.00000000e+00, 0.00000000e+00, 0.00000000e+00, ...,\n",
       "         8.93340622e+03, 9.36552286e+03, 9.82072746e+03],\n",
       "        ...,\n",
       "        [4.85540026e-02, 5.26959516e-02, 5.68834457e-02, ...,\n",
       "         8.93350095e+03, 9.36561839e+03, 9.82082450e+03],\n",
       "        [3.55745601e-01, 3.60165727e-01, 3.64627417e-01, ...,\n",
       "         8.93390438e+03, 9.36602268e+03, 9.82123030e+03],\n",
       "        [1.19425196e+00, 1.19874925e+00, 1.20328874e+00, ...,\n",
       "         8.93486241e+03, 9.36698214e+03, 9.82219221e+03]]))"
      ]
     },
     "execution_count": 16,
     "metadata": {},
     "output_type": "execute_result"
    }
   ],
   "source": [
    "ss.solve_ss(model_params=ss.model_params)"
   ]
  },
  {
   "cell_type": "markdown",
   "metadata": {},
   "source": [
    "## 3. **Forward Iteration to Obtain Distribution**\n",
    "\n",
    "With steady-state policies at hand, we can compute the distribution of next-period asset holdings, $D_{t+1}(y, a)$ given the current distribution $D_t$. Assume for a moment that $a'$ maps assets on the grid $\\mathcal A$. Then \n",
    "\n",
    "$$D_{t+1}(y, a) = \\sum_{\\bar y \\in \\mathcal Y} \\sum_{\\bar a \\in \\mathcal A} D_{t}(\\bar y, \\bar a) \\mathbb P(\\bar y | y) \\mathbb I(a'(\\bar y, \\bar a) = a) $$\n",
    "\n",
    "Problem: $a'(e, a)$ does not map into $\\mathcal A$. Possible solution: **Lotteries**.\n",
    "\n",
    "Basic idea is that if $a'(e, a) = a' \\in [a_i, a_{i+1}]$ for two consecutive grid points $a_i, a_{i+1}$, then a fraction $q(y, a) = \\frac{a_{i+1} - a'}{a_{i+1} - a_{i}}$ of the population lands on the lower gridpoint.\n",
    "\n",
    "<!-- Start with a discretized distribution with mass on each gridpoint, $D_t(e, a)$. Then send $p(e, a)$ of mass to gridpoint $i(e, a)$ and $1-p(e, a)$ to gridpoint $i(e, a)+1$.   -->"
   ]
  },
  {
   "cell_type": "markdown",
   "metadata": {},
   "source": [
    "Let $a^+$ be the next highest grid point on the asset grid, and $a^-$ the next lowest. \n",
    "\n",
    "$$\\begin{align}\n",
    "D_{t+1}(y, a) &= \\sum_{\\bar y \\in \\mathcal Y} \\sum_{\\bar a \\in \\mathcal A} D_{t}(\\bar y, \\bar a) \\mathbb P(\\bar y | y) \\underbrace{\\left[ \\mathbb I(a'(\\bar y, \\bar a)^+ = a) \\frac{ a' - a^-}{a^+ - a^-} + \\mathbb I(a'(\\bar y, \\bar a)^- = a) \\frac{ a^+ - a'}{a^+ - a^-} \\right]}_{\\equiv \\mu( \\bar y, \\bar a, a)} \\\\\n",
    "&= \\sum_{\\bar y \\in \\mathcal Y} \\sum_{\\bar a \\in \\mathcal A} D_{t}(\\bar y, \\bar a) \\mu( \\bar y, \\bar a, a) \\mathbb P(\\bar y | y) \\\\\n",
    "&= \\sum_{\\bar y \\in \\mathcal Y}  \\mathbb P(\\bar y | y) \\sum_{\\bar a \\in \\mathcal A} D_{t}(\\bar y, \\bar a) \\mu( \\bar y, \\bar a, a) \n",
    "\\end{align}$$\n",
    "\n",
    "We can pre-compute the lottery array $\\mu$ to handle the forward iteration. Still, this approach is very inefficient.\n",
    "\n",
    "**Exercise:** Explain what is so inefficient about our approach?\n",
    "\n",
    "**Exercise:** Write a function to compute `mu`"
   ]
  },
  {
   "cell_type": "code",
   "execution_count": 19,
   "metadata": {},
   "outputs": [
    {
     "ename": "AttributeError",
     "evalue": "'SteadyStateHH' object has no attribute 'policy'",
     "output_type": "error",
     "traceback": [
      "\u001b[1;31m---------------------------------------------------------------------------\u001b[0m",
      "\u001b[1;31mAttributeError\u001b[0m                            Traceback (most recent call last)",
      "Cell \u001b[1;32mIn[19], line 26\u001b[0m\n\u001b[0;32m     22\u001b[0m                     \u001b[38;5;28;01mcontinue\u001b[39;00m\n\u001b[0;32m     24\u001b[0m     \u001b[38;5;28;01mreturn\u001b[39;00m mu\n\u001b[1;32m---> 26\u001b[0m mu \u001b[38;5;241m=\u001b[39m get_mu(\u001b[43mss\u001b[49m\u001b[38;5;241;43m.\u001b[39;49m\u001b[43mpolicy\u001b[49m, grid_a, grid_y)\n\u001b[0;32m     28\u001b[0m get_ipython()\u001b[38;5;241m.\u001b[39mrun_line_magic(\u001b[38;5;124m'\u001b[39m\u001b[38;5;124mtimeit\u001b[39m\u001b[38;5;124m'\u001b[39m, \u001b[38;5;124m'\u001b[39m\u001b[38;5;124mget_mu(policy, grid_a, grid_y)\u001b[39m\u001b[38;5;124m'\u001b[39m)\n",
      "\u001b[1;31mAttributeError\u001b[0m: 'SteadyStateHH' object has no attribute 'policy'"
     ]
    }
   ],
   "source": [
    "# Inefficient way to compute lotteries\n",
    "@njit\n",
    "def get_mu(policy, grid_a, grid_y):\n",
    "\n",
    "    assert (policy - grid_a.max()).max() <= 0 and (policy - grid_a.min()).min() >= 0 # make sure policy is within bounds of grid_a\n",
    "\n",
    "    n_a = np.shape(grid_a)[0]\n",
    "    n_y = np.shape(grid_y)[0]\n",
    "    mu = np.zeros((n_y, n_a, n_a), dtype=np.float64)\n",
    "    for index_a in range(len(grid_a)):\n",
    "        for index_a_bar in range(len(grid_a)):\n",
    "            for index_y_bar in range(len(grid_y)):\n",
    "                \n",
    "                if (grid_a[index_a] >= policy[index_y_bar, index_a_bar]) and (grid_a[index_a - 1] <= policy[index_y_bar, index_a_bar]) :\n",
    "                    p_plus = (policy[index_y_bar, index_a_bar] - grid_a[index_a - 1]) / (grid_a[index_a] - grid_a[index_a-1])\n",
    "                    mu[index_y_bar, index_a_bar, index_a]   += p_plus \n",
    "                    continue\n",
    "                \n",
    "                if (grid_a[index_a] <= policy[index_y_bar, index_a_bar]) and (grid_a[index_a + 1] >= policy[index_y_bar, index_a_bar]) :\n",
    "                    p_minus = (grid_a[index_a + 1] - policy[index_y_bar, index_a_bar]) / (grid_a[index_a+1] - grid_a[index_a])\n",
    "                    mu[index_y_bar, index_a_bar, index_a]   += p_minus \n",
    "                    continue\n",
    "\n",
    "    return mu\n",
    "\n",
    "mu = get_mu(ss.a_prime, ss.Grids.grid_a, ss.Grids.grid_y)\n",
    "\n",
    "\n",
    "\n",
    "\n",
    "%timeit get_mu(policy, grid_a, grid_y)"
   ]
  },
  {
   "cell_type": "markdown",
   "metadata": {},
   "source": [
    "Instead, consider where the mass of $D_t(y, a)$ is sent to. For $y$ fixed, $D_t(y, a) \\dfrac{a'(y, a) - a'(y, a)^-}{a'(y, a)^+ - a'(y, a)^-} = D_t(y, a) q(y, a)$ is sent to $a'(y, a)^+$ and $D_t(y, a) (1-q(y, a))$ is sent to $a'(y, a)^-$. Proceeding over all $(y, a)$, we obtain $\\tilde D_t(\\cdot, \\cdot)$, the distribution after asset choices were made and before income shocks realized.\n",
    "\n",
    "We now write a function to obtain the $q$ (the lotteries) and the indices of $a'(y, a)^+$, where the masses in the distribution are sent to. Once we got `q` and `indexes`, we can use these objects in every forward iteration on $D_t$."
   ]
  },
  {
   "cell_type": "code",
   "execution_count": 20,
   "metadata": {},
   "outputs": [
    {
     "ename": "NameError",
     "evalue": "name 'indexes' is not defined",
     "output_type": "error",
     "traceback": [
      "\u001b[1;31m---------------------------------------------------------------------------\u001b[0m",
      "\u001b[1;31mNameError\u001b[0m                                 Traceback (most recent call last)",
      "Cell \u001b[1;32mIn[20], line 23\u001b[0m\n\u001b[0;32m     19\u001b[0m     D_new \u001b[38;5;241m=\u001b[39m Pi \u001b[38;5;241m@\u001b[39m D_new\n\u001b[0;32m     21\u001b[0m     \u001b[38;5;28;01mreturn\u001b[39;00m D_new\n\u001b[1;32m---> 23\u001b[0m forward_iteration(\u001b[43mindexes\u001b[49m, q, Pi, D)\n",
      "\u001b[1;31mNameError\u001b[0m: name 'indexes' is not defined"
     ]
    }
   ],
   "source": [
    "def get_lotteries(policy, grid_a):\n",
    "\n",
    "    indexes = np.searchsorted(grid_a, policy) # indexes corresponding to a'(y, a)+  (function returns i with a[i-1] < v <= a[i])\n",
    "    q = (policy - grid_a[indexes - 1]) / (grid_a[indexes] - grid_a[indexes - 1]) # lotteries\n",
    "    return indexes, q\n",
    "\n",
    "# forward iteration\n",
    "@njit\n",
    "def forward_iteration(indexes, q, Pi, D):\n",
    "    n_y, n_a = D.shape\n",
    "    D_new = np.zeros((n_y, n_a))\n",
    "    for y in range(n_y):\n",
    "        for a in range(n_a):\n",
    "            \n",
    "            D_new[y, indexes[y, a]]   += q[y, a] * D[y, a]\n",
    "            D_new[y, indexes[y, a]-1]     += (1 - q[y, a]) * D[y, a]\n",
    "\n",
    "    # D_new is D_tilde right now. Now we need to update D_tilde using Pi\n",
    "    D_new = Pi @ D_new\n",
    "\n",
    "    return D_new\n",
    "\n",
    "forward_iteration(indexes, q, Pi, D)"
   ]
  },
  {
   "cell_type": "markdown",
   "metadata": {},
   "source": [
    "Note that, when calculating `D_new = Pi @ D_new`, row $i_y$ corresponding to state $y$ will hold the vector \n",
    "$$[\\Pi \\tilde D]_{i_y} = (\\pi(i_y, 1), ...,\\pi(i_y, n_y)) \\tilde D = [\\pi(i_y, 1)\\tilde D(1, i_a) + ... +\\pi(i_y, n_y)\\tilde D(n_y, i_a)]_{i_a =1,...,n_a}.$$\n",
    "\n",
    "Finally, we compute the steady state distribution by iterating until convergence:"
   ]
  },
  {
   "cell_type": "code",
   "execution_count": null,
   "metadata": {},
   "outputs": [],
   "source": [
    "def distribution_ss(Pi, policy, grid_a, maxiter=10_000, tol=1E-10, verbose=False):\n",
    "    \n",
    "    indexes, q = get_lotteries(policy, grid_a)\n",
    "\n",
    "    # initialize distribution\n",
    "    D = np.ones_like(policy)/np.size(policy)\n",
    "\n",
    "    count, error = 0, 1\n",
    "    while error > tol and count < maxiter:\n",
    "        D_new = forward_iteration(indexes, q, Pi, D)\n",
    "        error = np.max(np.abs(D - D_new))\n",
    "        D = D_new.copy()\n",
    "        count += 1\n",
    "        \n",
    "    \n",
    "    if verbose : \n",
    "        print(\"max |D_t - D_t+1| = \", error, \"\\nnum iterations:\", count)\n",
    "\n",
    "    return D"
   ]
  },
  {
   "cell_type": "code",
   "execution_count": null,
   "metadata": {},
   "outputs": [],
   "source": [
    "D_ss = distribution_ss(Pi, policy, grid_a, maxiter=1000, tol=1E-10, verbose=True)\n",
    "\n",
    "%timeit distribution_ss(Pi, policy, grid_a, maxiter=1000, tol=1E-10, verbose=False)"
   ]
  },
  {
   "cell_type": "markdown",
   "metadata": {},
   "source": [
    "### **Using the SteadyStateHH Module**\n",
    "\n",
    "**Exercise:** Add the computation of steady state $D$ to the `SteadyStateHH` class. Import it from another file and run it.\n",
    "\n",
    "Note: restart the kernel before re-importing the classes. "
   ]
  },
  {
   "cell_type": "code",
   "execution_count": null,
   "metadata": {},
   "outputs": [],
   "source": [
    "from utils_simm import *\n",
    "\n",
    "grid_params = {\n",
    "    'n_y' : 7,\n",
    "    'n_a' : 500,\n",
    "    'min_a' : 0,\n",
    "    'max_a' : 10_000\n",
    "}\n",
    "\n",
    "model_params = {\n",
    "    'beta' : 1-0.08/4, # quarterly discount factor\n",
    "    'r' : 0.01/4, # quarterly interest rate\n",
    "    'eis' : 1,\n",
    "    'rho' : 0.975,\n",
    "    'sd_log_y' : 0.7\n",
    "}\n",
    "\n",
    "print(model_params, \"\\n\",grid_params, sep=\"\")\n",
    "# create steady state object\n",
    "ss = SteadyStateHH(model_params, grid_params)"
   ]
  },
  {
   "cell_type": "code",
   "execution_count": null,
   "metadata": {},
   "outputs": [],
   "source": [
    "# solve for steady state\n",
    "ss.solve_ss(ss.model_params)\n",
    "\n",
    "ss.distribution_ss()"
   ]
  }
 ],
 "metadata": {
  "kernelspec": {
   "display_name": "pp4rs",
   "language": "python",
   "name": "python3"
  },
  "language_info": {
   "codemirror_mode": {
    "name": "ipython",
    "version": 3
   },
   "file_extension": ".py",
   "mimetype": "text/x-python",
   "name": "python",
   "nbconvert_exporter": "python",
   "pygments_lexer": "ipython3",
   "version": "3.11.1"
  }
 },
 "nbformat": 4,
 "nbformat_minor": 2
}
